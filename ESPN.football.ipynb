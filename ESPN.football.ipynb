{
 "cells": [
  {
   "cell_type": "code",
   "execution_count": 4,
   "metadata": {},
   "outputs": [],
   "source": [
    "#load data\n",
    "import pandas as pd\n",
    "from pandas import Series, DataFrame\n",
    "import matplotlib.pyplot as plt\n",
    "from datetime import datetime, timedelta\n",
    "import numpy as np\n",
    "import matplotlib.pyplot as plt\n",
    "import seaborn as sns\n",
    "import re\n",
    "import plotly.express as px\n",
    "import plotly.graph_objects as go\n",
    "\n",
    "\n"
   ]
  },
  {
   "cell_type": "code",
   "execution_count": 5,
   "metadata": {},
   "outputs": [],
   "source": [
    "def get_college_football_week():\n",
    "    # Define the start date of the college football season\n",
    "    start_date = datetime(2023, 8, 26) \n",
    "\n",
    "    # Get the current date\n",
    "    current_date = datetime.today()\n",
    "\n",
    "    # Calculate the difference in days from the start date\n",
    "    days_difference = (current_date - start_date).days\n",
    "\n",
    "    # Calculate the week based on a 7-day week\n",
    "    college_football_week = (days_difference // 7) + 1\n",
    "    \n",
    "    if college_football_week>16:\n",
    "        college_football_week=16\n",
    "        \n",
    "\n",
    "    return int(college_football_week-1)"
   ]
  },
  {
   "cell_type": "code",
   "execution_count": 6,
   "metadata": {},
   "outputs": [],
   "source": [
    "#read data with Pandas from CSV file\n",
    "\n",
    "NCAA_df = pd.read_csv(\"data/defense.csv\")"
   ]
  },
  {
   "cell_type": "code",
   "execution_count": 7,
   "metadata": {},
   "outputs": [
    {
     "data": {
      "text/html": [
       "<div>\n",
       "<style scoped>\n",
       "    .dataframe tbody tr th:only-of-type {\n",
       "        vertical-align: middle;\n",
       "    }\n",
       "\n",
       "    .dataframe tbody tr th {\n",
       "        vertical-align: top;\n",
       "    }\n",
       "\n",
       "    .dataframe thead th {\n",
       "        text-align: right;\n",
       "    }\n",
       "</style>\n",
       "<table border=\"1\" class=\"dataframe\">\n",
       "  <thead>\n",
       "    <tr style=\"text-align: right;\">\n",
       "      <th></th>\n",
       "      <th>Player</th>\n",
       "      <th>School</th>\n",
       "      <th>POS</th>\n",
       "      <th>SOLO</th>\n",
       "      <th>AST</th>\n",
       "      <th>TOT</th>\n",
       "      <th>SACK</th>\n",
       "      <th>YDS</th>\n",
       "      <th>PD</th>\n",
       "      <th>INT</th>\n",
       "      <th>LNG</th>\n",
       "      <th>TD</th>\n",
       "      <th>FF</th>\n",
       "    </tr>\n",
       "  </thead>\n",
       "  <tbody>\n",
       "    <tr>\n",
       "      <th>0</th>\n",
       "      <td>Jason Henderson</td>\n",
       "      <td>ODU</td>\n",
       "      <td>LB</td>\n",
       "      <td>41</td>\n",
       "      <td>98</td>\n",
       "      <td>139</td>\n",
       "      <td>4.0</td>\n",
       "      <td>23</td>\n",
       "      <td>0</td>\n",
       "      <td>0</td>\n",
       "      <td>0</td>\n",
       "      <td>0</td>\n",
       "      <td>0</td>\n",
       "    </tr>\n",
       "    <tr>\n",
       "      <th>1</th>\n",
       "      <td>Tyrice Knight</td>\n",
       "      <td>UTEP</td>\n",
       "      <td>LB</td>\n",
       "      <td>71</td>\n",
       "      <td>45</td>\n",
       "      <td>116</td>\n",
       "      <td>3.5</td>\n",
       "      <td>0</td>\n",
       "      <td>5</td>\n",
       "      <td>0</td>\n",
       "      <td>0</td>\n",
       "      <td>0</td>\n",
       "      <td>0</td>\n",
       "    </tr>\n",
       "    <tr>\n",
       "      <th>2</th>\n",
       "      <td>Jay Higgins</td>\n",
       "      <td>IOWA</td>\n",
       "      <td>LB</td>\n",
       "      <td>49</td>\n",
       "      <td>64</td>\n",
       "      <td>113</td>\n",
       "      <td>1.0</td>\n",
       "      <td>15</td>\n",
       "      <td>2</td>\n",
       "      <td>1</td>\n",
       "      <td>0</td>\n",
       "      <td>0</td>\n",
       "      <td>1</td>\n",
       "    </tr>\n",
       "    <tr>\n",
       "      <th>3</th>\n",
       "      <td>Joe Sparacio</td>\n",
       "      <td>EMU</td>\n",
       "      <td>LB</td>\n",
       "      <td>45</td>\n",
       "      <td>61</td>\n",
       "      <td>106</td>\n",
       "      <td>2.0</td>\n",
       "      <td>0</td>\n",
       "      <td>2</td>\n",
       "      <td>0</td>\n",
       "      <td>0</td>\n",
       "      <td>0</td>\n",
       "      <td>2</td>\n",
       "    </tr>\n",
       "    <tr>\n",
       "      <th>4</th>\n",
       "      <td>Payton Wilson</td>\n",
       "      <td>NCSU</td>\n",
       "      <td>LB</td>\n",
       "      <td>48</td>\n",
       "      <td>57</td>\n",
       "      <td>105</td>\n",
       "      <td>4.0</td>\n",
       "      <td>2</td>\n",
       "      <td>5</td>\n",
       "      <td>2</td>\n",
       "      <td>15</td>\n",
       "      <td>1</td>\n",
       "      <td>0</td>\n",
       "    </tr>\n",
       "  </tbody>\n",
       "</table>\n",
       "</div>"
      ],
      "text/plain": [
       "            Player School POS  SOLO  AST  TOT  SACK  YDS  PD  INT  LNG  TD  FF\n",
       "0  Jason Henderson    ODU  LB    41   98  139   4.0   23   0    0    0   0   0\n",
       "1    Tyrice Knight   UTEP  LB    71   45  116   3.5    0   5    0    0   0   0\n",
       "2      Jay Higgins   IOWA  LB    49   64  113   1.0   15   2    1    0   0   1\n",
       "3     Joe Sparacio    EMU  LB    45   61  106   2.0    0   2    0    0   0   2\n",
       "4    Payton Wilson   NCSU  LB    48   57  105   4.0    2   5    2   15   1   0"
      ]
     },
     "execution_count": 7,
     "metadata": {},
     "output_type": "execute_result"
    }
   ],
   "source": [
    "#see a few data\n",
    "NCAA_df.head()"
   ]
  },
  {
   "cell_type": "code",
   "execution_count": 8,
   "metadata": {},
   "outputs": [
    {
     "name": "stdout",
     "output_type": "stream",
     "text": [
      "    School  SOLO\n",
      "115    USC   440\n",
      "23    COLO   431\n",
      "44    JVST   409\n",
      "108     UL   399\n",
      "104    UCF   386\n",
      "..     ...   ...\n",
      "124     VT   262\n",
      "66    NCSU   261\n",
      "117    USM   256\n",
      "57    MICH   242\n",
      "74    OHIO   217\n",
      "\n",
      "[133 rows x 2 columns]\n"
     ]
    }
   ],
   "source": [
    "\n",
    "\n",
    "# Group the data by 'School' and sum the 'SOLO' column for each group\n",
    "school_solo_totals = NCAA_df.groupby('School')['SOLO'].sum().reset_index()\n",
    "\n",
    "# Sort the result in descending order by the 'SOLO' column\n",
    "school_solo_totals = school_solo_totals.sort_values(by='SOLO', ascending=False)\n",
    "\n",
    "\n",
    "# Display the total number of solo tackles by school (from most to least)\n",
    "print(school_solo_totals)"
   ]
  },
  {
   "cell_type": "code",
   "execution_count": 9,
   "metadata": {},
   "outputs": [
    {
     "name": "stdout",
     "output_type": "stream",
     "text": [
      "    School  TOT\n",
      "73     ODU  823\n",
      "25     CSU  781\n",
      "44    JVST  735\n",
      "109    ULM  724\n",
      "123    VAN  717\n",
      "28     EMU  706\n",
      "29     FAU  692\n",
      "62    MSST  684\n",
      "51      LT  683\n",
      "118    USU  682\n",
      "40    IOWA  677\n",
      "26    DUKE  677\n",
      "91     SYR  672\n",
      "59    MISS  672\n",
      "115    USC  670\n",
      "7     ARST  663\n",
      "108     UL  657\n",
      "102   TXST  656\n",
      "61    MRSH  653\n",
      "79      OU  645\n",
      "71    NMSU  644\n",
      "97    TLSA  640\n",
      "128    WKU  635\n",
      "36      GT  634\n",
      "80    PITT  633\n",
      "64    MTSU  631\n",
      "94     TEM  631\n",
      "50     LSU  630\n",
      "16     BYU  630\n",
      "2      ALA  630\n",
      "53    MASS  629\n",
      "63     MSU  626\n",
      "130    WSU  623\n",
      "30     FIU  622\n",
      "17     CAL  622\n",
      "43     JMU  620\n",
      "103    UAB  619\n",
      "67      ND  619\n",
      "98     TOL  615\n",
      "24    CONN  614\n",
      "120   UTEP  613\n",
      "111   UNLV  612\n",
      "113    UNT  612\n",
      "121   UTSA  609\n",
      "52    M-OH  605\n",
      "39     ILL  605\n",
      "1      AKR  605\n",
      "100    TTU  605\n",
      "85      SC  605\n",
      "132    WYO  605\n",
      "122    UVA  600\n",
      "66    NCSU  599\n",
      "37     HAW  596\n",
      "23    COLO  595\n",
      "110    UNC  595\n",
      "72      NU  595\n",
      "77    ORST  594\n",
      "104    UCF  594\n",
      "83    RICE  593\n",
      "126   WASH  592\n",
      "35    GAST  592\n",
      "127    WIS  588\n",
      "116    USF  588\n",
      "8      ASU  588\n",
      "32    FRES  587\n",
      "33     FSU  587\n",
      "75    OKST  587\n",
      "70     NIU  587\n",
      "76     ORE  585\n",
      "95    TENN  584\n",
      "107     UK  583\n",
      "18     CCU  583\n",
      "41     ISU  583\n",
      "93     TCU  583\n",
      "13    BGSU  582\n",
      "38     HOU  582\n",
      "117    USM  580\n",
      "129    WMU  578\n",
      "6     ARMY  577\n",
      "125   WAKE  577\n",
      "114    USA  577\n",
      "68     NEB  576\n",
      "10    BALL  574\n",
      "54      MD  574\n",
      "3      APP  573\n",
      "5      ARK  573\n",
      "21     CLT  573\n",
      "105   UCLA  571\n",
      "87    SHSU  570\n",
      "74    OHIO  569\n",
      "96     TEX  568\n",
      "22     CMU  568\n",
      "34    GASO  563\n",
      "60     MIZ  562\n",
      "9      AUB  561\n",
      "124     VT  560\n",
      "131    WVU  560\n",
      "89     SMU  559\n",
      "84    RUTG  559\n",
      "78     OSU  558\n",
      "27     ECU  558\n",
      "4     ARIZ  556\n",
      "45    KENT  552\n",
      "90    STAN  552\n",
      "99    TROY  551\n",
      "92    TA&M  550\n",
      "55     MEM  550\n",
      "19     CIN  548\n",
      "15    BUFF  547\n",
      "42      IU  547\n",
      "47      KU  546\n",
      "112    UNM  542\n",
      "48     LIB  538\n",
      "88    SJSU  537\n",
      "69     NEV  536\n",
      "86    SDSU  532\n",
      "82     PUR  532\n",
      "65    NAVY  532\n",
      "31     FLA  529\n",
      "49     LOU  524\n",
      "46     KSU  522\n",
      "14    BOIS  521\n",
      "119   UTAH  519\n",
      "101   TULN  519\n",
      "0      AFA  515\n",
      "58    MINN  511\n",
      "56     MIA  509\n",
      "12      BC  505\n",
      "20    CLEM  504\n",
      "11     BAY  502\n",
      "57    MICH  500\n",
      "81     PSU  482\n",
      "106    UGA  447\n"
     ]
    }
   ],
   "source": [
    "#put this in a bell curve\n",
    "# Group the data by 'School' and sum the 'TOT' column for each group\n",
    "school_tot_totals = NCAA_df.groupby('School')['TOT'].sum().reset_index()\n",
    "\n",
    "# Sort the result in descending order by the 'TOT' column\n",
    "school_tot_totals = school_tot_totals.sort_values(by='TOT', ascending=False)\n",
    "# Set pandas display options to show all rows\n",
    "pd.set_option('display.max_rows', None)\n",
    "\n",
    "\n",
    "# Display the total number of tackles by school (from most to least)\n",
    "print(school_tot_totals)"
   ]
  },
  {
   "cell_type": "code",
   "execution_count": 10,
   "metadata": {},
   "outputs": [
    {
     "data": {
      "text/plain": [
       "(array([ 2., 11., 23., 45., 29., 11.,  7.,  3.,  1.,  1.]),\n",
       " array([447. , 484.6, 522.2, 559.8, 597.4, 635. , 672.6, 710.2, 747.8,\n",
       "        785.4, 823. ]),\n",
       " <BarContainer object of 10 artists>)"
      ]
     },
     "execution_count": 10,
     "metadata": {},
     "output_type": "execute_result"
    },
    {
     "data": {
      "image/png": "[encoded data removed]",
      "text/plain": [
       "<Figure size 640x480 with 1 Axes>"
      ]
     },
     "metadata": {},
     "output_type": "display_data"
    }
   ],
   "source": [
    "\n",
    "\n",
    "# Display the plot\n",
    "plt.hist(school_tot_totals['TOT'])"
   ]
  },
  {
   "cell_type": "code",
   "execution_count": 11,
   "metadata": {},
   "outputs": [
    {
     "name": "stderr",
     "output_type": "stream",
     "text": [
      "/tmp/ipykernel_1298/4189999064.py:1: UserWarning: \n",
      "\n",
      "`distplot` is a deprecated function and will be removed in seaborn v0.14.0.\n",
      "\n",
      "Please adapt your code to use either `displot` (a figure-level function with\n",
      "similar flexibility) or `histplot` (an axes-level function for histograms).\n",
      "\n",
      "For a guide to updating your code to use the new functions, please see\n",
      "https://gist.github.com/mwaskom/de44147ed2974457ad6372750bbe5751\n",
      "\n",
      "  sns.distplot(school_tot_totals['TOT'])\n"
     ]
    },
    {
     "data": {
      "text/plain": [
       "<Axes: xlabel='TOT', ylabel='Density'>"
      ]
     },
     "execution_count": 11,
     "metadata": {},
     "output_type": "execute_result"
    },
    {
     "data": {
      "image/png": "[encoded data removed]",
      "text/plain": [
       "<Figure size 640x480 with 1 Axes>"
      ]
     },
     "metadata": {},
     "output_type": "display_data"
    }
   ],
   "source": [
    "sns.distplot(school_tot_totals['TOT'])"
   ]
  },
  {
   "cell_type": "code",
   "execution_count": 12,
   "metadata": {},
   "outputs": [
    {
     "data": {
      "text/plain": [
       "<seaborn.axisgrid.FacetGrid at 0x7f1fa8c1b880>"
      ]
     },
     "execution_count": 12,
     "metadata": {},
     "output_type": "execute_result"
    },
    {
     "data": {
      "image/png": "[encoded data removed]",
      "text/plain": [
       "<Figure size 500x500 with 1 Axes>"
      ]
     },
     "metadata": {},
     "output_type": "display_data"
    }
   ],
   "source": [
    "sns.displot(school_tot_totals['TOT'])"
   ]
  },
  {
   "cell_type": "code",
   "execution_count": 13,
   "metadata": {},
   "outputs": [],
   "source": [
    "\n",
    "def TotHist():\n",
    "    # Group the data by 'School' and sum the 'TOT' column for each group\n",
    "    school_tot_totals = NCAA_df.groupby('School')['TOT'].sum().reset_index()\n",
    "\n",
    "    # Sort the result in descending order by the 'TOT' column\n",
    "    school_tot_totals = school_tot_totals.sort_values(by='TOT', ascending=False)\n",
    "\n",
    "   \n",
    "    # Create an interactive distribution plot using Plotly Express\n",
    "    fig = px.histogram(\n",
    "        school_tot_totals,\n",
    "        x='TOT',\n",
    "        title='Distribution of Total Tackles by School',\n",
    "        labels={'TOT': 'Total Tackles', 'count': 'Number of Schools'},\n",
    "        marginal='box',  # Display a box plot on the marginal axis\n",
    "        opacity=0.7,  # Adjust the opacity of bars\n",
    "        color_discrete_sequence=['blue'],  # Bar color\n",
    "        nbins=20  # Adjust the number of bins for a smoother curve\n",
    "    )\n",
    "\n",
    "    # Customize the layout\n",
    "    fig.update_layout(\n",
    "        xaxis_title='Total Tackles',\n",
    "        yaxis_title='Number of Schools',\n",
    "        xaxis=dict(range=[school_tot_totals['TOT'].min(), school_tot_totals['TOT'].max()]),  # Set x-axis range\n",
    "    )\n",
    "\n",
    "    # Show the interactive plot\n",
    "    fig.show()\n",
    "\n"
   ]
  },
  {
   "cell_type": "code",
   "execution_count": 14,
   "metadata": {},
   "outputs": [],
   "source": [
    "def IntBySchool(t1, t2, t3, t4, t5, t6):\n",
    "    # Group the data by 'School' and sum the 'INT' column for each group\n",
    "    school_int_totals = NCAA_df.groupby('School')['INT'].sum().reset_index()\n",
    "\n",
    "    # Sort the result in descending order by the 'INT' column\n",
    "    school_int_totals = school_int_totals.sort_values(by='INT', ascending=False)\n",
    "\n",
    "    # Create a bar chart using Plotly Express\n",
    "    fig = px.bar(\n",
    "        school_int_totals,\n",
    "        x='School',\n",
    "        y='INT',\n",
    "        title='Total Interceptions by School',\n",
    "        labels={'INT': 'Total Interceptions', 'School': 'School'},\n",
    "        color='INT',  # Color bars based on the number of interceptions\n",
    "        color_continuous_scale='reds',  # Use a red color scale\n",
    "        range_color=[school_int_totals['INT'].min(), school_int_totals['INT'].max()],  # Match color scale range to data\n",
    "    )\n",
    "\n",
    "    # Customize the layout\n",
    "    fig.update_layout(\n",
    "        xaxis_title='School',\n",
    "        yaxis_title='Total Interceptions',\n",
    "        coloraxis_colorbar_title='Total Interceptions',\n",
    "        coloraxis_colorbar_ticks='outside',\n",
    "        coloraxis_colorbar_tickmode='array',\n",
    "        coloraxis_colorbar_tickvals=[school_int_totals['INT'].min(), school_int_totals['INT'].max()],\n",
    "        coloraxis_colorbar_ticktext=['Low', 'High'],\n",
    "    )\n",
    "\n",
    "    # Update layout with dotted lines based on user input\n",
    "    def update_dotted_lines(selected_schools):\n",
    "        shapes = []\n",
    "        annotations = []\n",
    "\n",
    "        for school in selected_schools:\n",
    "            # Check if the selected school is in the data\n",
    "            if school in school_int_totals['School'].values:\n",
    "                color = 'black'  # Use black for existing schools\n",
    "            else:\n",
    "                color = 'red'  # Use red for non-existing schools\n",
    "\n",
    "            shape = {\n",
    "                'type': 'line',\n",
    "                'x0': school,\n",
    "                'x1': school,\n",
    "                'y0': 0,\n",
    "                'y1': 1,\n",
    "                'xref': 'x',\n",
    "                'yref': 'paper',\n",
    "                'line': {'dash': 'dash', 'color': color},\n",
    "            }\n",
    "            shapes.append(shape)\n",
    "\n",
    "            annotation = {\n",
    "                'x': school,\n",
    "                'y': 1.05,  # Adjust the y-coordinate for the annotation\n",
    "                'xref': 'x',\n",
    "                'yref': 'paper',\n",
    "                'text': school,\n",
    "                'showarrow': False,\n",
    "                'font': {'size': 10},\n",
    "            }\n",
    "            annotations.append(annotation)\n",
    "\n",
    "        return shapes, annotations\n",
    "\n",
    "    # Specify the schools you want lines for\n",
    "    selected_schools = [t1, t2, t3, t4, t5, t6]  # Replace with your selected schools\n",
    "\n",
    "    # Add lines and annotations for all selected schools\n",
    "    shapes, annotations = update_dotted_lines(selected_schools)\n",
    "    fig.update_layout(shapes=shapes, annotations=annotations)\n",
    "\n",
    "    # Show the interactive plot\n",
    "    fig.show()\n",
    "    \n",
    "   \n"
   ]
  },
  {
   "cell_type": "code",
   "execution_count": 15,
   "metadata": {},
   "outputs": [],
   "source": [
    "def TotPlacement(t1, t2, t3, t4, t5, t6):\n",
    "    \"\"\"\n",
    "    Create an interactive distribution plot of total tackles for selected schools.\n",
    "\n",
    "    Parameters:\n",
    "    - school_tot_totals: DataFrame with 'School' and 'TOT' columns.\n",
    "    - t1, t2, t3, t4, t5, t6: Names of schools to highlight.\n",
    "\n",
    "    Returns:\n",
    "    - None (displays the interactive plot).\n",
    "    \"\"\"\n",
    "    # Group the data by 'School' and sum the 'TOT' column for each group\n",
    "    school_tot_totals = NCAA_df.groupby('School')['TOT'].sum().reset_index()\n",
    "\n",
    "    # Sort the result in descending order by the 'TOT' column\n",
    "    school_tot_totals = school_tot_totals.sort_values(by='TOT', ascending=False)\n",
    "\n",
    "    # Create a distribution plot using Plotly Express\n",
    "    fig = px.histogram(\n",
    "        school_tot_totals,\n",
    "        x='TOT',\n",
    "        marginal='rug',  # Add rug plot for individual data points\n",
    "        color_discrete_sequence=['orange'],  # Set the color for the histogram bars\n",
    "        labels={'TOT': 'Total Tackles'},\n",
    "        title='Distribution of Total Tackles for All Schools',\n",
    "        nbins=30,  # Number of bins for the histogram\n",
    "    )\n",
    "\n",
    "    # Add vertical lines and annotations for each team's total tackles\n",
    "    team_colors = {'red': t1, 'black': t2, 'blue': t3, 'green': t4, 'lightblue': t5, 'lime': t6}\n",
    "\n",
    "    for color, team in team_colors.items():\n",
    "        if team in school_tot_totals['School'].values:\n",
    "            total_tackles = school_tot_totals.loc[school_tot_totals['School'] == team, 'TOT'].values[0]\n",
    "            fig.add_shape(\n",
    "                type='line',\n",
    "                x0=total_tackles,\n",
    "                x1=total_tackles,\n",
    "                y0=0,\n",
    "                y1=0.8,\n",
    "                xref='x',\n",
    "                yref='paper',\n",
    "                line=dict(color=color, dash='dash'),\n",
    "            )\n",
    "            \n",
    "            # Add annotation for the school name\n",
    "            fig.add_annotation(\n",
    "                x=total_tackles,\n",
    "                y=1.05,  # Adjust the y-coordinate for the annotation\n",
    "                xref='x',\n",
    "                yref='paper',\n",
    "                text=team,\n",
    "                showarrow=False,\n",
    "                font=dict(size=10),\n",
    "            )\n",
    "\n",
    "    # Add hover text for each school\n",
    "    fig.update_traces(hovertext=school_tot_totals['School'])\n",
    "\n",
    "    # Customize the layout\n",
    "    fig.update_layout(\n",
    "        xaxis_title='Total Tackles',\n",
    "        yaxis_title='Density',\n",
    "        showlegend=False,  # Do not show legend for histogram bars\n",
    "    )\n",
    "\n",
    "    # Display the interactive plot\n",
    "    fig.show()\n"
   ]
  },
  {
   "cell_type": "code",
   "execution_count": 16,
   "metadata": {},
   "outputs": [
    {
     "data": {
      "image/png": "[encoded data removed]",
      "text/plain": [
       "<Figure size 500x500 with 1 Axes>"
      ]
     },
     "metadata": {},
     "output_type": "display_data"
    }
   ],
   "source": [
    "# Create a distribution plot\n",
    "sns.displot(school_tot_totals['TOT'], kde=True)\n",
    "\n",
    "# Find and set the total tackles for OSU\n",
    "osu_total_tackles = school_tot_totals.loc[school_tot_totals['School'] == 'OSU', 'TOT'].values[0]\n",
    "\n",
    "# Add a vertical line for OSU's total tackles\n",
    "plt.axvline(x=osu_total_tackles, color='red', linestyle='--', label='OSU Total Tackles')\n",
    "\n",
    "# Add labels and title\n",
    "plt.xlabel('Total Tackles')\n",
    "plt.ylabel('Count')\n",
    "plt.title('Distribution of Total Tackles for All Schools')\n",
    "\n",
    "# Show a legend\n",
    "plt.legend()\n",
    "\n",
    "# Display the plot\n",
    "plt.show()"
   ]
  },
  {
   "cell_type": "code",
   "execution_count": 17,
   "metadata": {},
   "outputs": [
    {
     "data": {
      "image/png": "[encoded data removed]",
      "text/plain": [
       "<Figure size 500x500 with 1 Axes>"
      ]
     },
     "metadata": {},
     "output_type": "display_data"
    }
   ],
   "source": [
    "\n",
    "# Create a distribution plot\n",
    "sns.displot(school_tot_totals['TOT'], kde=True)\n",
    "\n",
    "# Find and set the total tackles for OSU and UGA\n",
    "osu_total_tackles = school_tot_totals.loc[school_tot_totals['School'] == 'OSU', 'TOT'].values[0]\n",
    "uga_total_tackles = school_tot_totals.loc[school_tot_totals['School'] == 'UGA', 'TOT'].values[0]\n",
    "\n",
    "\n",
    "# Add vertical lines for OSU and UGA's total tackles\n",
    "plt.axvline(x=osu_total_tackles, color='red', linestyle='--', label='OSU Total Tackles')\n",
    "plt.axvline(x=uga_total_tackles, color='Black', linestyle='--', label='UGA Total Tackles')\n",
    "\n",
    "# Add labels and title\n",
    "plt.xlabel('Total Tackles')\n",
    "plt.ylabel('Density')\n",
    "plt.title('Distribution of Total Tackles for All Schools')\n",
    "\n",
    "# Show a legend\n",
    "plt.legend()\n",
    "\n",
    "# Display the plot\n",
    "plt.show()"
   ]
  },
  {
   "cell_type": "code",
   "execution_count": 18,
   "metadata": {},
   "outputs": [
    {
     "data": {
      "image/png": "[encoded data removed]",
      "text/plain": [
       "<Figure size 500x500 with 1 Axes>"
      ]
     },
     "metadata": {},
     "output_type": "display_data"
    }
   ],
   "source": [
    "# Create a distribution plot\n",
    "sns.displot(school_tot_totals['TOT'], kde=True)\n",
    "\n",
    "# Find and set the total tackles for OSU and UGA\n",
    "osu_total_tackles = school_tot_totals.loc[school_tot_totals['School'] == 'OSU', 'TOT'].values[0]\n",
    "uga_total_tackles = school_tot_totals.loc[school_tot_totals['School'] == 'UGA', 'TOT'].values[0]\n",
    "gast_total_tackles = school_tot_totals.loc[school_tot_totals['School'] == 'GAST', 'TOT'].values[0]\n",
    "\n",
    "# Add vertical lines for OSU and UGA's total tackles\n",
    "plt.axvline(x=osu_total_tackles, color='red', linestyle='--', label='OSU Total Tackles')\n",
    "plt.axvline(x=uga_total_tackles, color='Black', linestyle='--', label='UGA Total Tackles')\n",
    "plt.axvline(x=gast_total_tackles, color='Blue', linestyle='--', label='GAST Total Tackles')\n",
    "\n",
    "# Add labels and title\n",
    "plt.xlabel('Total Tackles')\n",
    "plt.ylabel('Density')\n",
    "plt.title('Distribution of Total Tackles for All Schools')\n",
    "\n",
    "# Show a legend\n",
    "plt.legend()\n",
    "\n",
    "# Display the plot\n",
    "plt.show()"
   ]
  },
  {
   "cell_type": "code",
   "execution_count": 19,
   "metadata": {},
   "outputs": [
    {
     "data": {
      "image/png": "[encoded data removed]",
      "text/plain": [
       "<Figure size 1000x600 with 1 Axes>"
      ]
     },
     "metadata": {},
     "output_type": "display_data"
    }
   ],
   "source": [
    "# Filter the data for specific schools (LSU, GAST, UGA, OSU)\n",
    "selected_schools = ['LSU', 'GAST', 'UGA', 'OSU']\n",
    "filtered_data = NCAA_df[NCAA_df['School'].isin(selected_schools)]\n",
    "\n",
    "# Group the filtered data by 'School' and sum the 'TOT' column for each group\n",
    "school_tot_totals = filtered_data.groupby('School')['TOT'].sum().reset_index()\n",
    "\n",
    "# Sort the result in descending order by the 'TOT' column\n",
    "school_tot_totals = school_tot_totals.sort_values(by='TOT', ascending=False)\n",
    "\n",
    "# Calculate the TOT value for OSU\n",
    "osu_tot = school_tot_totals[school_tot_totals['School'] == 'OSU']['TOT'].values[0]\n",
    "\n",
    "# Define a function to determine the color based on the difference in TOT\n",
    "def get_color(tot, selected_tot):\n",
    "    if tot == selected_tot:\n",
    "        return 'blue'  # Selected team is blue\n",
    "    elif tot > selected_tot:\n",
    "        return 'green'  # Teams with more tackles than the selected team\n",
    "    else:\n",
    "        return 'red'  # Teams with fewer tackles than the selected team\n",
    "\n",
    "# Create a list of colors based on the difference in TOT\n",
    "colors = [get_color(tot, osu_tot) for tot in school_tot_totals['TOT']]\n",
    "\n",
    "# Create a bar graph with color-coded bars\n",
    "plt.figure(figsize=(10, 6))\n",
    "plt.bar(school_tot_totals['School'], school_tot_totals['TOT'], color=colors)\n",
    "plt.xlabel('School')\n",
    "plt.ylabel('Total Tackles')\n",
    "plt.title('Total Tackles by School')\n",
    "\n",
    "plt.show()"
   ]
  },
  {
   "cell_type": "markdown",
   "metadata": {},
   "source": [
    "#The data shows up that the team with least amount of TOT is better. I assume this is because the team has more #3 and outs. \n",
    "#If some data will not correspond with this assumption is because the team is getting scored on at a fast rate."
   ]
  },
  {
   "cell_type": "code",
   "execution_count": 20,
   "metadata": {},
   "outputs": [
    {
     "name": "stdout",
     "output_type": "stream",
     "text": [
      "    School  SACK\n",
      "43     JMU  41.0\n",
      "81     PSU  38.0\n",
      "92    TA&M  34.0\n",
      "105   UCLA  34.0\n",
      "44    JVST  33.0\n",
      "121   UTSA  32.0\n",
      "59    MISS  31.0\n",
      "89     SMU  31.0\n",
      "124     VT  31.0\n",
      "77    ORST  30.0\n",
      "95    TENN  30.0\n",
      "119   UTAH  29.0\n",
      "56     MIA  29.0\n",
      "2      ALA  29.0\n",
      "76     ORE  28.0\n",
      "68     NEB  28.0\n",
      "82     PUR  27.0\n",
      "60     MIZ  27.0\n",
      "66    NCSU  27.0\n",
      "54      MD  27.0\n",
      "108     UL  27.0\n",
      "102   TXST  26.0\n",
      "80    PITT  25.0\n",
      "52    M-OH  25.0\n",
      "25     CSU  25.0\n",
      "61    MRSH  25.0\n",
      "63     MSU  25.0\n",
      "5      ARK  25.0\n",
      "71    NMSU  25.0\n",
      "33     FSU  25.0\n",
      "127    WIS  24.0\n",
      "115    USC  24.0\n",
      "117    USM  24.0\n",
      "104    UCF  23.0\n",
      "49     LOU  23.0\n",
      "4     ARIZ  23.0\n",
      "107     UK  23.0\n",
      "120   UTEP  23.0\n",
      "29     FAU  23.0\n",
      "23    COLO  23.0\n",
      "101   TULN  23.0\n",
      "98     TOL  23.0\n",
      "110    UNC  23.0\n",
      "57    MICH  22.0\n",
      "91     SYR  22.0\n",
      "96     TEX  22.0\n",
      "93     TCU  22.0\n",
      "74    OHIO  22.0\n",
      "8      ASU  22.0\n",
      "3      APP  21.5\n",
      "129    WMU  21.0\n",
      "128    WKU  21.0\n",
      "114    USA  21.0\n",
      "58    MINN  21.0\n",
      "62    MSST  21.0\n",
      "0      AFA  21.0\n",
      "13    BGSU  21.0\n",
      "32    FRES  21.0\n",
      "20    CLEM  21.0\n",
      "47      KU  21.0\n",
      "9      AUB  21.0\n",
      "125   WAKE  20.0\n",
      "26    DUKE  20.0\n",
      "111   UNLV  20.0\n",
      "99    TROY  20.0\n",
      "67      ND  20.0\n",
      "103    UAB  20.0\n",
      "65    NAVY  20.0\n",
      "75    OKST  20.0\n",
      "90    STAN  20.0\n",
      "123    VAN  20.0\n",
      "116    USF  19.0\n",
      "14    BOIS  19.0\n",
      "35    GAST  19.0\n",
      "46     KSU  19.0\n",
      "106    UGA  19.0\n",
      "34    GASO  19.0\n",
      "40    IOWA  18.0\n",
      "10    BALL  18.0\n",
      "72      NU  18.0\n",
      "38     HOU  18.0\n",
      "42      IU  18.0\n",
      "37     HAW  18.0\n",
      "21     CLT  18.0\n",
      "131    WVU  18.0\n",
      "109    ULM  17.0\n",
      "53    MASS  17.0\n",
      "55     MEM  17.0\n",
      "79      OU  17.0\n",
      "86    SDSU  17.0\n",
      "48     LIB  17.0\n",
      "7     ARST  17.0\n",
      "1      AKR  17.0\n",
      "70     NIU  17.0\n",
      "78     OSU  17.0\n",
      "19     CIN  17.0\n",
      "84    RUTG  17.0\n",
      "85      SC  17.0\n",
      "11     BAY  16.0\n",
      "28     EMU  16.0\n",
      "100    TTU  16.0\n",
      "83    RICE  16.0\n",
      "31     FLA  16.0\n",
      "50     LSU  16.0\n",
      "118    USU  16.0\n",
      "15    BUFF  15.0\n",
      "18     CCU  15.0\n",
      "130    WSU  15.0\n",
      "132    WYO  15.0\n",
      "36      GT  15.0\n",
      "64    MTSU  15.0\n",
      "69     NEV  15.0\n",
      "30     FIU  14.0\n",
      "51      LT  14.0\n",
      "41     ISU  14.0\n",
      "39     ILL  14.0\n",
      "88    SJSU  14.0\n",
      "22     CMU  14.0\n",
      "73     ODU  13.0\n",
      "126   WASH  13.0\n",
      "6     ARMY  13.0\n",
      "94     TEM  13.0\n",
      "97    TLSA  12.0\n",
      "27     ECU  11.0\n",
      "87    SHSU  11.0\n",
      "12      BC  11.0\n",
      "17     CAL  11.0\n",
      "113    UNT  11.0\n",
      "24    CONN  11.0\n",
      "112    UNM   9.0\n",
      "45    KENT   9.0\n",
      "122    UVA   8.0\n",
      "16     BYU   8.0\n"
     ]
    }
   ],
   "source": [
    "# Group the data by 'School' and sum the 'SACK' column for each group\n",
    "school_sack_totals = NCAA_df.groupby('School')['SACK'].sum().reset_index()\n",
    "\n",
    "# Sort the result in descending order by the 'SACK' column\n",
    "school_sack_totals = school_sack_totals.sort_values(by='SACK', ascending=False)\n",
    "\n",
    "# Display the total number of sacks by school (from most to least)\n",
    "print(school_sack_totals)"
   ]
  },
  {
   "cell_type": "code",
   "execution_count": 21,
   "metadata": {},
   "outputs": [],
   "source": [
    "def plot_sack_totals_interactive( highlight_teams):\n",
    "    \"\"\"\n",
    "    Plot the total number of sacks by school in an interactive bar chart.\n",
    "\n",
    "    Parameters:\n",
    "    - school_sack_totals: DataFrame with 'School' and 'SACK' columns.\n",
    "    - highlight_teams: List of teams to highlight in the chart.\n",
    "\n",
    "    Returns:\n",
    "    - None (displays the interactive plot).\n",
    "    \n",
    "    \"\"\"\n",
    "        # Group the data by 'School' and sum the 'TOT' column for each group\n",
    "    school_sack_totals = NCAA_df.groupby('School')['SACK'].sum().reset_index()\n",
    "\n",
    "    # Sort the result in descending order by the 'TOT' column\n",
    "    school_sack_totals = school_sack_totals.sort_values(by='SACK', ascending=False)\n",
    "\n",
    "    # Highlight specified teams in a different color\n",
    "    school_sack_totals['Color'] = school_sack_totals['School'].apply(lambda x: 'orange' if x in highlight_teams else 'skyblue')\n",
    "\n",
    "    # Create an interactive bar chart using plotly express\n",
    "    fig = px.bar(\n",
    "        school_sack_totals,\n",
    "        x='School',\n",
    "        y='SACK',\n",
    "        color='Color',\n",
    "        labels={'SACK': 'Total Sacks'},\n",
    "        title='Total Number of Sacks by School',\n",
    "        text='SACK',  # Display the sack totals on top of bars\n",
    "    )\n",
    "\n",
    "    # Customize the layout for better readability\n",
    "    fig.update_layout(\n",
    "        xaxis_title='School',\n",
    "        yaxis_title='Total Sacks',\n",
    "        xaxis=dict(tickangle=45),\n",
    "    )\n",
    "\n",
    "    # Display the interactive plot\n",
    "    fig.show()\n",
    "\n",
    "\n"
   ]
  },
  {
   "cell_type": "markdown",
   "metadata": {},
   "source": []
  },
  {
   "cell_type": "code",
   "execution_count": 22,
   "metadata": {},
   "outputs": [
    {
     "name": "stdout",
     "output_type": "stream",
     "text": [
      "    School  TD\n",
      "57    MICH   4\n",
      "34    GASO   3\n",
      "47      KU   3\n",
      "20    CLEM   3\n",
      "5      ARK   3\n",
      "107     UK   3\n",
      "95    TENN   3\n",
      "89     SMU   3\n",
      "78     OSU   3\n",
      "0      AFA   2\n",
      "67      ND   2\n",
      "53    MASS   2\n",
      "55     MEM   2\n",
      "61    MRSH   2\n",
      "79      OU   2\n",
      "69     NEV   2\n",
      "27     ECU   2\n",
      "91     SYR   2\n",
      "118    USU   2\n",
      "119   UTAH   2\n",
      "123    VAN   2\n",
      "126   WASH   2\n",
      "130    WSU   2\n",
      "29     FAU   2\n",
      "66    NCSU   2\n",
      "15    BUFF   2\n",
      "3      APP   2\n",
      "18     CCU   2\n",
      "12      BC   1\n",
      "77    ORST   1\n",
      "115    USC   1\n",
      "16     BYU   1\n",
      "109    ULM   1\n",
      "1      AKR   1\n",
      "108     UL   1\n",
      "106    UGA   1\n",
      "73     ODU   1\n",
      "103    UAB   1\n",
      "75    OKST   1\n",
      "76     ORE   1\n",
      "13    BGSU   1\n",
      "26    DUKE   1\n",
      "80    PITT   1\n",
      "81     PSU   1\n",
      "100    TTU   1\n",
      "85      SC   1\n",
      "86    SDSU   1\n",
      "99    TROY   1\n",
      "98     TOL   1\n",
      "96     TEX   1\n",
      "9      AUB   1\n",
      "92    TA&M   1\n",
      "56     MIA   1\n",
      "93     TCU   1\n",
      "43     JMU   1\n",
      "128    WKU   1\n",
      "41     ISU   1\n",
      "42      IU   1\n",
      "35    GAST   1\n",
      "127    WIS   1\n",
      "33     FSU   1\n",
      "21     CLT   1\n",
      "39     ILL   1\n",
      "48     LIB   1\n",
      "30     FIU   1\n",
      "50     LSU   1\n",
      "23    COLO   1\n",
      "2      ALA   1\n",
      "51      LT   1\n",
      "6     ARMY   1\n",
      "40    IOWA   1\n",
      "129    WMU   0\n",
      "97    TLSA   0\n",
      "101   TULN   0\n",
      "102   TXST   0\n",
      "125   WAKE   0\n",
      "124     VT   0\n",
      "131    WVU   0\n",
      "117    USM   0\n",
      "7     ARST   0\n",
      "4     ARIZ   0\n",
      "104    UCF   0\n",
      "105   UCLA   0\n",
      "122    UVA   0\n",
      "8      ASU   0\n",
      "121   UTSA   0\n",
      "120   UTEP   0\n",
      "110    UNC   0\n",
      "111   UNLV   0\n",
      "112    UNM   0\n",
      "113    UNT   0\n",
      "94     TEM   0\n",
      "116    USF   0\n",
      "114    USA   0\n",
      "25     CSU   0\n",
      "10    BALL   0\n",
      "44    JVST   0\n",
      "17     CAL   0\n",
      "54      MD   0\n",
      "19     CIN   0\n",
      "52    M-OH   0\n",
      "49     LOU   0\n",
      "46     KSU   0\n",
      "45    KENT   0\n",
      "38     HOU   0\n",
      "90    STAN   0\n",
      "37     HAW   0\n",
      "36      GT   0\n",
      "22     CMU   0\n",
      "32    FRES   0\n",
      "31     FLA   0\n",
      "28     EMU   0\n",
      "24    CONN   0\n",
      "58    MINN   0\n",
      "59    MISS   0\n",
      "60     MIZ   0\n",
      "62    MSST   0\n",
      "11     BAY   0\n",
      "88    SJSU   0\n",
      "87    SHSU   0\n",
      "84    RUTG   0\n",
      "83    RICE   0\n",
      "82     PUR   0\n",
      "74    OHIO   0\n",
      "72      NU   0\n",
      "71    NMSU   0\n",
      "70     NIU   0\n",
      "14    BOIS   0\n",
      "68     NEB   0\n",
      "65    NAVY   0\n",
      "64    MTSU   0\n",
      "63     MSU   0\n",
      "132    WYO   0\n"
     ]
    }
   ],
   "source": [
    "# Group the data by 'School' and sum the 'TD' column for each group\n",
    "school_td_totals = NCAA_df.groupby('School')['TD'].sum().reset_index()\n",
    "\n",
    "# Sort the result in descending order by the 'TD' column\n",
    "school_td_totals = school_td_totals.sort_values(by='TD', ascending=False)\n",
    "\n",
    "# Display the total number of interceptions by school (from most to least)\n",
    "print(school_td_totals)"
   ]
  },
  {
   "cell_type": "code",
   "execution_count": 23,
   "metadata": {},
   "outputs": [
    {
     "name": "stdout",
     "output_type": "stream",
     "text": [
      "                Away Team           Home Team      Time           TV  \\\n",
      "0              Ball State  @Northern Illinois   7:00 PM          NaN   \n",
      "1        Central Michigan   @Western Michigan   7:00 PM          NaN   \n",
      "2                    Ohio            @Buffalo   7:30 PM          NaN   \n",
      "3                   Akron         @Miami (OH)   7:00 PM          NaN   \n",
      "4           Bowling Green         @Kent State   7:00 PM          NaN   \n",
      "5        Eastern Michigan             @Toledo   7:30 PM          NaN   \n",
      "6                Virginia       @13Louisville   7:30 PM          NaN   \n",
      "7           Southern Miss          @Louisiana   7:30 PM          NaN   \n",
      "8             North Texas                @SMU   9:00 PM          NaN   \n",
      "9                 Wyoming               @UNLV  10:45 PM          FS1   \n",
      "10              3Michigan       @11Penn State  12:00 PM          FOX   \n",
      "11               8Alabama           @Kentucky  12:00 PM          NaN   \n",
      "12             Texas Tech           @21Kansas  12:00 PM          FS1   \n",
      "13                  Tulsa           @24Tulane  12:00 PM          NaN   \n",
      "14             Holy Cross               @Army  12:00 PM        CBSSN   \n",
      "15                Indiana           @Illinois  12:00 PM          BTN   \n",
      "16               Maryland           @Nebraska  12:00 PM      Peacock   \n",
      "17             Vanderbilt     @South Carolina  12:00 PM          NaN   \n",
      "18          Virginia Tech     @Boston College  12:00 PM          NaN   \n",
      "19           Georgia Tech            @Clemson  12:00 PM          NaN   \n",
      "20                 Temple      @South Florida  12:00 PM          NaN   \n",
      "21           Old Dominion            @Liberty   1:00 PM          NaN   \n",
      "22                  UConn      @James Madison   2:00 PM          NaN   \n",
      "23                Arizona           @Colorado   2:00 PM        PAC12   \n",
      "24               NC State        @Wake Forest   2:00 PM   CW NETWORK   \n",
      "25                Memphis          @Charlotte   2:00 PM          NaN   \n",
      "26      Appalachian State      @Georgia State   2:00 PM          NaN   \n",
      "27                   Troy          @UL Monroe   2:00 PM          NaN   \n",
      "28                 Baylor     @23Kansas State   3:00 PM  BIG12|ESPN+   \n",
      "29            Sam Houston     @Louisiana Tech   3:00 PM          NaN   \n",
      "30                 Nevada         @Utah State   3:00 PM          NaN   \n",
      "31                  Miami     @4Florida State   3:30 PM          NaN   \n",
      "32                 18Utah        @5Washington   3:30 PM          FOX   \n",
      "33            17Tennessee         @12Missouri   3:30 PM          NaN   \n",
      "34       22Oklahoma State                @UCF   3:30 PM          NaN   \n",
      "35                Rutgers               @Iowa   3:30 PM          BTN   \n",
      "36  Florida International   @Middle Tennessee   3:30 PM          NaN   \n",
      "37              Minnesota             @Purdue   3:30 PM          NBC   \n",
      "38           Northwestern          @Wisconsin   3:30 PM          FS1   \n",
      "39       New Mexico State   @Western Kentucky   3:30 PM          NaN   \n",
      "40             Pittsburgh           @Syracuse   3:30 PM          NaN   \n",
      "41                    UAB               @Navy   3:30 PM        CBSSN   \n",
      "42            Texas State   @Coastal Carolina   3:30 PM          NaN   \n",
      "43                 Auburn           @Arkansas   4:00 PM          NaN   \n",
      "44       Washington State         @California   4:00 PM          NaN   \n",
      "45          East Carolina   @Florida Atlantic   4:00 PM          NaN   \n",
      "46         Arkansas State      @South Alabama   5:00 PM          NaN   \n",
      "47               Stanford     @16Oregon State   5:30 PM        PAC12   \n",
      "48             10Ole Miss           @2Georgia   7:00 PM          NaN   \n",
      "49          West Virginia          @9Oklahoma   7:00 PM          FOX   \n",
      "50             Cincinnati            @Houston   7:00 PM          FS1   \n",
      "51       Georgia Southern           @Marshall   7:00 PM      NFL NET   \n",
      "52        San Diego State     @Colorado State   7:00 PM        CBSSN   \n",
      "53         Michigan State        @1Ohio State   7:30 PM          NBC   \n",
      "54                 7Texas                @TCU   7:30 PM          NaN   \n",
      "55                Florida              @14LSU   7:30 PM          NaN   \n",
      "56      Mississippi State          @Texas A&M   7:30 PM          NaN   \n",
      "57                   Rice               @UTSA   7:30 PM          NaN   \n",
      "58                   Duke     @North Carolina   8:00 PM          NaN   \n",
      "59          Arizona State             @19UCLA   9:00 PM        PAC12   \n",
      "60             New Mexico        @Boise State  10:00 PM          FS1   \n",
      "61             Iowa State                @BYU  10:15 PM          NaN   \n",
      "62                  20USC            @6Oregon  10:30 PM          FOX   \n",
      "63           Fresno State     @San José State  10:30 PM        CBSSN   \n",
      "64            25Air Force            @Hawai'i  11:00 PM          NaN   \n",
      "\n",
      "                   Tickets  \n",
      "0     Tickets as low as $3  \n",
      "1    Tickets as low as $11  \n",
      "2    Tickets as low as $16  \n",
      "3    Tickets as low as $20  \n",
      "4     Tickets as low as $7  \n",
      "5     Tickets as low as $6  \n",
      "6     Tickets as low as $7  \n",
      "7    Tickets as low as $25  \n",
      "8    Tickets as low as $15  \n",
      "9    Tickets as low as $33  \n",
      "10  Tickets as low as $129  \n",
      "11   Tickets as low as $93  \n",
      "12   Tickets as low as $15  \n",
      "13    Tickets as low as $3  \n",
      "14   Tickets as low as $35  \n",
      "15   Tickets as low as $10  \n",
      "16   Tickets as low as $10  \n",
      "17   Tickets as low as $28  \n",
      "18   Tickets as low as $15  \n",
      "19   Tickets as low as $17  \n",
      "20    Tickets as low as $6  \n",
      "21   Tickets as low as $24  \n",
      "22   Tickets as low as $64  \n",
      "23  Tickets as low as $100  \n",
      "24   Tickets as low as $27  \n",
      "25   Tickets as low as $22  \n",
      "26   Tickets as low as $14  \n",
      "27   Tickets as low as $20  \n",
      "28   Tickets as low as $35  \n",
      "29   Tickets as low as $13  \n",
      "30   Tickets as low as $15  \n",
      "31  Tickets as low as $169  \n",
      "32   Tickets as low as $46  \n",
      "33   Tickets as low as $67  \n",
      "34   Tickets as low as $27  \n",
      "35   Tickets as low as $27  \n",
      "36   Tickets as low as $10  \n",
      "37    Tickets as low as $5  \n",
      "38   Tickets as low as $29  \n",
      "39    Tickets as low as $8  \n",
      "40   Tickets as low as $39  \n",
      "41   Tickets as low as $20  \n",
      "42   Tickets as low as $21  \n",
      "43   Tickets as low as $13  \n",
      "44   Tickets as low as $22  \n",
      "45   Tickets as low as $13  \n",
      "46   Tickets as low as $14  \n",
      "47   Tickets as low as $41  \n",
      "48  Tickets as low as $291  \n",
      "49   Tickets as low as $40  \n",
      "50    Tickets as low as $3  \n",
      "51   Tickets as low as $16  \n",
      "52   Tickets as low as $20  \n",
      "53   Tickets as low as $71  \n",
      "54  Tickets as low as $131  \n",
      "55   Tickets as low as $63  \n",
      "56   Tickets as low as $54  \n",
      "57    Tickets as low as $8  \n",
      "58   Tickets as low as $85  \n",
      "59   Tickets as low as $35  \n",
      "60    Tickets as low as $7  \n",
      "61   Tickets as low as $26  \n",
      "62   Tickets as low as $63  \n",
      "63   Tickets as low as $30  \n",
      "64   Tickets as low as $24  \n"
     ]
    }
   ],
   "source": [
    "#upcoming week\n",
    "# Set pandas display options to show all rows\n",
    "pd.set_option('display.max_rows', None)\n",
    "\n",
    "# Read the CSV file with the specified encoding\n",
    "NCAA_df2 = pd.read_csv(f'data/week{get_college_football_week()-1}.csv', encoding='ISO-8859-1')\n",
    "\n",
    "# Display the entire DataFrame\n",
    "print(NCAA_df2)"
   ]
  },
  {
   "cell_type": "code",
   "execution_count": 24,
   "metadata": {},
   "outputs": [
    {
     "name": "stdout",
     "output_type": "stream",
     "text": [
      "                  Team            Opo Team Away Team  Away Team Score  \\\n",
      "0    Northern Illinois   @Central Michigan       CMU               37   \n",
      "1              Buffalo             @Toledo       TOL               31   \n",
      "2           Ball State      @Bowling Green      BGSU               24   \n",
      "3           Kent State              @Akron       AKR               31   \n",
      "4                  TCU         @Texas Tech       TTU               35   \n",
      "5          Wake Forest               @Duke      DUKE               24   \n",
      "6        South Alabama               @Troy      TROY               28   \n",
      "7       Boston College           @Syracuse        BC               17   \n",
      "8       Colorado State            @Wyoming       WYO               24   \n",
      "9          1Ohio State            @Rutgers       OSU               35   \n",
      "10          12Missouri           @2Georgia       UGA               30   \n",
      "11              Purdue          @3Michigan      MICH               41   \n",
      "12      4Florida State         @Pittsburgh       FSU               24   \n",
      "13         5Washington              @20USC      WASH               52   \n",
      "14          California            @6Oregon       ORE               63   \n",
      "15      23Kansas State             @7Texas       TEX               33   \n",
      "16               14LSU           @8Alabama       ALA               42   \n",
      "17           9Oklahoma   @22Oklahoma State      OKST               27   \n",
      "18           Texas A&M         @10Ole Miss      MISS               38   \n",
      "19        11Penn State           @Maryland       PSU               51   \n",
      "20       Virginia Tech       @13Louisville       LOU               34   \n",
      "21        15Notre Dame            @Clemson      CLEM               31   \n",
      "22      16Oregon State           @Colorado      ORST               26   \n",
      "23               UConn        @17Tennessee      TENN               59   \n",
      "24       Arizona State             @18Utah      UTAH               55   \n",
      "25              19UCLA            @Arizona      ARIZ               27   \n",
      "26            21Kansas         @Iowa State        KU               28   \n",
      "27            24Tulane      @East Carolina      TULN               13   \n",
      "28                Army        @25Air Force      ARMY               23   \n",
      "29            Arkansas            @Florida       ARK               39   \n",
      "30           Wisconsin            @Indiana        IU               20   \n",
      "31            Nebraska     @Michigan State       MSU               20   \n",
      "32  Jacksonville State     @South Carolina        SC               38   \n",
      "33            Campbell     @North Carolina       UNC               59   \n",
      "34      Kennesaw State        @Sam Houston      SHSU               24   \n",
      "35        Georgia Tech           @Virginia        GT               45   \n",
      "36                Navy             @Temple       TEM               32   \n",
      "37    Florida Atlantic                @UAB       UAB               45   \n",
      "38                UTSA        @North Texas      UTSA               37   \n",
      "39       South Florida            @Memphis       MEM               59   \n",
      "40           Louisiana     @Arkansas State      ARST               37   \n",
      "41            Illinois          @Minnesota       ILL               27   \n",
      "42                Iowa       @Northwestern      IOWA               10   \n",
      "43           Merrimack      @Massachusetts      MASS               31   \n",
      "44             Houston             @Baylor       HOU               25   \n",
      "45                 UCF         @Cincinnati       UCF               28   \n",
      "46       James Madison      @Georgia State       JMU               42   \n",
      "47    Coastal Carolina       @Old Dominion       CCU               28   \n",
      "48              Auburn         @Vanderbilt       AUB               31   \n",
      "49           Charlotte              @Tulsa       CLT               33   \n",
      "50           UL Monroe      @Southern Miss       USM               24   \n",
      "51             Hawai'i             @Nevada       HAW               27   \n",
      "52    Georgia Southern        @Texas State      TXST               45   \n",
      "53      Louisiana Tech            @Liberty       LIB               56   \n",
      "54    Middle Tennessee   @New Mexico State      NMSU               13   \n",
      "55            Marshall  @Appalachian State       APP               31   \n",
      "56                UNLV         @New Mexico      UNLV               56   \n",
      "57                 BYU      @West Virginia       WVU               37   \n",
      "58          Utah State    @San Diego State       USU               32   \n",
      "59            Kentucky  @Mississippi State        UK               24   \n",
      "60                 SMU               @Rice       SMU               36   \n",
      "61               Miami           @NC State      NCSU               20   \n",
      "62    Western Kentucky               @UTEP       WKU               21   \n",
      "63            Stanford   @Washington State      STAN               10   \n",
      "64         Boise State       @Fresno State      FRES               37   \n",
      "\n",
      "   Home Team  Home Team Score       PassingLeader  PassingLeaderScore  \\\n",
      "0        NIU               31      Rocky Lombardi                 298   \n",
      "1       BUFF               13         Dequan Finn                 176   \n",
      "2       BALL               21      Connor Bazelak                 128   \n",
      "3       KENT               27     Lorenzo Lingard                 106   \n",
      "4        TCU               28         Josh Hoover                 353   \n",
      "5       WAKE               21       Mitch Griffis                 241   \n",
      "6        USA               10       Gunnar Watson                 271   \n",
      "7        SYR               10  Thomas Castellanos                 165   \n",
      "8        CSU               15            Nicolosi                 220   \n",
      "9       RUTG               16         Kyle McCord                 189   \n",
      "10       MIZ               21         Carson Beck                 254   \n",
      "11       PUR               13            McCarthy                 335   \n",
      "12      PITT                7       Jordan Travis                 360   \n",
      "13       USC               42      Caleb Williams                 312   \n",
      "14       CAL               19              Bo Nix                 386   \n",
      "15       KSU               30         Will Howard                 327   \n",
      "16       LSU               28      Jayden Daniels                 219   \n",
      "17        OU               24      Dillon Gabriel                 344   \n",
      "18        TA               35         Jaxson Dart                 387   \n",
      "19        MD               15   Taulia Tagovailoa                 286   \n",
      "20        VT                3        Jack Plummer                 141   \n",
      "21        ND               23         Sam Hartman                 146   \n",
      "22      COLO               19     Shedeur Sanders                 245   \n",
      "23      CONN                3      Joe Milton III                 254   \n",
      "24       ASU                3       Bryson Barnes                 161   \n",
      "25      UCLA               10         Noah Fifita                 300   \n",
      "26       ISU               21          Jason Bean                 287   \n",
      "27       ECU               10       Michael Pratt                 213   \n",
      "28       AFA                3         Zac Larrier                  93   \n",
      "29       FLA               36        Graham Mertz                 282   \n",
      "30       WIS               14       Braedyn Locke                 243   \n",
      "31       NEB               17        Katin Houser                 165   \n",
      "32      JVST               28     Spencer Rattler                 399   \n",
      "33       CAM                7          Drake Maye                 244   \n",
      "34      KENN               21    Keegan Shoemaker                 242   \n",
      "35       UVA               17         Haynes King                 208   \n",
      "36      NAVY               18              Warner                 402   \n",
      "37       FAU               42          Jacob Zeno                 484   \n",
      "38       UNT               29     Chandler Rogers                 272   \n",
      "39       USF               50         Byrum Brown                 357   \n",
      "40        UL               17       Jaylen Raynor                 194   \n",
      "41      MINN               26        Luke Altmyer                 212   \n",
      "42        NU                7    Brendan Sullivan                  81   \n",
      "43      MRMK               21  Taisun Phommachanh                 104   \n",
      "44       BAY               24        Blake Shapen                 263   \n",
      "45       CIN               26         Emory Jones                 217   \n",
      "46      GAST               14      Jordan McCloud                 307   \n",
      "47       ODU               24         Ethan Vasko                 180   \n",
      "48       VAN               15       Payton Thorne                 194   \n",
      "49      TLSA               26        Trexler Ivey                 277   \n",
      "50       ULM                7         Billy Wiles                 200   \n",
      "51       NEV               14     Brayden Schager                 203   \n",
      "52      GASO               24           TJ Finley                 301   \n",
      "53        LT               30      Hank Bachmeier                 304   \n",
      "54      MTSU                7         Diego Pavia                 220   \n",
      "55      MRSH                9        Joey Aguilar                 226   \n",
      "56       UNM               14       Jayden Maiava                 247   \n",
      "57       BYU                7       Jake Retzlaff                 210   \n",
      "58      SDSU               24        Jalen Mayden                 265   \n",
      "59      MSST                3         Devin Leary                 156   \n",
      "60      RICE               31       Preston Stone                 217   \n",
      "61       MIA                6      Tyler Van Dyke                 173   \n",
      "62      UTEP               13      Cade McConnell                 214   \n",
      "63       WSU                7        Cameron Ward                 241   \n",
      "64      BOIS               30         Mikey Keene                 290   \n",
      "\n",
      "         RushingLeader  RushingLeaderScore      ReceivingLeader  \\\n",
      "0         Marion Lukes                 202      Trayvon Rudolph   \n",
      "1           Peny Boone                 125       Anthony Torres   \n",
      "2       Terion Stewart                  92                  NaN   \n",
      "3      Chrishon McCray                 161                  NaN   \n",
      "4          Tahj Brooks                 146            Coy Eakin   \n",
      "5     Demond Claiborne                  81         Taylor Morin   \n",
      "6         Kimani Vidal                 125          Chris Lewis   \n",
      "7        LeQuint Allen                 142           Lewis Bond   \n",
      "8      Harrison Waylee                 128          Tory Horton   \n",
      "9        Kyle Monangai                 159   TreVeyon Henderson   \n",
      "10       Cody Schrader                 112        Ladd McConkey   \n",
      "11        Roman Wilson                 143                  NaN   \n",
      "12         Trey Benson                  97          Khi Douglas   \n",
      "13      Dillon Johnson                 256      Tahj Washington   \n",
      "14           Jaydn Ott                  93          Tez Johnson   \n",
      "15     Jonathon Brooks                 112      Adonai Mitchell   \n",
      "16      Jayden Daniels                 163         Malik Nabers   \n",
      "17     Ollie Gordon II                 137         Rashod Owens   \n",
      "18    Quinshon Judkins                 102           Tre Harris   \n",
      "19       Kaytron Allen                  91                Smith   \n",
      "20      Isaac Guerendo                 146       Jadon Thompson   \n",
      "21          Phil Mafah                 186        Beaux Collins   \n",
      "22     Damien Martinez                 115        Travis Hunter   \n",
      "23       Jaylen Wright                 113       Squirrel White   \n",
      "24     Quinden Jackson                 111        Devaughn Vele   \n",
      "25       Jonah Coleman                  77    Tetairoa McMillan   \n",
      "26          Devin Neal                  57      Lawrence Arnold   \n",
      "27        Makhi Hughes                 105    Lawrence Keys III   \n",
      "28        Bryson Daily                 170         Wyatt Wilson   \n",
      "29      Raheim Sanders                 103     Andrew Armstrong   \n",
      "30       Jackson Acker                  48         Bryson Green   \n",
      "31      Emmett Johnson                  57                  NaN   \n",
      "32         Ron Wiggins                  88       Xavier Legette   \n",
      "33     Omarion Hampton                 144     Ezeriah Anderson   \n",
      "34   Michael Benefield                 108           Noah Smith   \n",
      "35        Jamal Haynes                 119     Malik Washington   \n",
      "36       Xavier Arline                  97           Zae Baines   \n",
      "37          Kobe Lewis                  80     LaJohntay Wester   \n",
      "38     Kevorian Barnes                 129      Blair Conwright   \n",
      "39         Byrum Brown                 100           Roc Taylor   \n",
      "40         Zak Wallace                  88        Peter LeBlanc   \n",
      "41        Kaden Feagin                  89      Isaiah Williams   \n",
      "42     Leshon Williams                  79          Bryce Kirtz   \n",
      "43  George Johnson III                  36                  NaN   \n",
      "44       Donovan Smith                  66         Samuel Brown   \n",
      "45           RJ Harvey                 164         Braden Smith   \n",
      "46      Jordan McCloud                 104       Elijah Sarratt   \n",
      "47         Ethan Vasko                 170         Sam Pinckney   \n",
      "48      Jarquez Hunter                 183  Rivaldo Fairweather   \n",
      "49     Anthony Watkins                 146          Jairus Mack   \n",
      "50       Dariyan Wiley                 137                  NaN   \n",
      "51         Landon Sims                  65     Dalevon Campbell   \n",
      "52         Jalen White                 159          Joey Hobert   \n",
      "53      Quinton Cooley                 179           Noah Frith   \n",
      "54   Nicholas Vattiato                  96          Eli Stowers   \n",
      "55         Rasheen Ali                  79      Kaedin Robinson   \n",
      "56             Merritt                  86          Ricky White   \n",
      "57        Jahiem White                 146      Parker Kingston   \n",
      "58        Lucky Sutton                  86       Terrell Vaughn   \n",
      "59           Ray Davis                  80     Tayvion Robinson   \n",
      "60       Preston Stone                  81          Jake Bailey   \n",
      "61    Kevin Concepcion                  61                  NaN   \n",
      "62        Elijah Young                 139      Kelly Akharaiyi   \n",
      "63       Justin Lamson                  54           Josh Kelly   \n",
      "64       Malik Sherrod                 132           Mac Dalena   \n",
      "\n",
      "    ReceivingLeaderScore  \n",
      "0                  170.0  \n",
      "1                   84.0  \n",
      "2                    NaN  \n",
      "3                    NaN  \n",
      "4                   78.0  \n",
      "5                   92.0  \n",
      "6                  120.0  \n",
      "7                   48.0  \n",
      "8                   58.0  \n",
      "9                   80.0  \n",
      "10                  95.0  \n",
      "11                   NaN  \n",
      "12                 115.0  \n",
      "13                 122.0  \n",
      "14                 180.0  \n",
      "15                 149.0  \n",
      "16                 171.0  \n",
      "17                 136.0  \n",
      "18                 213.0  \n",
      "19                  95.0  \n",
      "20                  49.0  \n",
      "21                  37.0  \n",
      "22                  98.0  \n",
      "23                  94.0  \n",
      "24                  56.0  \n",
      "25                  81.0  \n",
      "26                 112.0  \n",
      "27                  77.0  \n",
      "28                  47.0  \n",
      "29                 103.0  \n",
      "30                  96.0  \n",
      "31                   NaN  \n",
      "32                 217.0  \n",
      "33                 102.0  \n",
      "34                  78.0  \n",
      "35                 109.0  \n",
      "36                 132.0  \n",
      "37                 219.0  \n",
      "38                  75.0  \n",
      "39                 159.0  \n",
      "40                 129.0  \n",
      "41                 131.0  \n",
      "42                  33.0  \n",
      "43                   NaN  \n",
      "44                  86.0  \n",
      "45                 114.0  \n",
      "46                  87.0  \n",
      "47                  69.0  \n",
      "48                  62.0  \n",
      "49                 124.0  \n",
      "50                   NaN  \n",
      "51                  88.0  \n",
      "52                 141.0  \n",
      "53                  96.0  \n",
      "54                  83.0  \n",
      "55                  55.0  \n",
      "56                 165.0  \n",
      "57                  57.0  \n",
      "58                  91.0  \n",
      "59                  91.0  \n",
      "60                  73.0  \n",
      "61                   NaN  \n",
      "62                 141.0  \n",
      "63                  82.0  \n",
      "64                  85.0  \n"
     ]
    }
   ],
   "source": [
    "# Set pandas display options to show all rows\n",
    "pd.set_option('display.max_rows', None)\n",
    "\n",
    "# Read the CSV file with the specified encoding\n",
    "NCAA_df1 = pd.read_csv(f'data/week{get_college_football_week()-2}.csv', encoding='ISO-8859-1')\n",
    "\n",
    "# Display the entire DataFrame\n",
    "print(NCAA_df1)\n",
    "\n",
    "\n",
    "\n"
   ]
  },
  {
   "cell_type": "code",
   "execution_count": 25,
   "metadata": {},
   "outputs": [],
   "source": [
    "#find who teams will be playing in following week"
   ]
  },
  {
   "cell_type": "code",
   "execution_count": 26,
   "metadata": {},
   "outputs": [
    {
     "name": "stdout",
     "output_type": "stream",
     "text": [
      "                Team           Opo Team Away Team  Away Team Score Home Team  \\\n",
      "0  Northern Illinois  @Central Michigan       CMU               37       NIU   \n",
      "1            Buffalo            @Toledo       TOL               31      BUFF   \n",
      "2         Ball State     @Bowling Green      BGSU               24      BALL   \n",
      "3         Kent State             @Akron       AKR               31      KENT   \n",
      "4                TCU        @Texas Tech       TTU               35       TCU   \n",
      "\n",
      "   Home Team Score    PassingLeader  PassingLeaderScore    RushingLeader  \\\n",
      "0               31   Rocky Lombardi                 298     Marion Lukes   \n",
      "1               13      Dequan Finn                 176       Peny Boone   \n",
      "2               21   Connor Bazelak                 128   Terion Stewart   \n",
      "3               27  Lorenzo Lingard                 106  Chrishon McCray   \n",
      "4               28      Josh Hoover                 353      Tahj Brooks   \n",
      "\n",
      "   RushingLeaderScore  ReceivingLeader  ReceivingLeaderScore  \n",
      "0                 202  Trayvon Rudolph                 170.0  \n",
      "1                 125   Anthony Torres                  84.0  \n",
      "2                  92              NaN                   NaN  \n",
      "3                 161              NaN                   NaN  \n",
      "4                 146        Coy Eakin                  78.0  \n"
     ]
    },
    {
     "data": {
      "text/html": [
       "<div>\n",
       "<style scoped>\n",
       "    .dataframe tbody tr th:only-of-type {\n",
       "        vertical-align: middle;\n",
       "    }\n",
       "\n",
       "    .dataframe tbody tr th {\n",
       "        vertical-align: top;\n",
       "    }\n",
       "\n",
       "    .dataframe thead th {\n",
       "        text-align: right;\n",
       "    }\n",
       "</style>\n",
       "<table border=\"1\" class=\"dataframe\">\n",
       "  <thead>\n",
       "    <tr style=\"text-align: right;\">\n",
       "      <th></th>\n",
       "      <th>Away Team</th>\n",
       "      <th>Away Team Score</th>\n",
       "      <th>Home Team</th>\n",
       "      <th>Home Team Score</th>\n",
       "    </tr>\n",
       "  </thead>\n",
       "  <tbody>\n",
       "    <tr>\n",
       "      <th>10</th>\n",
       "      <td>UGA</td>\n",
       "      <td>30</td>\n",
       "      <td>MIZ</td>\n",
       "      <td>21</td>\n",
       "    </tr>\n",
       "  </tbody>\n",
       "</table>\n",
       "</div>"
      ],
      "text/plain": [
       "   Away Team  Away Team Score Home Team  Home Team Score\n",
       "10       UGA               30       MIZ               21"
      ]
     },
     "execution_count": 26,
     "metadata": {},
     "output_type": "execute_result"
    }
   ],
   "source": [
    "print(NCAA_df1.head())\n",
    "# Filter the DataFrame to include rows where Georgia was either the Away Team or Home Team\n",
    "georgia_games = NCAA_df1[(NCAA_df1['Away Team'] == 'UGA') | (NCAA_df1['Home Team'] == 'UGA')]\n",
    "\n",
    "# Display the games in which Georgia played\n",
    "georgia_games[['Away Team', 'Away Team Score', 'Home Team', 'Home Team Score']]\n"
   ]
  },
  {
   "cell_type": "code",
   "execution_count": 27,
   "metadata": {},
   "outputs": [
    {
     "name": "stdout",
     "output_type": "stream",
     "text": [
      "              Team Away Team  Away Team Score Home Team  Home Team Score  \\\n",
      "24       UT Martin       UGA               48       UTM                7   \n",
      "3       Ball State       UGA               45      BALL                3   \n",
      "5   South Carolina       UGA               24        SC               14   \n",
      "5              UAB       UGA               49       UAB               21   \n",
      "7         1Georgia       UGA               27       AUB               20   \n",
      "6       20Kentucky       UGA               51        UK               13   \n",
      "10        1Georgia       UGA               37       VAN               20   \n",
      "7         1Georgia       UGA               43       FLA               20   \n",
      "10      12Missouri       UGA               30       MIZ               21   \n",
      "\n",
      "   PassingLeader  PassingLeaderScore  \n",
      "24   Carson Beck                 294  \n",
      "3    Carson Beck                 283  \n",
      "5    Carson Beck                 269  \n",
      "5    Carson Beck                 338  \n",
      "7    Carson Beck                 313  \n",
      "6    Carson Beck                 389  \n",
      "10   Carson Beck                 261  \n",
      "7    Carson Beck                 315  \n",
      "10   Carson Beck                 254  \n"
     ]
    }
   ],
   "source": [
    "# Define the range of weeks you want to consider\n",
    "start_week = 0\n",
    "end_week = get_college_football_week() - 2\n",
    "\n",
    "# Create an empty list to store DataFrames for each week\n",
    "all_georgia_games = []\n",
    "\n",
    "# Iterate through the specified weeks\n",
    "for week in range(start_week, end_week + 1):\n",
    "    file_path = f'data/week{week}.csv'\n",
    "    # Load data for the current week with the specified encoding\n",
    "    current_week_data = pd.read_csv(file_path, encoding='ISO-8859-1')\n",
    "\n",
    "    # Filter the games involving Georgia and append to the list\n",
    "    georgia_games = current_week_data[(current_week_data['Away Team'] == 'UGA') | (current_week_data['Home Team'] == 'UGA')]\n",
    "    all_georgia_games.append(georgia_games[['Team','Away Team', 'Away Team Score', 'Home Team', 'Home Team Score','PassingLeader','PassingLeaderScore']])\n",
    "\n",
    "# Concatenate all DataFrames to create a single DataFrame\n",
    "result_df = pd.concat(all_georgia_games)\n",
    "\n",
    "# Display all Georgia games\n",
    "print(result_df)"
   ]
  },
  {
   "cell_type": "code",
   "execution_count": 28,
   "metadata": {},
   "outputs": [],
   "source": [
    "def Score_Diff(away_team1,away_team2 ):\n",
    "    # Define the range of weeks you want to consider\n",
    "    start_week = 0\n",
    "    end_week = get_college_football_week() - 2\n",
    "\n",
    "    # Create an empty list to store DataFrames for each week\n",
    "    all_team_games = []\n",
    "\n",
    "    # Assuming school_td_totals['School'] is a list of teams\n",
    "    for team in [away_team1, away_team2]:\n",
    "        # Iterate through the specified weeks\n",
    "        for week in range(start_week, end_week + 1):\n",
    "            file_path = f'data/week{week}.csv'\n",
    "            # Load data for the current week with the specified encoding\n",
    "            current_week_data = pd.read_csv(file_path, encoding='ISO-8859-1')\n",
    "\n",
    "            # Filter the games involving the current team and append to the list\n",
    "            team_games = current_week_data[current_week_data['Away Team'] == team].copy()\n",
    "            team_games['Score Difference'] = team_games['Away Team Score'] - team_games['Home Team Score']\n",
    "            \n",
    "            # Add the week information to the DataFrame\n",
    "            team_games['Week'] = week\n",
    "\n",
    "            all_team_games.append(team_games[['Team', 'Away Team', 'Away Team Score', 'Home Team', 'Home Team Score', 'Score Difference', 'Week']])\n",
    "\n",
    "    # Concatenate all DataFrames to create a single DataFrame for all teams\n",
    "    all_teams_result_df = pd.concat(all_team_games)\n",
    "\n",
    "    # Plotting the line chart for all teams using plotly\n",
    "    fig = px.line(all_teams_result_df, x='Week', y='Score Difference', color='Home Team', markers=True,\n",
    "                title='Week-by-Week Score Difference for Selected Teams',\n",
    "                labels={'Score Difference': 'Score Difference', 'Week': 'Week'})\n",
    "                \n",
    "\n",
    "\n",
    "    # Add annotations for the 'Away Team' names\n",
    "    for index, row in all_teams_result_df.iterrows():\n",
    "        vs_team = row['Away Team']\n",
    "        fig.add_annotation(x=row['Week'], y=row['Score Difference'], text=vs_team,\n",
    "                        showarrow=True, arrowhead=4, ax=0, ay=-40)\n",
    "\n",
    "    # Update the legend item for \"Home Team\" to \"vs\"\n",
    "    fig.update_layout(legend_title_text='vs')\n",
    "\n",
    "    # Show the plot\n",
    "    fig.show()\n"
   ]
  },
  {
   "cell_type": "code",
   "execution_count": 29,
   "metadata": {},
   "outputs": [],
   "source": [
    "def PassLeader_Score_Diff(team1,team2):\n",
    "    start_week = 0\n",
    "    end_week = get_college_football_week() - 2\n",
    "\n",
    "    # Create an empty list to store DataFrames for each team\n",
    "    selected_teams_passing_leader = []\n",
    "\n",
    "    # Iterate through the specified weeks\n",
    "    for week in range(start_week, end_week + 1):\n",
    "        file_path = f'data/week{week}.csv'\n",
    "        # Load data for the current week with the specified encoding\n",
    "        current_week_data = pd.read_csv(file_path, encoding='ISO-8859-1')\n",
    "\n",
    "        # Filter the games involving the selected teams and append to the list\n",
    "        team1_games = current_week_data[((current_week_data['Away Team'] == team1) | (current_week_data['Home Team'] == team1)) &\n",
    "                                        ~current_week_data['PassingLeader'].isna()].copy()\n",
    "        \n",
    "        team2_games = current_week_data[((current_week_data['Away Team'] == team2) | (current_week_data['Home Team'] == team2)) &\n",
    "                                        ~current_week_data['PassingLeader'].isna()].copy()\n",
    "\n",
    "        # Add the week information to the DataFrame\n",
    "        team1_games['Week'] = team2_games['Week'] = week\n",
    "\n",
    "        selected_teams_passing_leader.append(team1_games[['Away Team', 'Home Team', 'PassingLeader', 'PassingLeaderScore', 'Week']])\n",
    "        selected_teams_passing_leader.append(team2_games[['Away Team', 'Home Team', 'PassingLeader', 'PassingLeaderScore', 'Week']])\n",
    "\n",
    "    # Concatenate all DataFrames to create a single DataFrame for selected teams\n",
    "    selected_teams_passing_leader_df = pd.concat(selected_teams_passing_leader)\n",
    "\n",
    "    # Plotting the line chart for PassingLeaderScore over the weeks for selected teams using plotly\n",
    "    fig_selected_teams = px.line(selected_teams_passing_leader_df, x='Week', y='PassingLeaderScore', color='PassingLeader', markers=True,\n",
    "                                title=f'PassingLeaderScore Over Weeks for {team1} and {team2}',\n",
    "                                labels={'PassingLeaderScore': 'PassingLeaderScore', 'Week': 'Week'},\n",
    "                                hover_data={'Away Team', 'Home Team', 'Week'})\n",
    "\n",
    "    # Rename the 'Home Team' and 'Away Team' columns to 'vs' and 'Team' respectively\n",
    "    fig_selected_teams.update_traces(hovertemplate='Week: %{x}<br>Team: %{customdata[1]}<br>vs: %{customdata[0]}<br>PassingLeaderScore: %{y}')\n",
    "\n",
    "    # Show the plot for PassingLeaderScore over weeks for selected teams with 'vs' and 'Team' in the hover tooltip\n",
    "    fig_selected_teams.show()\n",
    "    \n",
    "    \n",
    "    \n",
    "   # Concatenate all DataFrames to create a single DataFrame for selected teams\n",
    "    selected_teams_passing_leader_df = pd.concat(selected_teams_passing_leader)\n",
    "\n",
    "    # Sort the DataFrame by 'PassingLeaderScore' column in ascending order\n",
    "    selected_teams_passing_leader_df.sort_values(by='PassingLeaderScore', ascending=True, inplace=True)\n",
    "\n",
    "    # Assuming selected_teams_passing_leader_df is your DataFrame\n",
    "    leader_counts = selected_teams_passing_leader_df.groupby(['Away Team', 'PassingLeader']).size().reset_index(name='Count')\n",
    "\n",
    "    # Filter the counts for Team1 and Team2\n",
    "    team1_counts = leader_counts[leader_counts['Away Team'] == team1]\n",
    "    team2_counts = leader_counts[leader_counts['Away Team'] == team2]\n",
    "\n",
    "    # Get the PassingLeader with the highest count for Team1 and Team2\n",
    "    team1_highest_count_leader = team1_counts.loc[team1_counts['Count'].idxmax(), 'PassingLeader']\n",
    "    team2_highest_count_leader = team2_counts.loc[team2_counts['Count'].idxmax(), 'PassingLeader']\n",
    "\n",
    "    # Get the row with the highest PassingLeaderScore for the most frequent PassingLeader from Team1 and Team2\n",
    "    team1_highest_score_row = selected_teams_passing_leader_df[(selected_teams_passing_leader_df['Away Team'] == team1) &\n",
    "                                                                (selected_teams_passing_leader_df['PassingLeader'] == team1_highest_count_leader)].nlargest(1, 'PassingLeaderScore')\n",
    "    team2_highest_score_row = selected_teams_passing_leader_df[(selected_teams_passing_leader_df['Away Team'] == team2) &\n",
    "                                                                (selected_teams_passing_leader_df['PassingLeader'] == team2_highest_count_leader)].nlargest(1, 'PassingLeaderScore')\n",
    "\n",
    "\n",
    "    # Extract Home Team names\n",
    "    team1_highest_home_team = team1_highest_score_row['Home Team'].values[0]\n",
    "    team2_highest_home_team = team2_highest_score_row['Home Team'].values[0]\n",
    "    \n",
    "\n",
    "    # Get the row with the lowest PassingLeaderScore for the least frequent PassingLeader from Team1 and Team2\n",
    "    team1_lowest_score_row = selected_teams_passing_leader_df[(selected_teams_passing_leader_df['Away Team'] == team1) &\n",
    "                                                                (selected_teams_passing_leader_df['PassingLeader'] == team1_highest_count_leader)].nsmallest(1, 'PassingLeaderScore')\n",
    "\n",
    "    team2_lowest_score_row = selected_teams_passing_leader_df[(selected_teams_passing_leader_df['Away Team'] == team2) &\n",
    "                                                                (selected_teams_passing_leader_df['PassingLeader'] == team2_highest_count_leader)].nsmallest(1, 'PassingLeaderScore')\n",
    "\n",
    "    team1_lowest_home_team = team1_lowest_score_row['Home Team'].values[0]\n",
    "    team2_lowest_home_team = team2_lowest_score_row['Home Team'].values[0]\n",
    "\n",
    "    print(team1, team2, team2_highest_home_team, team1_highest_home_team, team2_lowest_home_team, team1_lowest_home_team)\n",
    "    # Call IntBySchool with Home Team names\n",
    "    IntBySchool(team1, team2, team2_highest_home_team, team1_highest_home_team, team2_lowest_home_team, team1_lowest_home_team)\n",
    "    # Example usage:\n",
    "\n",
    "    TotPlacement(team1, team2, team2_highest_home_team, team1_highest_home_team, team2_lowest_home_team, team1_lowest_home_team)\n",
    "    highlight_teams=[team1, team2, team2_highest_home_team, team1_highest_home_team, team2_lowest_home_team, team1_lowest_home_team]\n",
    "    plot_sack_totals_interactive( highlight_teams)\n",
    "    #TotPlacement(team1,team2,team1_lowest_home_team, team2_lowest_home_team, team1_highest_home_team, team2_highest_home_team)\n",
    "    #print(team1, team2, team2_highest_home_team, team1_highest_home_team, team2_lowest_home_team, team1_lowest_home_team)"
   ]
  },
  {
   "cell_type": "markdown",
   "metadata": {},
   "source": [
    "(for this data above ^)The True home team is the team who name is under Team"
   ]
  },
  {
   "cell_type": "markdown",
   "metadata": {},
   "source": [
    "now we want to Calculate point difference for each game below.\n"
   ]
  },
  {
   "cell_type": "code",
   "execution_count": 30,
   "metadata": {},
   "outputs": [],
   "source": [
    "\n",
    "def RushLeader_Score_Diff(team1,team2):\n",
    "    # Define the range of weeks you want to consider\n",
    "    start_week = 0\n",
    "    end_week = get_college_football_week() - 2\n",
    "\n",
    "    # Create an empty list to store DataFrames for each team\n",
    "    selected_teams_rushing_leader = []\n",
    "\n",
    "    # Iterate through the specified weeks\n",
    "    for week in range(start_week, end_week + 1):\n",
    "        file_path = f'data/week{week}.csv'\n",
    "        # Load data for the current week with the specified encoding\n",
    "        current_week_data = pd.read_csv(file_path, encoding='ISO-8859-1')\n",
    "\n",
    "        # Filter the games involving the selected teams and append to the list\n",
    "        team1_games = current_week_data[(current_week_data['Away Team'] == team1) &\n",
    "                                        ~current_week_data['RushingLeader'].isna()].copy()\n",
    "        \n",
    "        team2_games = current_week_data[(current_week_data['Away Team'] == team2)  &\n",
    "                                        ~current_week_data['RushingLeader'].isna()].copy()\n",
    "\n",
    "        # Add the week information to the DataFrame\n",
    "        team1_games['Week'] = team2_games['Week'] = week\n",
    "\n",
    "        selected_teams_rushing_leader.append(team1_games[['Away Team', 'Home Team', 'RushingLeader', 'RushingLeaderScore', 'Week']])\n",
    "        selected_teams_rushing_leader.append(team2_games[['Away Team', 'Home Team', 'RushingLeader', 'RushingLeaderScore', 'Week']])\n",
    "\n",
    "    # Concatenate all DataFrames to create a single DataFrame for selected teams\n",
    "    selected_teams_rushing_leader_df = pd.concat(selected_teams_rushing_leader)\n",
    "\n",
    "    # Plotting the line chart for PassingLeaderScore over the weeks for selected teams using plotly\n",
    "    fig_selected_teams = px.line(selected_teams_rushing_leader_df, x='Week', y='RushingLeaderScore', color='RushingLeader', markers=True,\n",
    "                                title=f'RushingLeaderScore Over Weeks for {team1} and {team2}',\n",
    "                                labels={'RushingLeaderScore': 'RushingLeaderScore', 'Week': 'Week'},\n",
    "                                hover_data={'Away Team', 'Home Team', 'Week'})\n",
    "\n",
    "    # Rename the 'Home Team' and 'Away Team' columns to 'vs' and 'Team' respectively\n",
    "    fig_selected_teams.update_traces(hovertemplate='Week: %{x}<br>Team: %{customdata[1]}<br>vs: %{customdata[0]}<br>RushingLeaderScore: %{y}')\n",
    "\n",
    "    # Show the plot for PassingLeaderScore over weeks for selected teams with 'vs' and 'Team' in the hover tooltip\n",
    "    fig_selected_teams.show()\n"
   ]
  },
  {
   "cell_type": "code",
   "execution_count": 33,
   "metadata": {},
   "outputs": [
    {
     "data": {
      "application/vnd.plotly.v1+json": {
       "config": {
        "plotlyServerURL": "https://plot.ly"
       },
       "data": [
        {
         "hovertemplate": "Home Team=CHSO<br>Week=%{x}<br>Score Difference=%{y}<extra></extra>",
         "legendgroup": "CHSO",
         "line": {
          "color": "#636efa",
          "dash": "solid"
         },
         "marker": {
          "symbol": "circle"
         },
         "mode": "markers+lines",
         "name": "CHSO",
         "orientation": "v",
         "showlegend": true,
         "type": "scatter",
         "x": [
          1
         ],
         "xaxis": "x",
         "y": [
          49
         ],
         "yaxis": "y"
        },
        {
         "hovertemplate": "Home Team=FAU<br>Week=%{x}<br>Score Difference=%{y}<extra></extra>",
         "legendgroup": "FAU",
         "line": {
          "color": "#EF553B",
          "dash": "solid"
         },
         "marker": {
          "symbol": "circle"
         },
         "mode": "markers+lines",
         "name": "FAU",
         "orientation": "v",
         "showlegend": true,
         "type": "scatter",
         "x": [
          2
         ],
         "xaxis": "x",
         "y": [
          34
         ],
         "yaxis": "y"
        },
        {
         "hovertemplate": "Home Team=SYR<br>Week=%{x}<br>Score Difference=%{y}<extra></extra>",
         "legendgroup": "SYR",
         "line": {
          "color": "#00cc96",
          "dash": "solid"
         },
         "marker": {
          "symbol": "circle"
         },
         "mode": "markers+lines",
         "name": "SYR",
         "orientation": "v",
         "showlegend": true,
         "type": "scatter",
         "x": [
          4
         ],
         "xaxis": "x",
         "y": [
          17
         ],
         "yaxis": "y"
        },
        {
         "hovertemplate": "Home Team=WAKE<br>Week=%{x}<br>Score Difference=%{y}<extra></extra>",
         "legendgroup": "WAKE",
         "line": {
          "color": "#ab63fa",
          "dash": "solid"
         },
         "marker": {
          "symbol": "circle"
         },
         "mode": "markers+lines",
         "name": "WAKE",
         "orientation": "v",
         "showlegend": true,
         "type": "scatter",
         "x": [
          5,
          3
         ],
         "xaxis": "x",
         "y": [
          5,
          14
         ],
         "yaxis": "y"
        },
        {
         "hovertemplate": "Home Team=ND<br>Week=%{x}<br>Score Difference=%{y}<extra></extra>",
         "legendgroup": "ND",
         "line": {
          "color": "#FFA15A",
          "dash": "solid"
         },
         "marker": {
          "symbol": "circle"
         },
         "mode": "markers+lines",
         "name": "ND",
         "orientation": "v",
         "showlegend": true,
         "type": "scatter",
         "x": [
          9
         ],
         "xaxis": "x",
         "y": [
          8
         ],
         "yaxis": "y"
        },
        {
         "hovertemplate": "Home Team=SCST<br>Week=%{x}<br>Score Difference=%{y}<extra></extra>",
         "legendgroup": "SCST",
         "line": {
          "color": "#19d3f3",
          "dash": "solid"
         },
         "marker": {
          "symbol": "circle"
         },
         "mode": "markers+lines",
         "name": "SCST",
         "orientation": "v",
         "showlegend": true,
         "type": "scatter",
         "x": [
          1
         ],
         "xaxis": "x",
         "y": [
          35
         ],
         "yaxis": "y"
        },
        {
         "hovertemplate": "Home Team=MIA<br>Week=%{x}<br>Score Difference=%{y}<extra></extra>",
         "legendgroup": "MIA",
         "line": {
          "color": "#FF6692",
          "dash": "solid"
         },
         "marker": {
          "symbol": "circle"
         },
         "mode": "markers+lines",
         "name": "MIA",
         "orientation": "v",
         "showlegend": true,
         "type": "scatter",
         "x": [
          5
         ],
         "xaxis": "x",
         "y": [
          3
         ],
         "yaxis": "y"
        },
        {
         "hovertemplate": "Home Team=UNC<br>Week=%{x}<br>Score Difference=%{y}<extra></extra>",
         "legendgroup": "UNC",
         "line": {
          "color": "#B6E880",
          "dash": "solid"
         },
         "marker": {
          "symbol": "circle"
         },
         "mode": "markers+lines",
         "name": "UNC",
         "orientation": "v",
         "showlegend": true,
         "type": "scatter",
         "x": [
          8
         ],
         "xaxis": "x",
         "y": [
          4
         ],
         "yaxis": "y"
        },
        {
         "hovertemplate": "Home Team=UVA<br>Week=%{x}<br>Score Difference=%{y}<extra></extra>",
         "legendgroup": "UVA",
         "line": {
          "color": "#FF97FF",
          "dash": "solid"
         },
         "marker": {
          "symbol": "circle"
         },
         "mode": "markers+lines",
         "name": "UVA",
         "orientation": "v",
         "showlegend": true,
         "type": "scatter",
         "x": [
          9
         ],
         "xaxis": "x",
         "y": [
          28
         ],
         "yaxis": "y"
        }
       ],
       "layout": {
        "annotations": [
         {
          "arrowhead": 4,
          "ax": 0,
          "ay": -40,
          "showarrow": true,
          "text": "CLEM",
          "x": 1,
          "y": 49
         },
         {
          "arrowhead": 4,
          "ax": 0,
          "ay": -40,
          "showarrow": true,
          "text": "CLEM",
          "x": 2,
          "y": 34
         },
         {
          "arrowhead": 4,
          "ax": 0,
          "ay": -40,
          "showarrow": true,
          "text": "CLEM",
          "x": 4,
          "y": 17
         },
         {
          "arrowhead": 4,
          "ax": 0,
          "ay": -40,
          "showarrow": true,
          "text": "CLEM",
          "x": 5,
          "y": 5
         },
         {
          "arrowhead": 4,
          "ax": 0,
          "ay": -40,
          "showarrow": true,
          "text": "CLEM",
          "x": 9,
          "y": 8
         },
         {
          "arrowhead": 4,
          "ax": 0,
          "ay": -40,
          "showarrow": true,
          "text": "GT",
          "x": 1,
          "y": 35
         },
         {
          "arrowhead": 4,
          "ax": 0,
          "ay": -40,
          "showarrow": true,
          "text": "GT",
          "x": 3,
          "y": 14
         },
         {
          "arrowhead": 4,
          "ax": 0,
          "ay": -40,
          "showarrow": true,
          "text": "GT",
          "x": 5,
          "y": 3
         },
         {
          "arrowhead": 4,
          "ax": 0,
          "ay": -40,
          "showarrow": true,
          "text": "GT",
          "x": 8,
          "y": 4
         },
         {
          "arrowhead": 4,
          "ax": 0,
          "ay": -40,
          "showarrow": true,
          "text": "GT",
          "x": 9,
          "y": 28
         }
        ],
        "legend": {
         "title": {
          "text": "vs"
         },
         "tracegroupgap": 0
        },
        "template": {
         "data": {
          "bar": [
           {
            "error_x": {
             "color": "#2a3f5f"
            },
            "error_y": {
             "color": "#2a3f5f"
            },
            "marker": {
             "line": {
              "color": "#E5ECF6",
              "width": 0.5
             },
             "pattern": {
              "fillmode": "overlay",
              "size": 10,
              "solidity": 0.2
             }
            },
            "type": "bar"
           }
          ],
          "barpolar": [
           {
            "marker": {
             "line": {
              "color": "#E5ECF6",
              "width": 0.5
             },
             "pattern": {
              "fillmode": "overlay",
              "size": 10,
              "solidity": 0.2
             }
            },
            "type": "barpolar"
           }
          ],
          "carpet": [
           {
            "aaxis": {
             "endlinecolor": "#2a3f5f",
             "gridcolor": "white",
             "linecolor": "white",
             "minorgridcolor": "white",
             "startlinecolor": "#2a3f5f"
            },
            "baxis": {
             "endlinecolor": "#2a3f5f",
             "gridcolor": "white",
             "linecolor": "white",
             "minorgridcolor": "white",
             "startlinecolor": "#2a3f5f"
            },
            "type": "carpet"
           }
          ],
          "choropleth": [
           {
            "colorbar": {
             "outlinewidth": 0,
             "ticks": ""
            },
            "type": "choropleth"
           }
          ],
          "contour": [
           {
            "colorbar": {
             "outlinewidth": 0,
             "ticks": ""
            },
            "colorscale": [
             [
              0,
              "#0d0887"
             ],
             [
              0.1111111111111111,
              "#46039f"
             ],
             [
              0.2222222222222222,
              "#7201a8"
             ],
             [
              0.3333333333333333,
              "#9c179e"
             ],
             [
              0.4444444444444444,
              "#bd3786"
             ],
             [
              0.5555555555555556,
              "#d8576b"
             ],
             [
              0.6666666666666666,
              "#ed7953"
             ],
             [
              0.7777777777777778,
              "#fb9f3a"
             ],
             [
              0.8888888888888888,
              "#fdca26"
             ],
             [
              1,
              "#f0f921"
             ]
            ],
            "type": "contour"
           }
          ],
          "contourcarpet": [
           {
            "colorbar": {
             "outlinewidth": 0,
             "ticks": ""
            },
            "type": "contourcarpet"
           }
          ],
          "heatmap": [
           {
            "colorbar": {
             "outlinewidth": 0,
             "ticks": ""
            },
            "colorscale": [
             [
              0,
              "#0d0887"
             ],
             [
              0.1111111111111111,
              "#46039f"
             ],
             [
              0.2222222222222222,
              "#7201a8"
             ],
             [
              0.3333333333333333,
              "#9c179e"
             ],
             [
              0.4444444444444444,
              "#bd3786"
             ],
             [
              0.5555555555555556,
              "#d8576b"
             ],
             [
              0.6666666666666666,
              "#ed7953"
             ],
             [
              0.7777777777777778,
              "#fb9f3a"
             ],
             [
              0.8888888888888888,
              "#fdca26"
             ],
             [
              1,
              "#f0f921"
             ]
            ],
            "type": "heatmap"
           }
          ],
          "heatmapgl": [
           {
            "colorbar": {
             "outlinewidth": 0,
             "ticks": ""
            },
            "colorscale": [
             [
              0,
              "#0d0887"
             ],
             [
              0.1111111111111111,
              "#46039f"
             ],
             [
              0.2222222222222222,
              "#7201a8"
             ],
             [
              0.3333333333333333,
              "#9c179e"
             ],
             [
              0.4444444444444444,
              "#bd3786"
             ],
             [
              0.5555555555555556,
              "#d8576b"
             ],
             [
              0.6666666666666666,
              "#ed7953"
             ],
             [
              0.7777777777777778,
              "#fb9f3a"
             ],
             [
              0.8888888888888888,
              "#fdca26"
             ],
             [
              1,
              "#f0f921"
             ]
            ],
            "type": "heatmapgl"
           }
          ],
          "histogram": [
           {
            "marker": {
             "pattern": {
              "fillmode": "overlay",
              "size": 10,
              "solidity": 0.2
             }
            },
            "type": "histogram"
           }
          ],
          "histogram2d": [
           {
            "colorbar": {
             "outlinewidth": 0,
             "ticks": ""
            },
            "colorscale": [
             [
              0,
              "#0d0887"
             ],
             [
              0.1111111111111111,
              "#46039f"
             ],
             [
              0.2222222222222222,
              "#7201a8"
             ],
             [
              0.3333333333333333,
              "#9c179e"
             ],
             [
              0.4444444444444444,
              "#bd3786"
             ],
             [
              0.5555555555555556,
              "#d8576b"
             ],
             [
              0.6666666666666666,
              "#ed7953"
             ],
             [
              0.7777777777777778,
              "#fb9f3a"
             ],
             [
              0.8888888888888888,
              "#fdca26"
             ],
             [
              1,
              "#f0f921"
             ]
            ],
            "type": "histogram2d"
           }
          ],
          "histogram2dcontour": [
           {
            "colorbar": {
             "outlinewidth": 0,
             "ticks": ""
            },
            "colorscale": [
             [
              0,
              "#0d0887"
             ],
             [
              0.1111111111111111,
              "#46039f"
             ],
             [
              0.2222222222222222,
              "#7201a8"
             ],
             [
              0.3333333333333333,
              "#9c179e"
             ],
             [
              0.4444444444444444,
              "#bd3786"
             ],
             [
              0.5555555555555556,
              "#d8576b"
             ],
             [
              0.6666666666666666,
              "#ed7953"
             ],
             [
              0.7777777777777778,
              "#fb9f3a"
             ],
             [
              0.8888888888888888,
              "#fdca26"
             ],
             [
              1,
              "#f0f921"
             ]
            ],
            "type": "histogram2dcontour"
           }
          ],
          "mesh3d": [
           {
            "colorbar": {
             "outlinewidth": 0,
             "ticks": ""
            },
            "type": "mesh3d"
           }
          ],
          "parcoords": [
           {
            "line": {
             "colorbar": {
              "outlinewidth": 0,
              "ticks": ""
             }
            },
            "type": "parcoords"
           }
          ],
          "pie": [
           {
            "automargin": true,
            "type": "pie"
           }
          ],
          "scatter": [
           {
            "fillpattern": {
             "fillmode": "overlay",
             "size": 10,
             "solidity": 0.2
            },
            "type": "scatter"
           }
          ],
          "scatter3d": [
           {
            "line": {
             "colorbar": {
              "outlinewidth": 0,
              "ticks": ""
             }
            },
            "marker": {
             "colorbar": {
              "outlinewidth": 0,
              "ticks": ""
             }
            },
            "type": "scatter3d"
           }
          ],
          "scattercarpet": [
           {
            "marker": {
             "colorbar": {
              "outlinewidth": 0,
              "ticks": ""
             }
            },
            "type": "scattercarpet"
           }
          ],
          "scattergeo": [
           {
            "marker": {
             "colorbar": {
              "outlinewidth": 0,
              "ticks": ""
             }
            },
            "type": "scattergeo"
           }
          ],
          "scattergl": [
           {
            "marker": {
             "colorbar": {
              "outlinewidth": 0,
              "ticks": ""
             }
            },
            "type": "scattergl"
           }
          ],
          "scattermapbox": [
           {
            "marker": {
             "colorbar": {
              "outlinewidth": 0,
              "ticks": ""
             }
            },
            "type": "scattermapbox"
           }
          ],
          "scatterpolar": [
           {
            "marker": {
             "colorbar": {
              "outlinewidth": 0,
              "ticks": ""
             }
            },
            "type": "scatterpolar"
           }
          ],
          "scatterpolargl": [
           {
            "marker": {
             "colorbar": {
              "outlinewidth": 0,
              "ticks": ""
             }
            },
            "type": "scatterpolargl"
           }
          ],
          "scatterternary": [
           {
            "marker": {
             "colorbar": {
              "outlinewidth": 0,
              "ticks": ""
             }
            },
            "type": "scatterternary"
           }
          ],
          "surface": [
           {
            "colorbar": {
             "outlinewidth": 0,
             "ticks": ""
            },
            "colorscale": [
             [
              0,
              "#0d0887"
             ],
             [
              0.1111111111111111,
              "#46039f"
             ],
             [
              0.2222222222222222,
              "#7201a8"
             ],
             [
              0.3333333333333333,
              "#9c179e"
             ],
             [
              0.4444444444444444,
              "#bd3786"
             ],
             [
              0.5555555555555556,
              "#d8576b"
             ],
             [
              0.6666666666666666,
              "#ed7953"
             ],
             [
              0.7777777777777778,
              "#fb9f3a"
             ],
             [
              0.8888888888888888,
              "#fdca26"
             ],
             [
              1,
              "#f0f921"
             ]
            ],
            "type": "surface"
           }
          ],
          "table": [
           {
            "cells": {
             "fill": {
              "color": "#EBF0F8"
             },
             "line": {
              "color": "white"
             }
            },
            "header": {
             "fill": {
              "color": "#C8D4E3"
             },
             "line": {
              "color": "white"
             }
            },
            "type": "table"
           }
          ]
         },
         "layout": {
          "annotationdefaults": {
           "arrowcolor": "#2a3f5f",
           "arrowhead": 0,
           "arrowwidth": 1
          },
          "autotypenumbers": "strict",
          "coloraxis": {
           "colorbar": {
            "outlinewidth": 0,
            "ticks": ""
           }
          },
          "colorscale": {
           "diverging": [
            [
             0,
             "#8e0152"
            ],
            [
             0.1,
             "#c51b7d"
            ],
            [
             0.2,
             "#de77ae"
            ],
            [
             0.3,
             "#f1b6da"
            ],
            [
             0.4,
             "#fde0ef"
            ],
            [
             0.5,
             "#f7f7f7"
            ],
            [
             0.6,
             "#e6f5d0"
            ],
            [
             0.7,
             "#b8e186"
            ],
            [
             0.8,
             "#7fbc41"
            ],
            [
             0.9,
             "#4d9221"
            ],
            [
             1,
             "#276419"
            ]
           ],
           "sequential": [
            [
             0,
             "#0d0887"
            ],
            [
             0.1111111111111111,
             "#46039f"
            ],
            [
             0.2222222222222222,
             "#7201a8"
            ],
            [
             0.3333333333333333,
             "#9c179e"
            ],
            [
             0.4444444444444444,
             "#bd3786"
            ],
            [
             0.5555555555555556,
             "#d8576b"
            ],
            [
             0.6666666666666666,
             "#ed7953"
            ],
            [
             0.7777777777777778,
             "#fb9f3a"
            ],
            [
             0.8888888888888888,
             "#fdca26"
            ],
            [
             1,
             "#f0f921"
            ]
           ],
           "sequentialminus": [
            [
             0,
             "#0d0887"
            ],
            [
             0.1111111111111111,
             "#46039f"
            ],
            [
             0.2222222222222222,
             "#7201a8"
            ],
            [
             0.3333333333333333,
             "#9c179e"
            ],
            [
             0.4444444444444444,
             "#bd3786"
            ],
            [
             0.5555555555555556,
             "#d8576b"
            ],
            [
             0.6666666666666666,
             "#ed7953"
            ],
            [
             0.7777777777777778,
             "#fb9f3a"
            ],
            [
             0.8888888888888888,
             "#fdca26"
            ],
            [
             1,
             "#f0f921"
            ]
           ]
          },
          "colorway": [
           "#636efa",
           "#EF553B",
           "#00cc96",
           "#ab63fa",
           "#FFA15A",
           "#19d3f3",
           "#FF6692",
           "#B6E880",
           "#FF97FF",
           "#FECB52"
          ],
          "font": {
           "color": "#2a3f5f"
          },
          "geo": {
           "bgcolor": "white",
           "lakecolor": "white",
           "landcolor": "#E5ECF6",
           "showlakes": true,
           "showland": true,
           "subunitcolor": "white"
          },
          "hoverlabel": {
           "align": "left"
          },
          "hovermode": "closest",
          "mapbox": {
           "style": "light"
          },
          "paper_bgcolor": "white",
          "plot_bgcolor": "#E5ECF6",
          "polar": {
           "angularaxis": {
            "gridcolor": "white",
            "linecolor": "white",
            "ticks": ""
           },
           "bgcolor": "#E5ECF6",
           "radialaxis": {
            "gridcolor": "white",
            "linecolor": "white",
            "ticks": ""
           }
          },
          "scene": {
           "xaxis": {
            "backgroundcolor": "#E5ECF6",
            "gridcolor": "white",
            "gridwidth": 2,
            "linecolor": "white",
            "showbackground": true,
            "ticks": "",
            "zerolinecolor": "white"
           },
           "yaxis": {
            "backgroundcolor": "#E5ECF6",
            "gridcolor": "white",
            "gridwidth": 2,
            "linecolor": "white",
            "showbackground": true,
            "ticks": "",
            "zerolinecolor": "white"
           },
           "zaxis": {
            "backgroundcolor": "#E5ECF6",
            "gridcolor": "white",
            "gridwidth": 2,
            "linecolor": "white",
            "showbackground": true,
            "ticks": "",
            "zerolinecolor": "white"
           }
          },
          "shapedefaults": {
           "line": {
            "color": "#2a3f5f"
           }
          },
          "ternary": {
           "aaxis": {
            "gridcolor": "white",
            "linecolor": "white",
            "ticks": ""
           },
           "baxis": {
            "gridcolor": "white",
            "linecolor": "white",
            "ticks": ""
           },
           "bgcolor": "#E5ECF6",
           "caxis": {
            "gridcolor": "white",
            "linecolor": "white",
            "ticks": ""
           }
          },
          "title": {
           "x": 0.05
          },
          "xaxis": {
           "automargin": true,
           "gridcolor": "white",
           "linecolor": "white",
           "ticks": "",
           "title": {
            "standoff": 15
           },
           "zerolinecolor": "white",
           "zerolinewidth": 2
          },
          "yaxis": {
           "automargin": true,
           "gridcolor": "white",
           "linecolor": "white",
           "ticks": "",
           "title": {
            "standoff": 15
           },
           "zerolinecolor": "white",
           "zerolinewidth": 2
          }
         }
        },
        "title": {
         "text": "Week-by-Week Score Difference for Selected Teams"
        },
        "xaxis": {
         "anchor": "y",
         "domain": [
          0,
          1
         ],
         "title": {
          "text": "Week"
         }
        },
        "yaxis": {
         "anchor": "x",
         "domain": [
          0,
          1
         ],
         "title": {
          "text": "Score Difference"
         }
        }
       }
      },
      "text/html": [
       "<div>                            <div id=\"012aecd2-5807-4755-8b3f-f065b3dedd40\" class=\"plotly-graph-div\" style=\"height:525px; width:100%;\"></div>            <script type=\"text/javascript\">                require([\"plotly\"], function(Plotly) {                    window.PLOTLYENV=window.PLOTLYENV || {};                                    if (document.getElementById(\"012aecd2-5807-4755-8b3f-f065b3dedd40\")) {                    Plotly.newPlot(                        \"012aecd2-5807-4755-8b3f-f065b3dedd40\",                        [{\"hovertemplate\":\"Home Team=CHSO\\u003cbr\\u003eWeek=%{x}\\u003cbr\\u003eScore Difference=%{y}\\u003cextra\\u003e\\u003c\\u002fextra\\u003e\",\"legendgroup\":\"CHSO\",\"line\":{\"color\":\"#636efa\",\"dash\":\"solid\"},\"marker\":{\"symbol\":\"circle\"},\"mode\":\"markers+lines\",\"name\":\"CHSO\",\"orientation\":\"v\",\"showlegend\":true,\"x\":[1],\"xaxis\":\"x\",\"y\":[49],\"yaxis\":\"y\",\"type\":\"scatter\"},{\"hovertemplate\":\"Home Team=FAU\\u003cbr\\u003eWeek=%{x}\\u003cbr\\u003eScore Difference=%{y}\\u003cextra\\u003e\\u003c\\u002fextra\\u003e\",\"legendgroup\":\"FAU\",\"line\":{\"color\":\"#EF553B\",\"dash\":\"solid\"},\"marker\":{\"symbol\":\"circle\"},\"mode\":\"markers+lines\",\"name\":\"FAU\",\"orientation\":\"v\",\"showlegend\":true,\"x\":[2],\"xaxis\":\"x\",\"y\":[34],\"yaxis\":\"y\",\"type\":\"scatter\"},{\"hovertemplate\":\"Home Team=SYR\\u003cbr\\u003eWeek=%{x}\\u003cbr\\u003eScore Difference=%{y}\\u003cextra\\u003e\\u003c\\u002fextra\\u003e\",\"legendgroup\":\"SYR\",\"line\":{\"color\":\"#00cc96\",\"dash\":\"solid\"},\"marker\":{\"symbol\":\"circle\"},\"mode\":\"markers+lines\",\"name\":\"SYR\",\"orientation\":\"v\",\"showlegend\":true,\"x\":[4],\"xaxis\":\"x\",\"y\":[17],\"yaxis\":\"y\",\"type\":\"scatter\"},{\"hovertemplate\":\"Home Team=WAKE\\u003cbr\\u003eWeek=%{x}\\u003cbr\\u003eScore Difference=%{y}\\u003cextra\\u003e\\u003c\\u002fextra\\u003e\",\"legendgroup\":\"WAKE\",\"line\":{\"color\":\"#ab63fa\",\"dash\":\"solid\"},\"marker\":{\"symbol\":\"circle\"},\"mode\":\"markers+lines\",\"name\":\"WAKE\",\"orientation\":\"v\",\"showlegend\":true,\"x\":[5,3],\"xaxis\":\"x\",\"y\":[5,14],\"yaxis\":\"y\",\"type\":\"scatter\"},{\"hovertemplate\":\"Home Team=ND\\u003cbr\\u003eWeek=%{x}\\u003cbr\\u003eScore Difference=%{y}\\u003cextra\\u003e\\u003c\\u002fextra\\u003e\",\"legendgroup\":\"ND\",\"line\":{\"color\":\"#FFA15A\",\"dash\":\"solid\"},\"marker\":{\"symbol\":\"circle\"},\"mode\":\"markers+lines\",\"name\":\"ND\",\"orientation\":\"v\",\"showlegend\":true,\"x\":[9],\"xaxis\":\"x\",\"y\":[8],\"yaxis\":\"y\",\"type\":\"scatter\"},{\"hovertemplate\":\"Home Team=SCST\\u003cbr\\u003eWeek=%{x}\\u003cbr\\u003eScore Difference=%{y}\\u003cextra\\u003e\\u003c\\u002fextra\\u003e\",\"legendgroup\":\"SCST\",\"line\":{\"color\":\"#19d3f3\",\"dash\":\"solid\"},\"marker\":{\"symbol\":\"circle\"},\"mode\":\"markers+lines\",\"name\":\"SCST\",\"orientation\":\"v\",\"showlegend\":true,\"x\":[1],\"xaxis\":\"x\",\"y\":[35],\"yaxis\":\"y\",\"type\":\"scatter\"},{\"hovertemplate\":\"Home Team=MIA\\u003cbr\\u003eWeek=%{x}\\u003cbr\\u003eScore Difference=%{y}\\u003cextra\\u003e\\u003c\\u002fextra\\u003e\",\"legendgroup\":\"MIA\",\"line\":{\"color\":\"#FF6692\",\"dash\":\"solid\"},\"marker\":{\"symbol\":\"circle\"},\"mode\":\"markers+lines\",\"name\":\"MIA\",\"orientation\":\"v\",\"showlegend\":true,\"x\":[5],\"xaxis\":\"x\",\"y\":[3],\"yaxis\":\"y\",\"type\":\"scatter\"},{\"hovertemplate\":\"Home Team=UNC\\u003cbr\\u003eWeek=%{x}\\u003cbr\\u003eScore Difference=%{y}\\u003cextra\\u003e\\u003c\\u002fextra\\u003e\",\"legendgroup\":\"UNC\",\"line\":{\"color\":\"#B6E880\",\"dash\":\"solid\"},\"marker\":{\"symbol\":\"circle\"},\"mode\":\"markers+lines\",\"name\":\"UNC\",\"orientation\":\"v\",\"showlegend\":true,\"x\":[8],\"xaxis\":\"x\",\"y\":[4],\"yaxis\":\"y\",\"type\":\"scatter\"},{\"hovertemplate\":\"Home Team=UVA\\u003cbr\\u003eWeek=%{x}\\u003cbr\\u003eScore Difference=%{y}\\u003cextra\\u003e\\u003c\\u002fextra\\u003e\",\"legendgroup\":\"UVA\",\"line\":{\"color\":\"#FF97FF\",\"dash\":\"solid\"},\"marker\":{\"symbol\":\"circle\"},\"mode\":\"markers+lines\",\"name\":\"UVA\",\"orientation\":\"v\",\"showlegend\":true,\"x\":[9],\"xaxis\":\"x\",\"y\":[28],\"yaxis\":\"y\",\"type\":\"scatter\"}],                        {\"template\":{\"data\":{\"histogram2dcontour\":[{\"type\":\"histogram2dcontour\",\"colorbar\":{\"outlinewidth\":0,\"ticks\":\"\"},\"colorscale\":[[0.0,\"#0d0887\"],[0.1111111111111111,\"#46039f\"],[0.2222222222222222,\"#7201a8\"],[0.3333333333333333,\"#9c179e\"],[0.4444444444444444,\"#bd3786\"],[0.5555555555555556,\"#d8576b\"],[0.6666666666666666,\"#ed7953\"],[0.7777777777777778,\"#fb9f3a\"],[0.8888888888888888,\"#fdca26\"],[1.0,\"#f0f921\"]]}],\"choropleth\":[{\"type\":\"choropleth\",\"colorbar\":{\"outlinewidth\":0,\"ticks\":\"\"}}],\"histogram2d\":[{\"type\":\"histogram2d\",\"colorbar\":{\"outlinewidth\":0,\"ticks\":\"\"},\"colorscale\":[[0.0,\"#0d0887\"],[0.1111111111111111,\"#46039f\"],[0.2222222222222222,\"#7201a8\"],[0.3333333333333333,\"#9c179e\"],[0.4444444444444444,\"#bd3786\"],[0.5555555555555556,\"#d8576b\"],[0.6666666666666666,\"#ed7953\"],[0.7777777777777778,\"#fb9f3a\"],[0.8888888888888888,\"#fdca26\"],[1.0,\"#f0f921\"]]}],\"heatmap\":[{\"type\":\"heatmap\",\"colorbar\":{\"outlinewidth\":0,\"ticks\":\"\"},\"colorscale\":[[0.0,\"#0d0887\"],[0.1111111111111111,\"#46039f\"],[0.2222222222222222,\"#7201a8\"],[0.3333333333333333,\"#9c179e\"],[0.4444444444444444,\"#bd3786\"],[0.5555555555555556,\"#d8576b\"],[0.6666666666666666,\"#ed7953\"],[0.7777777777777778,\"#fb9f3a\"],[0.8888888888888888,\"#fdca26\"],[1.0,\"#f0f921\"]]}],\"heatmapgl\":[{\"type\":\"heatmapgl\",\"colorbar\":{\"outlinewidth\":0,\"ticks\":\"\"},\"colorscale\":[[0.0,\"#0d0887\"],[0.1111111111111111,\"#46039f\"],[0.2222222222222222,\"#7201a8\"],[0.3333333333333333,\"#9c179e\"],[0.4444444444444444,\"#bd3786\"],[0.5555555555555556,\"#d8576b\"],[0.6666666666666666,\"#ed7953\"],[0.7777777777777778,\"#fb9f3a\"],[0.8888888888888888,\"#fdca26\"],[1.0,\"#f0f921\"]]}],\"contourcarpet\":[{\"type\":\"contourcarpet\",\"colorbar\":{\"outlinewidth\":0,\"ticks\":\"\"}}],\"contour\":[{\"type\":\"contour\",\"colorbar\":{\"outlinewidth\":0,\"ticks\":\"\"},\"colorscale\":[[0.0,\"#0d0887\"],[0.1111111111111111,\"#46039f\"],[0.2222222222222222,\"#7201a8\"],[0.3333333333333333,\"#9c179e\"],[0.4444444444444444,\"#bd3786\"],[0.5555555555555556,\"#d8576b\"],[0.6666666666666666,\"#ed7953\"],[0.7777777777777778,\"#fb9f3a\"],[0.8888888888888888,\"#fdca26\"],[1.0,\"#f0f921\"]]}],\"surface\":[{\"type\":\"surface\",\"colorbar\":{\"outlinewidth\":0,\"ticks\":\"\"},\"colorscale\":[[0.0,\"#0d0887\"],[0.1111111111111111,\"#46039f\"],[0.2222222222222222,\"#7201a8\"],[0.3333333333333333,\"#9c179e\"],[0.4444444444444444,\"#bd3786\"],[0.5555555555555556,\"#d8576b\"],[0.6666666666666666,\"#ed7953\"],[0.7777777777777778,\"#fb9f3a\"],[0.8888888888888888,\"#fdca26\"],[1.0,\"#f0f921\"]]}],\"mesh3d\":[{\"type\":\"mesh3d\",\"colorbar\":{\"outlinewidth\":0,\"ticks\":\"\"}}],\"scatter\":[{\"fillpattern\":{\"fillmode\":\"overlay\",\"size\":10,\"solidity\":0.2},\"type\":\"scatter\"}],\"parcoords\":[{\"type\":\"parcoords\",\"line\":{\"colorbar\":{\"outlinewidth\":0,\"ticks\":\"\"}}}],\"scatterpolargl\":[{\"type\":\"scatterpolargl\",\"marker\":{\"colorbar\":{\"outlinewidth\":0,\"ticks\":\"\"}}}],\"bar\":[{\"error_x\":{\"color\":\"#2a3f5f\"},\"error_y\":{\"color\":\"#2a3f5f\"},\"marker\":{\"line\":{\"color\":\"#E5ECF6\",\"width\":0.5},\"pattern\":{\"fillmode\":\"overlay\",\"size\":10,\"solidity\":0.2}},\"type\":\"bar\"}],\"scattergeo\":[{\"type\":\"scattergeo\",\"marker\":{\"colorbar\":{\"outlinewidth\":0,\"ticks\":\"\"}}}],\"scatterpolar\":[{\"type\":\"scatterpolar\",\"marker\":{\"colorbar\":{\"outlinewidth\":0,\"ticks\":\"\"}}}],\"histogram\":[{\"marker\":{\"pattern\":{\"fillmode\":\"overlay\",\"size\":10,\"solidity\":0.2}},\"type\":\"histogram\"}],\"scattergl\":[{\"type\":\"scattergl\",\"marker\":{\"colorbar\":{\"outlinewidth\":0,\"ticks\":\"\"}}}],\"scatter3d\":[{\"type\":\"scatter3d\",\"line\":{\"colorbar\":{\"outlinewidth\":0,\"ticks\":\"\"}},\"marker\":{\"colorbar\":{\"outlinewidth\":0,\"ticks\":\"\"}}}],\"scattermapbox\":[{\"type\":\"scattermapbox\",\"marker\":{\"colorbar\":{\"outlinewidth\":0,\"ticks\":\"\"}}}],\"scatterternary\":[{\"type\":\"scatterternary\",\"marker\":{\"colorbar\":{\"outlinewidth\":0,\"ticks\":\"\"}}}],\"scattercarpet\":[{\"type\":\"scattercarpet\",\"marker\":{\"colorbar\":{\"outlinewidth\":0,\"ticks\":\"\"}}}],\"carpet\":[{\"aaxis\":{\"endlinecolor\":\"#2a3f5f\",\"gridcolor\":\"white\",\"linecolor\":\"white\",\"minorgridcolor\":\"white\",\"startlinecolor\":\"#2a3f5f\"},\"baxis\":{\"endlinecolor\":\"#2a3f5f\",\"gridcolor\":\"white\",\"linecolor\":\"white\",\"minorgridcolor\":\"white\",\"startlinecolor\":\"#2a3f5f\"},\"type\":\"carpet\"}],\"table\":[{\"cells\":{\"fill\":{\"color\":\"#EBF0F8\"},\"line\":{\"color\":\"white\"}},\"header\":{\"fill\":{\"color\":\"#C8D4E3\"},\"line\":{\"color\":\"white\"}},\"type\":\"table\"}],\"barpolar\":[{\"marker\":{\"line\":{\"color\":\"#E5ECF6\",\"width\":0.5},\"pattern\":{\"fillmode\":\"overlay\",\"size\":10,\"solidity\":0.2}},\"type\":\"barpolar\"}],\"pie\":[{\"automargin\":true,\"type\":\"pie\"}]},\"layout\":{\"autotypenumbers\":\"strict\",\"colorway\":[\"#636efa\",\"#EF553B\",\"#00cc96\",\"#ab63fa\",\"#FFA15A\",\"#19d3f3\",\"#FF6692\",\"#B6E880\",\"#FF97FF\",\"#FECB52\"],\"font\":{\"color\":\"#2a3f5f\"},\"hovermode\":\"closest\",\"hoverlabel\":{\"align\":\"left\"},\"paper_bgcolor\":\"white\",\"plot_bgcolor\":\"#E5ECF6\",\"polar\":{\"bgcolor\":\"#E5ECF6\",\"angularaxis\":{\"gridcolor\":\"white\",\"linecolor\":\"white\",\"ticks\":\"\"},\"radialaxis\":{\"gridcolor\":\"white\",\"linecolor\":\"white\",\"ticks\":\"\"}},\"ternary\":{\"bgcolor\":\"#E5ECF6\",\"aaxis\":{\"gridcolor\":\"white\",\"linecolor\":\"white\",\"ticks\":\"\"},\"baxis\":{\"gridcolor\":\"white\",\"linecolor\":\"white\",\"ticks\":\"\"},\"caxis\":{\"gridcolor\":\"white\",\"linecolor\":\"white\",\"ticks\":\"\"}},\"coloraxis\":{\"colorbar\":{\"outlinewidth\":0,\"ticks\":\"\"}},\"colorscale\":{\"sequential\":[[0.0,\"#0d0887\"],[0.1111111111111111,\"#46039f\"],[0.2222222222222222,\"#7201a8\"],[0.3333333333333333,\"#9c179e\"],[0.4444444444444444,\"#bd3786\"],[0.5555555555555556,\"#d8576b\"],[0.6666666666666666,\"#ed7953\"],[0.7777777777777778,\"#fb9f3a\"],[0.8888888888888888,\"#fdca26\"],[1.0,\"#f0f921\"]],\"sequentialminus\":[[0.0,\"#0d0887\"],[0.1111111111111111,\"#46039f\"],[0.2222222222222222,\"#7201a8\"],[0.3333333333333333,\"#9c179e\"],[0.4444444444444444,\"#bd3786\"],[0.5555555555555556,\"#d8576b\"],[0.6666666666666666,\"#ed7953\"],[0.7777777777777778,\"#fb9f3a\"],[0.8888888888888888,\"#fdca26\"],[1.0,\"#f0f921\"]],\"diverging\":[[0,\"#8e0152\"],[0.1,\"#c51b7d\"],[0.2,\"#de77ae\"],[0.3,\"#f1b6da\"],[0.4,\"#fde0ef\"],[0.5,\"#f7f7f7\"],[0.6,\"#e6f5d0\"],[0.7,\"#b8e186\"],[0.8,\"#7fbc41\"],[0.9,\"#4d9221\"],[1,\"#276419\"]]},\"xaxis\":{\"gridcolor\":\"white\",\"linecolor\":\"white\",\"ticks\":\"\",\"title\":{\"standoff\":15},\"zerolinecolor\":\"white\",\"automargin\":true,\"zerolinewidth\":2},\"yaxis\":{\"gridcolor\":\"white\",\"linecolor\":\"white\",\"ticks\":\"\",\"title\":{\"standoff\":15},\"zerolinecolor\":\"white\",\"automargin\":true,\"zerolinewidth\":2},\"scene\":{\"xaxis\":{\"backgroundcolor\":\"#E5ECF6\",\"gridcolor\":\"white\",\"linecolor\":\"white\",\"showbackground\":true,\"ticks\":\"\",\"zerolinecolor\":\"white\",\"gridwidth\":2},\"yaxis\":{\"backgroundcolor\":\"#E5ECF6\",\"gridcolor\":\"white\",\"linecolor\":\"white\",\"showbackground\":true,\"ticks\":\"\",\"zerolinecolor\":\"white\",\"gridwidth\":2},\"zaxis\":{\"backgroundcolor\":\"#E5ECF6\",\"gridcolor\":\"white\",\"linecolor\":\"white\",\"showbackground\":true,\"ticks\":\"\",\"zerolinecolor\":\"white\",\"gridwidth\":2}},\"shapedefaults\":{\"line\":{\"color\":\"#2a3f5f\"}},\"annotationdefaults\":{\"arrowcolor\":\"#2a3f5f\",\"arrowhead\":0,\"arrowwidth\":1},\"geo\":{\"bgcolor\":\"white\",\"landcolor\":\"#E5ECF6\",\"subunitcolor\":\"white\",\"showland\":true,\"showlakes\":true,\"lakecolor\":\"white\"},\"title\":{\"x\":0.05},\"mapbox\":{\"style\":\"light\"}}},\"xaxis\":{\"anchor\":\"y\",\"domain\":[0.0,1.0],\"title\":{\"text\":\"Week\"}},\"yaxis\":{\"anchor\":\"x\",\"domain\":[0.0,1.0],\"title\":{\"text\":\"Score Difference\"}},\"legend\":{\"title\":{\"text\":\"vs\"},\"tracegroupgap\":0},\"title\":{\"text\":\"Week-by-Week Score Difference for Selected Teams\"},\"annotations\":[{\"arrowhead\":4,\"ax\":0,\"ay\":-40,\"showarrow\":true,\"text\":\"CLEM\",\"x\":1,\"y\":49},{\"arrowhead\":4,\"ax\":0,\"ay\":-40,\"showarrow\":true,\"text\":\"CLEM\",\"x\":2,\"y\":34},{\"arrowhead\":4,\"ax\":0,\"ay\":-40,\"showarrow\":true,\"text\":\"CLEM\",\"x\":4,\"y\":17},{\"arrowhead\":4,\"ax\":0,\"ay\":-40,\"showarrow\":true,\"text\":\"CLEM\",\"x\":5,\"y\":5},{\"arrowhead\":4,\"ax\":0,\"ay\":-40,\"showarrow\":true,\"text\":\"CLEM\",\"x\":9,\"y\":8},{\"arrowhead\":4,\"ax\":0,\"ay\":-40,\"showarrow\":true,\"text\":\"GT\",\"x\":1,\"y\":35},{\"arrowhead\":4,\"ax\":0,\"ay\":-40,\"showarrow\":true,\"text\":\"GT\",\"x\":3,\"y\":14},{\"arrowhead\":4,\"ax\":0,\"ay\":-40,\"showarrow\":true,\"text\":\"GT\",\"x\":5,\"y\":3},{\"arrowhead\":4,\"ax\":0,\"ay\":-40,\"showarrow\":true,\"text\":\"GT\",\"x\":8,\"y\":4},{\"arrowhead\":4,\"ax\":0,\"ay\":-40,\"showarrow\":true,\"text\":\"GT\",\"x\":9,\"y\":28}]},                        {\"responsive\": true}                    ).then(function(){\n",
       "                            \n",
       "var gd = document.getElementById('012aecd2-5807-4755-8b3f-f065b3dedd40');\n",
       "var x = new MutationObserver(function (mutations, observer) {{\n",
       "        var display = window.getComputedStyle(gd).display;\n",
       "        if (!display || display === 'none') {{\n",
       "            console.log([gd, 'removed!']);\n",
       "            Plotly.purge(gd);\n",
       "            observer.disconnect();\n",
       "        }}\n",
       "}});\n",
       "\n",
       "// Listen for the removal of the full notebook cells\n",
       "var notebookContainer = gd.closest('#notebook-container');\n",
       "if (notebookContainer) {{\n",
       "    x.observe(notebookContainer, {childList: true});\n",
       "}}\n",
       "\n",
       "// Listen for the clearing of the current output cell\n",
       "var outputEl = gd.closest('.output');\n",
       "if (outputEl) {{\n",
       "    x.observe(outputEl, {childList: true});\n",
       "}}\n",
       "\n",
       "                        })                };                });            </script>        </div>"
      ]
     },
     "metadata": {},
     "output_type": "display_data"
    },
    {
     "data": {
      "application/vnd.plotly.v1+json": {
       "config": {
        "plotlyServerURL": "https://plot.ly"
       },
       "data": [
        {
         "customdata": [
          [
           "CLEM",
           "CHSO"
          ],
          [
           "CLEM",
           "SYR"
          ],
          [
           "CLEM",
           "WAKE"
          ]
         ],
         "hovertemplate": "Week: %{x}<br>Team: %{customdata[1]}<br>vs: %{customdata[0]}<br>RushingLeaderScore: %{y}",
         "legendgroup": "Will Shipley",
         "line": {
          "color": "#636efa",
          "dash": "solid"
         },
         "marker": {
          "symbol": "circle"
         },
         "mode": "markers+lines",
         "name": "Will Shipley",
         "orientation": "v",
         "showlegend": true,
         "type": "scatter",
         "x": [
          1,
          4,
          5
         ],
         "xaxis": "x",
         "y": [
          73,
          61,
          97
         ],
         "yaxis": "y"
        },
        {
         "customdata": [
          [
           "GT",
           "SCST"
          ],
          [
           "GT",
           "UVA"
          ]
         ],
         "hovertemplate": "Week: %{x}<br>Team: %{customdata[1]}<br>vs: %{customdata[0]}<br>RushingLeaderScore: %{y}",
         "legendgroup": "Jamal Haynes",
         "line": {
          "color": "#EF553B",
          "dash": "solid"
         },
         "marker": {
          "symbol": "circle"
         },
         "mode": "markers+lines",
         "name": "Jamal Haynes",
         "orientation": "v",
         "showlegend": true,
         "type": "scatter",
         "x": [
          1,
          9
         ],
         "xaxis": "x",
         "y": [
          113,
          119
         ],
         "yaxis": "y"
        },
        {
         "customdata": [
          [
           "CLEM",
           "FAU"
          ]
         ],
         "hovertemplate": "Week: %{x}<br>Team: %{customdata[1]}<br>vs: %{customdata[0]}<br>RushingLeaderScore: %{y}",
         "legendgroup": "Kobe Lewis",
         "line": {
          "color": "#00cc96",
          "dash": "solid"
         },
         "marker": {
          "symbol": "circle"
         },
         "mode": "markers+lines",
         "name": "Kobe Lewis",
         "orientation": "v",
         "showlegend": true,
         "type": "scatter",
         "x": [
          2
         ],
         "xaxis": "x",
         "y": [
          49
         ],
         "yaxis": "y"
        },
        {
         "customdata": [
          [
           "GT",
           "WAKE"
          ]
         ],
         "hovertemplate": "Week: %{x}<br>Team: %{customdata[1]}<br>vs: %{customdata[0]}<br>RushingLeaderScore: %{y}",
         "legendgroup": "Justice Ellison",
         "line": {
          "color": "#ab63fa",
          "dash": "solid"
         },
         "marker": {
          "symbol": "circle"
         },
         "mode": "markers+lines",
         "name": "Justice Ellison",
         "orientation": "v",
         "showlegend": true,
         "type": "scatter",
         "x": [
          3
         ],
         "xaxis": "x",
         "y": [
          137
         ],
         "yaxis": "y"
        },
        {
         "customdata": [
          [
           "GT",
           "MIA"
          ]
         ],
         "hovertemplate": "Week: %{x}<br>Team: %{customdata[1]}<br>vs: %{customdata[0]}<br>RushingLeaderScore: %{y}",
         "legendgroup": "Xavier Restrepo",
         "line": {
          "color": "#FFA15A",
          "dash": "solid"
         },
         "marker": {
          "symbol": "circle"
         },
         "mode": "markers+lines",
         "name": "Xavier Restrepo",
         "orientation": "v",
         "showlegend": true,
         "type": "scatter",
         "x": [
          5
         ],
         "xaxis": "x",
         "y": [
          123
         ],
         "yaxis": "y"
        },
        {
         "customdata": [
          [
           "GT",
           "UNC"
          ]
         ],
         "hovertemplate": "Week: %{x}<br>Team: %{customdata[1]}<br>vs: %{customdata[0]}<br>RushingLeaderScore: %{y}",
         "legendgroup": "Dontae Smith",
         "line": {
          "color": "#19d3f3",
          "dash": "solid"
         },
         "marker": {
          "symbol": "circle"
         },
         "mode": "markers+lines",
         "name": "Dontae Smith",
         "orientation": "v",
         "showlegend": true,
         "type": "scatter",
         "x": [
          8
         ],
         "xaxis": "x",
         "y": [
          178
         ],
         "yaxis": "y"
        },
        {
         "customdata": [
          [
           "CLEM",
           "ND"
          ]
         ],
         "hovertemplate": "Week: %{x}<br>Team: %{customdata[1]}<br>vs: %{customdata[0]}<br>RushingLeaderScore: %{y}",
         "legendgroup": "Phil Mafah",
         "line": {
          "color": "#FF6692",
          "dash": "solid"
         },
         "marker": {
          "symbol": "circle"
         },
         "mode": "markers+lines",
         "name": "Phil Mafah",
         "orientation": "v",
         "showlegend": true,
         "type": "scatter",
         "x": [
          9
         ],
         "xaxis": "x",
         "y": [
          186
         ],
         "yaxis": "y"
        }
       ],
       "layout": {
        "legend": {
         "title": {
          "text": "RushingLeader"
         },
         "tracegroupgap": 0
        },
        "template": {
         "data": {
          "bar": [
           {
            "error_x": {
             "color": "#2a3f5f"
            },
            "error_y": {
             "color": "#2a3f5f"
            },
            "marker": {
             "line": {
              "color": "#E5ECF6",
              "width": 0.5
             },
             "pattern": {
              "fillmode": "overlay",
              "size": 10,
              "solidity": 0.2
             }
            },
            "type": "bar"
           }
          ],
          "barpolar": [
           {
            "marker": {
             "line": {
              "color": "#E5ECF6",
              "width": 0.5
             },
             "pattern": {
              "fillmode": "overlay",
              "size": 10,
              "solidity": 0.2
             }
            },
            "type": "barpolar"
           }
          ],
          "carpet": [
           {
            "aaxis": {
             "endlinecolor": "#2a3f5f",
             "gridcolor": "white",
             "linecolor": "white",
             "minorgridcolor": "white",
             "startlinecolor": "#2a3f5f"
            },
            "baxis": {
             "endlinecolor": "#2a3f5f",
             "gridcolor": "white",
             "linecolor": "white",
             "minorgridcolor": "white",
             "startlinecolor": "#2a3f5f"
            },
            "type": "carpet"
           }
          ],
          "choropleth": [
           {
            "colorbar": {
             "outlinewidth": 0,
             "ticks": ""
            },
            "type": "choropleth"
           }
          ],
          "contour": [
           {
            "colorbar": {
             "outlinewidth": 0,
             "ticks": ""
            },
            "colorscale": [
             [
              0,
              "#0d0887"
             ],
             [
              0.1111111111111111,
              "#46039f"
             ],
             [
              0.2222222222222222,
              "#7201a8"
             ],
             [
              0.3333333333333333,
              "#9c179e"
             ],
             [
              0.4444444444444444,
              "#bd3786"
             ],
             [
              0.5555555555555556,
              "#d8576b"
             ],
             [
              0.6666666666666666,
              "#ed7953"
             ],
             [
              0.7777777777777778,
              "#fb9f3a"
             ],
             [
              0.8888888888888888,
              "#fdca26"
             ],
             [
              1,
              "#f0f921"
             ]
            ],
            "type": "contour"
           }
          ],
          "contourcarpet": [
           {
            "colorbar": {
             "outlinewidth": 0,
             "ticks": ""
            },
            "type": "contourcarpet"
           }
          ],
          "heatmap": [
           {
            "colorbar": {
             "outlinewidth": 0,
             "ticks": ""
            },
            "colorscale": [
             [
              0,
              "#0d0887"
             ],
             [
              0.1111111111111111,
              "#46039f"
             ],
             [
              0.2222222222222222,
              "#7201a8"
             ],
             [
              0.3333333333333333,
              "#9c179e"
             ],
             [
              0.4444444444444444,
              "#bd3786"
             ],
             [
              0.5555555555555556,
              "#d8576b"
             ],
             [
              0.6666666666666666,
              "#ed7953"
             ],
             [
              0.7777777777777778,
              "#fb9f3a"
             ],
             [
              0.8888888888888888,
              "#fdca26"
             ],
             [
              1,
              "#f0f921"
             ]
            ],
            "type": "heatmap"
           }
          ],
          "heatmapgl": [
           {
            "colorbar": {
             "outlinewidth": 0,
             "ticks": ""
            },
            "colorscale": [
             [
              0,
              "#0d0887"
             ],
             [
              0.1111111111111111,
              "#46039f"
             ],
             [
              0.2222222222222222,
              "#7201a8"
             ],
             [
              0.3333333333333333,
              "#9c179e"
             ],
             [
              0.4444444444444444,
              "#bd3786"
             ],
             [
              0.5555555555555556,
              "#d8576b"
             ],
             [
              0.6666666666666666,
              "#ed7953"
             ],
             [
              0.7777777777777778,
              "#fb9f3a"
             ],
             [
              0.8888888888888888,
              "#fdca26"
             ],
             [
              1,
              "#f0f921"
             ]
            ],
            "type": "heatmapgl"
           }
          ],
          "histogram": [
           {
            "marker": {
             "pattern": {
              "fillmode": "overlay",
              "size": 10,
              "solidity": 0.2
             }
            },
            "type": "histogram"
           }
          ],
          "histogram2d": [
           {
            "colorbar": {
             "outlinewidth": 0,
             "ticks": ""
            },
            "colorscale": [
             [
              0,
              "#0d0887"
             ],
             [
              0.1111111111111111,
              "#46039f"
             ],
             [
              0.2222222222222222,
              "#7201a8"
             ],
             [
              0.3333333333333333,
              "#9c179e"
             ],
             [
              0.4444444444444444,
              "#bd3786"
             ],
             [
              0.5555555555555556,
              "#d8576b"
             ],
             [
              0.6666666666666666,
              "#ed7953"
             ],
             [
              0.7777777777777778,
              "#fb9f3a"
             ],
             [
              0.8888888888888888,
              "#fdca26"
             ],
             [
              1,
              "#f0f921"
             ]
            ],
            "type": "histogram2d"
           }
          ],
          "histogram2dcontour": [
           {
            "colorbar": {
             "outlinewidth": 0,
             "ticks": ""
            },
            "colorscale": [
             [
              0,
              "#0d0887"
             ],
             [
              0.1111111111111111,
              "#46039f"
             ],
             [
              0.2222222222222222,
              "#7201a8"
             ],
             [
              0.3333333333333333,
              "#9c179e"
             ],
             [
              0.4444444444444444,
              "#bd3786"
             ],
             [
              0.5555555555555556,
              "#d8576b"
             ],
             [
              0.6666666666666666,
              "#ed7953"
             ],
             [
              0.7777777777777778,
              "#fb9f3a"
             ],
             [
              0.8888888888888888,
              "#fdca26"
             ],
             [
              1,
              "#f0f921"
             ]
            ],
            "type": "histogram2dcontour"
           }
          ],
          "mesh3d": [
           {
            "colorbar": {
             "outlinewidth": 0,
             "ticks": ""
            },
            "type": "mesh3d"
           }
          ],
          "parcoords": [
           {
            "line": {
             "colorbar": {
              "outlinewidth": 0,
              "ticks": ""
             }
            },
            "type": "parcoords"
           }
          ],
          "pie": [
           {
            "automargin": true,
            "type": "pie"
           }
          ],
          "scatter": [
           {
            "fillpattern": {
             "fillmode": "overlay",
             "size": 10,
             "solidity": 0.2
            },
            "type": "scatter"
           }
          ],
          "scatter3d": [
           {
            "line": {
             "colorbar": {
              "outlinewidth": 0,
              "ticks": ""
             }
            },
            "marker": {
             "colorbar": {
              "outlinewidth": 0,
              "ticks": ""
             }
            },
            "type": "scatter3d"
           }
          ],
          "scattercarpet": [
           {
            "marker": {
             "colorbar": {
              "outlinewidth": 0,
              "ticks": ""
             }
            },
            "type": "scattercarpet"
           }
          ],
          "scattergeo": [
           {
            "marker": {
             "colorbar": {
              "outlinewidth": 0,
              "ticks": ""
             }
            },
            "type": "scattergeo"
           }
          ],
          "scattergl": [
           {
            "marker": {
             "colorbar": {
              "outlinewidth": 0,
              "ticks": ""
             }
            },
            "type": "scattergl"
           }
          ],
          "scattermapbox": [
           {
            "marker": {
             "colorbar": {
              "outlinewidth": 0,
              "ticks": ""
             }
            },
            "type": "scattermapbox"
           }
          ],
          "scatterpolar": [
           {
            "marker": {
             "colorbar": {
              "outlinewidth": 0,
              "ticks": ""
             }
            },
            "type": "scatterpolar"
           }
          ],
          "scatterpolargl": [
           {
            "marker": {
             "colorbar": {
              "outlinewidth": 0,
              "ticks": ""
             }
            },
            "type": "scatterpolargl"
           }
          ],
          "scatterternary": [
           {
            "marker": {
             "colorbar": {
              "outlinewidth": 0,
              "ticks": ""
             }
            },
            "type": "scatterternary"
           }
          ],
          "surface": [
           {
            "colorbar": {
             "outlinewidth": 0,
             "ticks": ""
            },
            "colorscale": [
             [
              0,
              "#0d0887"
             ],
             [
              0.1111111111111111,
              "#46039f"
             ],
             [
              0.2222222222222222,
              "#7201a8"
             ],
             [
              0.3333333333333333,
              "#9c179e"
             ],
             [
              0.4444444444444444,
              "#bd3786"
             ],
             [
              0.5555555555555556,
              "#d8576b"
             ],
             [
              0.6666666666666666,
              "#ed7953"
             ],
             [
              0.7777777777777778,
              "#fb9f3a"
             ],
             [
              0.8888888888888888,
              "#fdca26"
             ],
             [
              1,
              "#f0f921"
             ]
            ],
            "type": "surface"
           }
          ],
          "table": [
           {
            "cells": {
             "fill": {
              "color": "#EBF0F8"
             },
             "line": {
              "color": "white"
             }
            },
            "header": {
             "fill": {
              "color": "#C8D4E3"
             },
             "line": {
              "color": "white"
             }
            },
            "type": "table"
           }
          ]
         },
         "layout": {
          "annotationdefaults": {
           "arrowcolor": "#2a3f5f",
           "arrowhead": 0,
           "arrowwidth": 1
          },
          "autotypenumbers": "strict",
          "coloraxis": {
           "colorbar": {
            "outlinewidth": 0,
            "ticks": ""
           }
          },
          "colorscale": {
           "diverging": [
            [
             0,
             "#8e0152"
            ],
            [
             0.1,
             "#c51b7d"
            ],
            [
             0.2,
             "#de77ae"
            ],
            [
             0.3,
             "#f1b6da"
            ],
            [
             0.4,
             "#fde0ef"
            ],
            [
             0.5,
             "#f7f7f7"
            ],
            [
             0.6,
             "#e6f5d0"
            ],
            [
             0.7,
             "#b8e186"
            ],
            [
             0.8,
             "#7fbc41"
            ],
            [
             0.9,
             "#4d9221"
            ],
            [
             1,
             "#276419"
            ]
           ],
           "sequential": [
            [
             0,
             "#0d0887"
            ],
            [
             0.1111111111111111,
             "#46039f"
            ],
            [
             0.2222222222222222,
             "#7201a8"
            ],
            [
             0.3333333333333333,
             "#9c179e"
            ],
            [
             0.4444444444444444,
             "#bd3786"
            ],
            [
             0.5555555555555556,
             "#d8576b"
            ],
            [
             0.6666666666666666,
             "#ed7953"
            ],
            [
             0.7777777777777778,
             "#fb9f3a"
            ],
            [
             0.8888888888888888,
             "#fdca26"
            ],
            [
             1,
             "#f0f921"
            ]
           ],
           "sequentialminus": [
            [
             0,
             "#0d0887"
            ],
            [
             0.1111111111111111,
             "#46039f"
            ],
            [
             0.2222222222222222,
             "#7201a8"
            ],
            [
             0.3333333333333333,
             "#9c179e"
            ],
            [
             0.4444444444444444,
             "#bd3786"
            ],
            [
             0.5555555555555556,
             "#d8576b"
            ],
            [
             0.6666666666666666,
             "#ed7953"
            ],
            [
             0.7777777777777778,
             "#fb9f3a"
            ],
            [
             0.8888888888888888,
             "#fdca26"
            ],
            [
             1,
             "#f0f921"
            ]
           ]
          },
          "colorway": [
           "#636efa",
           "#EF553B",
           "#00cc96",
           "#ab63fa",
           "#FFA15A",
           "#19d3f3",
           "#FF6692",
           "#B6E880",
           "#FF97FF",
           "#FECB52"
          ],
          "font": {
           "color": "#2a3f5f"
          },
          "geo": {
           "bgcolor": "white",
           "lakecolor": "white",
           "landcolor": "#E5ECF6",
           "showlakes": true,
           "showland": true,
           "subunitcolor": "white"
          },
          "hoverlabel": {
           "align": "left"
          },
          "hovermode": "closest",
          "mapbox": {
           "style": "light"
          },
          "paper_bgcolor": "white",
          "plot_bgcolor": "#E5ECF6",
          "polar": {
           "angularaxis": {
            "gridcolor": "white",
            "linecolor": "white",
            "ticks": ""
           },
           "bgcolor": "#E5ECF6",
           "radialaxis": {
            "gridcolor": "white",
            "linecolor": "white",
            "ticks": ""
           }
          },
          "scene": {
           "xaxis": {
            "backgroundcolor": "#E5ECF6",
            "gridcolor": "white",
            "gridwidth": 2,
            "linecolor": "white",
            "showbackground": true,
            "ticks": "",
            "zerolinecolor": "white"
           },
           "yaxis": {
            "backgroundcolor": "#E5ECF6",
            "gridcolor": "white",
            "gridwidth": 2,
            "linecolor": "white",
            "showbackground": true,
            "ticks": "",
            "zerolinecolor": "white"
           },
           "zaxis": {
            "backgroundcolor": "#E5ECF6",
            "gridcolor": "white",
            "gridwidth": 2,
            "linecolor": "white",
            "showbackground": true,
            "ticks": "",
            "zerolinecolor": "white"
           }
          },
          "shapedefaults": {
           "line": {
            "color": "#2a3f5f"
           }
          },
          "ternary": {
           "aaxis": {
            "gridcolor": "white",
            "linecolor": "white",
            "ticks": ""
           },
           "baxis": {
            "gridcolor": "white",
            "linecolor": "white",
            "ticks": ""
           },
           "bgcolor": "#E5ECF6",
           "caxis": {
            "gridcolor": "white",
            "linecolor": "white",
            "ticks": ""
           }
          },
          "title": {
           "x": 0.05
          },
          "xaxis": {
           "automargin": true,
           "gridcolor": "white",
           "linecolor": "white",
           "ticks": "",
           "title": {
            "standoff": 15
           },
           "zerolinecolor": "white",
           "zerolinewidth": 2
          },
          "yaxis": {
           "automargin": true,
           "gridcolor": "white",
           "linecolor": "white",
           "ticks": "",
           "title": {
            "standoff": 15
           },
           "zerolinecolor": "white",
           "zerolinewidth": 2
          }
         }
        },
        "title": {
         "text": "RushingLeaderScore Over Weeks for CLEM and GT"
        },
        "xaxis": {
         "anchor": "y",
         "domain": [
          0,
          1
         ],
         "title": {
          "text": "Week"
         }
        },
        "yaxis": {
         "anchor": "x",
         "domain": [
          0,
          1
         ],
         "title": {
          "text": "RushingLeaderScore"
         }
        }
       }
      },
      "text/html": [
       "<div>                            <div id=\"93475dd3-5b03-498d-ac3d-bab4bc71b34a\" class=\"plotly-graph-div\" style=\"height:525px; width:100%;\"></div>            <script type=\"text/javascript\">                require([\"plotly\"], function(Plotly) {                    window.PLOTLYENV=window.PLOTLYENV || {};                                    if (document.getElementById(\"93475dd3-5b03-498d-ac3d-bab4bc71b34a\")) {                    Plotly.newPlot(                        \"93475dd3-5b03-498d-ac3d-bab4bc71b34a\",                        [{\"customdata\":[[\"CLEM\",\"CHSO\"],[\"CLEM\",\"SYR\"],[\"CLEM\",\"WAKE\"]],\"hovertemplate\":\"Week: %{x}\\u003cbr\\u003eTeam: %{customdata[1]}\\u003cbr\\u003evs: %{customdata[0]}\\u003cbr\\u003eRushingLeaderScore: %{y}\",\"legendgroup\":\"Will Shipley\",\"line\":{\"color\":\"#636efa\",\"dash\":\"solid\"},\"marker\":{\"symbol\":\"circle\"},\"mode\":\"markers+lines\",\"name\":\"Will Shipley\",\"orientation\":\"v\",\"showlegend\":true,\"x\":[1,4,5],\"xaxis\":\"x\",\"y\":[73.0,61.0,97.0],\"yaxis\":\"y\",\"type\":\"scatter\"},{\"customdata\":[[\"GT\",\"SCST\"],[\"GT\",\"UVA\"]],\"hovertemplate\":\"Week: %{x}\\u003cbr\\u003eTeam: %{customdata[1]}\\u003cbr\\u003evs: %{customdata[0]}\\u003cbr\\u003eRushingLeaderScore: %{y}\",\"legendgroup\":\"Jamal Haynes\",\"line\":{\"color\":\"#EF553B\",\"dash\":\"solid\"},\"marker\":{\"symbol\":\"circle\"},\"mode\":\"markers+lines\",\"name\":\"Jamal Haynes\",\"orientation\":\"v\",\"showlegend\":true,\"x\":[1,9],\"xaxis\":\"x\",\"y\":[113.0,119.0],\"yaxis\":\"y\",\"type\":\"scatter\"},{\"customdata\":[[\"CLEM\",\"FAU\"]],\"hovertemplate\":\"Week: %{x}\\u003cbr\\u003eTeam: %{customdata[1]}\\u003cbr\\u003evs: %{customdata[0]}\\u003cbr\\u003eRushingLeaderScore: %{y}\",\"legendgroup\":\"Kobe Lewis\",\"line\":{\"color\":\"#00cc96\",\"dash\":\"solid\"},\"marker\":{\"symbol\":\"circle\"},\"mode\":\"markers+lines\",\"name\":\"Kobe Lewis\",\"orientation\":\"v\",\"showlegend\":true,\"x\":[2],\"xaxis\":\"x\",\"y\":[49.0],\"yaxis\":\"y\",\"type\":\"scatter\"},{\"customdata\":[[\"GT\",\"WAKE\"]],\"hovertemplate\":\"Week: %{x}\\u003cbr\\u003eTeam: %{customdata[1]}\\u003cbr\\u003evs: %{customdata[0]}\\u003cbr\\u003eRushingLeaderScore: %{y}\",\"legendgroup\":\"Justice Ellison\",\"line\":{\"color\":\"#ab63fa\",\"dash\":\"solid\"},\"marker\":{\"symbol\":\"circle\"},\"mode\":\"markers+lines\",\"name\":\"Justice Ellison\",\"orientation\":\"v\",\"showlegend\":true,\"x\":[3],\"xaxis\":\"x\",\"y\":[137.0],\"yaxis\":\"y\",\"type\":\"scatter\"},{\"customdata\":[[\"GT\",\"MIA\"]],\"hovertemplate\":\"Week: %{x}\\u003cbr\\u003eTeam: %{customdata[1]}\\u003cbr\\u003evs: %{customdata[0]}\\u003cbr\\u003eRushingLeaderScore: %{y}\",\"legendgroup\":\"Xavier Restrepo\",\"line\":{\"color\":\"#FFA15A\",\"dash\":\"solid\"},\"marker\":{\"symbol\":\"circle\"},\"mode\":\"markers+lines\",\"name\":\"Xavier Restrepo\",\"orientation\":\"v\",\"showlegend\":true,\"x\":[5],\"xaxis\":\"x\",\"y\":[123.0],\"yaxis\":\"y\",\"type\":\"scatter\"},{\"customdata\":[[\"GT\",\"UNC\"]],\"hovertemplate\":\"Week: %{x}\\u003cbr\\u003eTeam: %{customdata[1]}\\u003cbr\\u003evs: %{customdata[0]}\\u003cbr\\u003eRushingLeaderScore: %{y}\",\"legendgroup\":\"Dontae Smith\",\"line\":{\"color\":\"#19d3f3\",\"dash\":\"solid\"},\"marker\":{\"symbol\":\"circle\"},\"mode\":\"markers+lines\",\"name\":\"Dontae Smith\",\"orientation\":\"v\",\"showlegend\":true,\"x\":[8],\"xaxis\":\"x\",\"y\":[178.0],\"yaxis\":\"y\",\"type\":\"scatter\"},{\"customdata\":[[\"CLEM\",\"ND\"]],\"hovertemplate\":\"Week: %{x}\\u003cbr\\u003eTeam: %{customdata[1]}\\u003cbr\\u003evs: %{customdata[0]}\\u003cbr\\u003eRushingLeaderScore: %{y}\",\"legendgroup\":\"Phil Mafah\",\"line\":{\"color\":\"#FF6692\",\"dash\":\"solid\"},\"marker\":{\"symbol\":\"circle\"},\"mode\":\"markers+lines\",\"name\":\"Phil Mafah\",\"orientation\":\"v\",\"showlegend\":true,\"x\":[9],\"xaxis\":\"x\",\"y\":[186.0],\"yaxis\":\"y\",\"type\":\"scatter\"}],                        {\"template\":{\"data\":{\"histogram2dcontour\":[{\"type\":\"histogram2dcontour\",\"colorbar\":{\"outlinewidth\":0,\"ticks\":\"\"},\"colorscale\":[[0.0,\"#0d0887\"],[0.1111111111111111,\"#46039f\"],[0.2222222222222222,\"#7201a8\"],[0.3333333333333333,\"#9c179e\"],[0.4444444444444444,\"#bd3786\"],[0.5555555555555556,\"#d8576b\"],[0.6666666666666666,\"#ed7953\"],[0.7777777777777778,\"#fb9f3a\"],[0.8888888888888888,\"#fdca26\"],[1.0,\"#f0f921\"]]}],\"choropleth\":[{\"type\":\"choropleth\",\"colorbar\":{\"outlinewidth\":0,\"ticks\":\"\"}}],\"histogram2d\":[{\"type\":\"histogram2d\",\"colorbar\":{\"outlinewidth\":0,\"ticks\":\"\"},\"colorscale\":[[0.0,\"#0d0887\"],[0.1111111111111111,\"#46039f\"],[0.2222222222222222,\"#7201a8\"],[0.3333333333333333,\"#9c179e\"],[0.4444444444444444,\"#bd3786\"],[0.5555555555555556,\"#d8576b\"],[0.6666666666666666,\"#ed7953\"],[0.7777777777777778,\"#fb9f3a\"],[0.8888888888888888,\"#fdca26\"],[1.0,\"#f0f921\"]]}],\"heatmap\":[{\"type\":\"heatmap\",\"colorbar\":{\"outlinewidth\":0,\"ticks\":\"\"},\"colorscale\":[[0.0,\"#0d0887\"],[0.1111111111111111,\"#46039f\"],[0.2222222222222222,\"#7201a8\"],[0.3333333333333333,\"#9c179e\"],[0.4444444444444444,\"#bd3786\"],[0.5555555555555556,\"#d8576b\"],[0.6666666666666666,\"#ed7953\"],[0.7777777777777778,\"#fb9f3a\"],[0.8888888888888888,\"#fdca26\"],[1.0,\"#f0f921\"]]}],\"heatmapgl\":[{\"type\":\"heatmapgl\",\"colorbar\":{\"outlinewidth\":0,\"ticks\":\"\"},\"colorscale\":[[0.0,\"#0d0887\"],[0.1111111111111111,\"#46039f\"],[0.2222222222222222,\"#7201a8\"],[0.3333333333333333,\"#9c179e\"],[0.4444444444444444,\"#bd3786\"],[0.5555555555555556,\"#d8576b\"],[0.6666666666666666,\"#ed7953\"],[0.7777777777777778,\"#fb9f3a\"],[0.8888888888888888,\"#fdca26\"],[1.0,\"#f0f921\"]]}],\"contourcarpet\":[{\"type\":\"contourcarpet\",\"colorbar\":{\"outlinewidth\":0,\"ticks\":\"\"}}],\"contour\":[{\"type\":\"contour\",\"colorbar\":{\"outlinewidth\":0,\"ticks\":\"\"},\"colorscale\":[[0.0,\"#0d0887\"],[0.1111111111111111,\"#46039f\"],[0.2222222222222222,\"#7201a8\"],[0.3333333333333333,\"#9c179e\"],[0.4444444444444444,\"#bd3786\"],[0.5555555555555556,\"#d8576b\"],[0.6666666666666666,\"#ed7953\"],[0.7777777777777778,\"#fb9f3a\"],[0.8888888888888888,\"#fdca26\"],[1.0,\"#f0f921\"]]}],\"surface\":[{\"type\":\"surface\",\"colorbar\":{\"outlinewidth\":0,\"ticks\":\"\"},\"colorscale\":[[0.0,\"#0d0887\"],[0.1111111111111111,\"#46039f\"],[0.2222222222222222,\"#7201a8\"],[0.3333333333333333,\"#9c179e\"],[0.4444444444444444,\"#bd3786\"],[0.5555555555555556,\"#d8576b\"],[0.6666666666666666,\"#ed7953\"],[0.7777777777777778,\"#fb9f3a\"],[0.8888888888888888,\"#fdca26\"],[1.0,\"#f0f921\"]]}],\"mesh3d\":[{\"type\":\"mesh3d\",\"colorbar\":{\"outlinewidth\":0,\"ticks\":\"\"}}],\"scatter\":[{\"fillpattern\":{\"fillmode\":\"overlay\",\"size\":10,\"solidity\":0.2},\"type\":\"scatter\"}],\"parcoords\":[{\"type\":\"parcoords\",\"line\":{\"colorbar\":{\"outlinewidth\":0,\"ticks\":\"\"}}}],\"scatterpolargl\":[{\"type\":\"scatterpolargl\",\"marker\":{\"colorbar\":{\"outlinewidth\":0,\"ticks\":\"\"}}}],\"bar\":[{\"error_x\":{\"color\":\"#2a3f5f\"},\"error_y\":{\"color\":\"#2a3f5f\"},\"marker\":{\"line\":{\"color\":\"#E5ECF6\",\"width\":0.5},\"pattern\":{\"fillmode\":\"overlay\",\"size\":10,\"solidity\":0.2}},\"type\":\"bar\"}],\"scattergeo\":[{\"type\":\"scattergeo\",\"marker\":{\"colorbar\":{\"outlinewidth\":0,\"ticks\":\"\"}}}],\"scatterpolar\":[{\"type\":\"scatterpolar\",\"marker\":{\"colorbar\":{\"outlinewidth\":0,\"ticks\":\"\"}}}],\"histogram\":[{\"marker\":{\"pattern\":{\"fillmode\":\"overlay\",\"size\":10,\"solidity\":0.2}},\"type\":\"histogram\"}],\"scattergl\":[{\"type\":\"scattergl\",\"marker\":{\"colorbar\":{\"outlinewidth\":0,\"ticks\":\"\"}}}],\"scatter3d\":[{\"type\":\"scatter3d\",\"line\":{\"colorbar\":{\"outlinewidth\":0,\"ticks\":\"\"}},\"marker\":{\"colorbar\":{\"outlinewidth\":0,\"ticks\":\"\"}}}],\"scattermapbox\":[{\"type\":\"scattermapbox\",\"marker\":{\"colorbar\":{\"outlinewidth\":0,\"ticks\":\"\"}}}],\"scatterternary\":[{\"type\":\"scatterternary\",\"marker\":{\"colorbar\":{\"outlinewidth\":0,\"ticks\":\"\"}}}],\"scattercarpet\":[{\"type\":\"scattercarpet\",\"marker\":{\"colorbar\":{\"outlinewidth\":0,\"ticks\":\"\"}}}],\"carpet\":[{\"aaxis\":{\"endlinecolor\":\"#2a3f5f\",\"gridcolor\":\"white\",\"linecolor\":\"white\",\"minorgridcolor\":\"white\",\"startlinecolor\":\"#2a3f5f\"},\"baxis\":{\"endlinecolor\":\"#2a3f5f\",\"gridcolor\":\"white\",\"linecolor\":\"white\",\"minorgridcolor\":\"white\",\"startlinecolor\":\"#2a3f5f\"},\"type\":\"carpet\"}],\"table\":[{\"cells\":{\"fill\":{\"color\":\"#EBF0F8\"},\"line\":{\"color\":\"white\"}},\"header\":{\"fill\":{\"color\":\"#C8D4E3\"},\"line\":{\"color\":\"white\"}},\"type\":\"table\"}],\"barpolar\":[{\"marker\":{\"line\":{\"color\":\"#E5ECF6\",\"width\":0.5},\"pattern\":{\"fillmode\":\"overlay\",\"size\":10,\"solidity\":0.2}},\"type\":\"barpolar\"}],\"pie\":[{\"automargin\":true,\"type\":\"pie\"}]},\"layout\":{\"autotypenumbers\":\"strict\",\"colorway\":[\"#636efa\",\"#EF553B\",\"#00cc96\",\"#ab63fa\",\"#FFA15A\",\"#19d3f3\",\"#FF6692\",\"#B6E880\",\"#FF97FF\",\"#FECB52\"],\"font\":{\"color\":\"#2a3f5f\"},\"hovermode\":\"closest\",\"hoverlabel\":{\"align\":\"left\"},\"paper_bgcolor\":\"white\",\"plot_bgcolor\":\"#E5ECF6\",\"polar\":{\"bgcolor\":\"#E5ECF6\",\"angularaxis\":{\"gridcolor\":\"white\",\"linecolor\":\"white\",\"ticks\":\"\"},\"radialaxis\":{\"gridcolor\":\"white\",\"linecolor\":\"white\",\"ticks\":\"\"}},\"ternary\":{\"bgcolor\":\"#E5ECF6\",\"aaxis\":{\"gridcolor\":\"white\",\"linecolor\":\"white\",\"ticks\":\"\"},\"baxis\":{\"gridcolor\":\"white\",\"linecolor\":\"white\",\"ticks\":\"\"},\"caxis\":{\"gridcolor\":\"white\",\"linecolor\":\"white\",\"ticks\":\"\"}},\"coloraxis\":{\"colorbar\":{\"outlinewidth\":0,\"ticks\":\"\"}},\"colorscale\":{\"sequential\":[[0.0,\"#0d0887\"],[0.1111111111111111,\"#46039f\"],[0.2222222222222222,\"#7201a8\"],[0.3333333333333333,\"#9c179e\"],[0.4444444444444444,\"#bd3786\"],[0.5555555555555556,\"#d8576b\"],[0.6666666666666666,\"#ed7953\"],[0.7777777777777778,\"#fb9f3a\"],[0.8888888888888888,\"#fdca26\"],[1.0,\"#f0f921\"]],\"sequentialminus\":[[0.0,\"#0d0887\"],[0.1111111111111111,\"#46039f\"],[0.2222222222222222,\"#7201a8\"],[0.3333333333333333,\"#9c179e\"],[0.4444444444444444,\"#bd3786\"],[0.5555555555555556,\"#d8576b\"],[0.6666666666666666,\"#ed7953\"],[0.7777777777777778,\"#fb9f3a\"],[0.8888888888888888,\"#fdca26\"],[1.0,\"#f0f921\"]],\"diverging\":[[0,\"#8e0152\"],[0.1,\"#c51b7d\"],[0.2,\"#de77ae\"],[0.3,\"#f1b6da\"],[0.4,\"#fde0ef\"],[0.5,\"#f7f7f7\"],[0.6,\"#e6f5d0\"],[0.7,\"#b8e186\"],[0.8,\"#7fbc41\"],[0.9,\"#4d9221\"],[1,\"#276419\"]]},\"xaxis\":{\"gridcolor\":\"white\",\"linecolor\":\"white\",\"ticks\":\"\",\"title\":{\"standoff\":15},\"zerolinecolor\":\"white\",\"automargin\":true,\"zerolinewidth\":2},\"yaxis\":{\"gridcolor\":\"white\",\"linecolor\":\"white\",\"ticks\":\"\",\"title\":{\"standoff\":15},\"zerolinecolor\":\"white\",\"automargin\":true,\"zerolinewidth\":2},\"scene\":{\"xaxis\":{\"backgroundcolor\":\"#E5ECF6\",\"gridcolor\":\"white\",\"linecolor\":\"white\",\"showbackground\":true,\"ticks\":\"\",\"zerolinecolor\":\"white\",\"gridwidth\":2},\"yaxis\":{\"backgroundcolor\":\"#E5ECF6\",\"gridcolor\":\"white\",\"linecolor\":\"white\",\"showbackground\":true,\"ticks\":\"\",\"zerolinecolor\":\"white\",\"gridwidth\":2},\"zaxis\":{\"backgroundcolor\":\"#E5ECF6\",\"gridcolor\":\"white\",\"linecolor\":\"white\",\"showbackground\":true,\"ticks\":\"\",\"zerolinecolor\":\"white\",\"gridwidth\":2}},\"shapedefaults\":{\"line\":{\"color\":\"#2a3f5f\"}},\"annotationdefaults\":{\"arrowcolor\":\"#2a3f5f\",\"arrowhead\":0,\"arrowwidth\":1},\"geo\":{\"bgcolor\":\"white\",\"landcolor\":\"#E5ECF6\",\"subunitcolor\":\"white\",\"showland\":true,\"showlakes\":true,\"lakecolor\":\"white\"},\"title\":{\"x\":0.05},\"mapbox\":{\"style\":\"light\"}}},\"xaxis\":{\"anchor\":\"y\",\"domain\":[0.0,1.0],\"title\":{\"text\":\"Week\"}},\"yaxis\":{\"anchor\":\"x\",\"domain\":[0.0,1.0],\"title\":{\"text\":\"RushingLeaderScore\"}},\"legend\":{\"title\":{\"text\":\"RushingLeader\"},\"tracegroupgap\":0},\"title\":{\"text\":\"RushingLeaderScore Over Weeks for CLEM and GT\"}},                        {\"responsive\": true}                    ).then(function(){\n",
       "                            \n",
       "var gd = document.getElementById('93475dd3-5b03-498d-ac3d-bab4bc71b34a');\n",
       "var x = new MutationObserver(function (mutations, observer) {{\n",
       "        var display = window.getComputedStyle(gd).display;\n",
       "        if (!display || display === 'none') {{\n",
       "            console.log([gd, 'removed!']);\n",
       "            Plotly.purge(gd);\n",
       "            observer.disconnect();\n",
       "        }}\n",
       "}});\n",
       "\n",
       "// Listen for the removal of the full notebook cells\n",
       "var notebookContainer = gd.closest('#notebook-container');\n",
       "if (notebookContainer) {{\n",
       "    x.observe(notebookContainer, {childList: true});\n",
       "}}\n",
       "\n",
       "// Listen for the clearing of the current output cell\n",
       "var outputEl = gd.closest('.output');\n",
       "if (outputEl) {{\n",
       "    x.observe(outputEl, {childList: true});\n",
       "}}\n",
       "\n",
       "                        })                };                });            </script>        </div>"
      ]
     },
     "metadata": {},
     "output_type": "display_data"
    },
    {
     "data": {
      "application/vnd.plotly.v1+json": {
       "config": {
        "plotlyServerURL": "https://plot.ly"
       },
       "data": [
        {
         "customdata": [
          [
           "DUKE",
           "CLEM"
          ],
          [
           "CLEM",
           "CHSO"
          ],
          [
           "CLEM",
           "FAU"
          ],
          [
           "CLEM",
           "SYR"
          ],
          [
           "MIA",
           "CLEM"
          ],
          [
           "NCSU",
           "CLEM"
          ]
         ],
         "hovertemplate": "Week: %{x}<br>Team: %{customdata[1]}<br>vs: %{customdata[0]}<br>PassingLeaderScore: %{y}",
         "legendgroup": "Cade Klubnik",
         "line": {
          "color": "#636efa",
          "dash": "solid"
         },
         "marker": {
          "symbol": "circle"
         },
         "mode": "markers+lines",
         "name": "Cade Klubnik",
         "orientation": "v",
         "showlegend": true,
         "type": "scatter",
         "x": [
          0,
          1,
          2,
          4,
          7,
          8
         ],
         "xaxis": "x",
         "y": [
          209,
          315,
          169,
          263,
          314,
          263
         ],
         "yaxis": "y"
        },
        {
         "customdata": [
          [
           "LOU",
           "GT"
          ],
          [
           "GT",
           "SCST"
          ],
          [
           "MISS",
           "GT"
          ],
          [
           "GT",
           "WAKE"
          ],
          [
           "BGSU",
           "GT"
          ],
          [
           "GT",
           "UVA"
          ]
         ],
         "hovertemplate": "Week: %{x}<br>Team: %{customdata[1]}<br>vs: %{customdata[0]}<br>PassingLeaderScore: %{y}",
         "legendgroup": "Haynes King",
         "line": {
          "color": "#EF553B",
          "dash": "solid"
         },
         "marker": {
          "symbol": "circle"
         },
         "mode": "markers+lines",
         "name": "Haynes King",
         "orientation": "v",
         "showlegend": true,
         "type": "scatter",
         "x": [
          0,
          1,
          2,
          3,
          4,
          9
         ],
         "xaxis": "x",
         "y": [
          313,
          290,
          307,
          222,
          348,
          208
         ],
         "yaxis": "y"
        },
        {
         "customdata": [
          [
           "FSU",
           "CLEM"
          ]
         ],
         "hovertemplate": "Week: %{x}<br>Team: %{customdata[1]}<br>vs: %{customdata[0]}<br>PassingLeaderScore: %{y}",
         "legendgroup": "Jordan Travis",
         "line": {
          "color": "#00cc96",
          "dash": "solid"
         },
         "marker": {
          "symbol": "circle"
         },
         "mode": "markers+lines",
         "name": "Jordan Travis",
         "orientation": "v",
         "showlegend": true,
         "type": "scatter",
         "x": [
          3
         ],
         "xaxis": "x",
         "y": [
          289
         ],
         "yaxis": "y"
        },
        {
         "customdata": [
          [
           "CLEM",
           "WAKE"
          ]
         ],
         "hovertemplate": "Week: %{x}<br>Team: %{customdata[1]}<br>vs: %{customdata[0]}<br>PassingLeaderScore: %{y}",
         "legendgroup": "Mitch Griffis",
         "line": {
          "color": "#ab63fa",
          "dash": "solid"
         },
         "marker": {
          "symbol": "circle"
         },
         "mode": "markers+lines",
         "name": "Mitch Griffis",
         "orientation": "v",
         "showlegend": true,
         "type": "scatter",
         "x": [
          5
         ],
         "xaxis": "x",
         "y": [
          137
         ],
         "yaxis": "y"
        },
        {
         "customdata": [
          [
           "GT",
           "MIA"
          ]
         ],
         "hovertemplate": "Week: %{x}<br>Team: %{customdata[1]}<br>vs: %{customdata[0]}<br>PassingLeaderScore: %{y}",
         "legendgroup": "Tyler Van Dyke",
         "line": {
          "color": "#FFA15A",
          "dash": "solid"
         },
         "marker": {
          "symbol": "circle"
         },
         "mode": "markers+lines",
         "name": "Tyler Van Dyke",
         "orientation": "v",
         "showlegend": true,
         "type": "scatter",
         "x": [
          5
         ],
         "xaxis": "x",
         "y": [
          288
         ],
         "yaxis": "y"
        },
        {
         "customdata": [
          [
           "BC",
           "GT"
          ]
         ],
         "hovertemplate": "Week: %{x}<br>Team: %{customdata[1]}<br>vs: %{customdata[0]}<br>PassingLeaderScore: %{y}",
         "legendgroup": "Thomas Castellanos",
         "line": {
          "color": "#19d3f3",
          "dash": "solid"
         },
         "marker": {
          "symbol": "circle"
         },
         "mode": "markers+lines",
         "name": "Thomas Castellanos",
         "orientation": "v",
         "showlegend": true,
         "type": "scatter",
         "x": [
          7
         ],
         "xaxis": "x",
         "y": [
          255
         ],
         "yaxis": "y"
        },
        {
         "customdata": [
          [
           "GT",
           "UNC"
          ]
         ],
         "hovertemplate": "Week: %{x}<br>Team: %{customdata[1]}<br>vs: %{customdata[0]}<br>PassingLeaderScore: %{y}",
         "legendgroup": "Drake Maye",
         "line": {
          "color": "#FF6692",
          "dash": "solid"
         },
         "marker": {
          "symbol": "circle"
         },
         "mode": "markers+lines",
         "name": "Drake Maye",
         "orientation": "v",
         "showlegend": true,
         "type": "scatter",
         "x": [
          8
         ],
         "xaxis": "x",
         "y": [
          310
         ],
         "yaxis": "y"
        },
        {
         "customdata": [
          [
           "CLEM",
           "ND"
          ]
         ],
         "hovertemplate": "Week: %{x}<br>Team: %{customdata[1]}<br>vs: %{customdata[0]}<br>PassingLeaderScore: %{y}",
         "legendgroup": "Sam Hartman",
         "line": {
          "color": "#B6E880",
          "dash": "solid"
         },
         "marker": {
          "symbol": "circle"
         },
         "mode": "markers+lines",
         "name": "Sam Hartman",
         "orientation": "v",
         "showlegend": true,
         "type": "scatter",
         "x": [
          9
         ],
         "xaxis": "x",
         "y": [
          146
         ],
         "yaxis": "y"
        }
       ],
       "layout": {
        "legend": {
         "title": {
          "text": "PassingLeader"
         },
         "tracegroupgap": 0
        },
        "template": {
         "data": {
          "bar": [
           {
            "error_x": {
             "color": "#2a3f5f"
            },
            "error_y": {
             "color": "#2a3f5f"
            },
            "marker": {
             "line": {
              "color": "#E5ECF6",
              "width": 0.5
             },
             "pattern": {
              "fillmode": "overlay",
              "size": 10,
              "solidity": 0.2
             }
            },
            "type": "bar"
           }
          ],
          "barpolar": [
           {
            "marker": {
             "line": {
              "color": "#E5ECF6",
              "width": 0.5
             },
             "pattern": {
              "fillmode": "overlay",
              "size": 10,
              "solidity": 0.2
             }
            },
            "type": "barpolar"
           }
          ],
          "carpet": [
           {
            "aaxis": {
             "endlinecolor": "#2a3f5f",
             "gridcolor": "white",
             "linecolor": "white",
             "minorgridcolor": "white",
             "startlinecolor": "#2a3f5f"
            },
            "baxis": {
             "endlinecolor": "#2a3f5f",
             "gridcolor": "white",
             "linecolor": "white",
             "minorgridcolor": "white",
             "startlinecolor": "#2a3f5f"
            },
            "type": "carpet"
           }
          ],
          "choropleth": [
           {
            "colorbar": {
             "outlinewidth": 0,
             "ticks": ""
            },
            "type": "choropleth"
           }
          ],
          "contour": [
           {
            "colorbar": {
             "outlinewidth": 0,
             "ticks": ""
            },
            "colorscale": [
             [
              0,
              "#0d0887"
             ],
             [
              0.1111111111111111,
              "#46039f"
             ],
             [
              0.2222222222222222,
              "#7201a8"
             ],
             [
              0.3333333333333333,
              "#9c179e"
             ],
             [
              0.4444444444444444,
              "#bd3786"
             ],
             [
              0.5555555555555556,
              "#d8576b"
             ],
             [
              0.6666666666666666,
              "#ed7953"
             ],
             [
              0.7777777777777778,
              "#fb9f3a"
             ],
             [
              0.8888888888888888,
              "#fdca26"
             ],
             [
              1,
              "#f0f921"
             ]
            ],
            "type": "contour"
           }
          ],
          "contourcarpet": [
           {
            "colorbar": {
             "outlinewidth": 0,
             "ticks": ""
            },
            "type": "contourcarpet"
           }
          ],
          "heatmap": [
           {
            "colorbar": {
             "outlinewidth": 0,
             "ticks": ""
            },
            "colorscale": [
             [
              0,
              "#0d0887"
             ],
             [
              0.1111111111111111,
              "#46039f"
             ],
             [
              0.2222222222222222,
              "#7201a8"
             ],
             [
              0.3333333333333333,
              "#9c179e"
             ],
             [
              0.4444444444444444,
              "#bd3786"
             ],
             [
              0.5555555555555556,
              "#d8576b"
             ],
             [
              0.6666666666666666,
              "#ed7953"
             ],
             [
              0.7777777777777778,
              "#fb9f3a"
             ],
             [
              0.8888888888888888,
              "#fdca26"
             ],
             [
              1,
              "#f0f921"
             ]
            ],
            "type": "heatmap"
           }
          ],
          "heatmapgl": [
           {
            "colorbar": {
             "outlinewidth": 0,
             "ticks": ""
            },
            "colorscale": [
             [
              0,
              "#0d0887"
             ],
             [
              0.1111111111111111,
              "#46039f"
             ],
             [
              0.2222222222222222,
              "#7201a8"
             ],
             [
              0.3333333333333333,
              "#9c179e"
             ],
             [
              0.4444444444444444,
              "#bd3786"
             ],
             [
              0.5555555555555556,
              "#d8576b"
             ],
             [
              0.6666666666666666,
              "#ed7953"
             ],
             [
              0.7777777777777778,
              "#fb9f3a"
             ],
             [
              0.8888888888888888,
              "#fdca26"
             ],
             [
              1,
              "#f0f921"
             ]
            ],
            "type": "heatmapgl"
           }
          ],
          "histogram": [
           {
            "marker": {
             "pattern": {
              "fillmode": "overlay",
              "size": 10,
              "solidity": 0.2
             }
            },
            "type": "histogram"
           }
          ],
          "histogram2d": [
           {
            "colorbar": {
             "outlinewidth": 0,
             "ticks": ""
            },
            "colorscale": [
             [
              0,
              "#0d0887"
             ],
             [
              0.1111111111111111,
              "#46039f"
             ],
             [
              0.2222222222222222,
              "#7201a8"
             ],
             [
              0.3333333333333333,
              "#9c179e"
             ],
             [
              0.4444444444444444,
              "#bd3786"
             ],
             [
              0.5555555555555556,
              "#d8576b"
             ],
             [
              0.6666666666666666,
              "#ed7953"
             ],
             [
              0.7777777777777778,
              "#fb9f3a"
             ],
             [
              0.8888888888888888,
              "#fdca26"
             ],
             [
              1,
              "#f0f921"
             ]
            ],
            "type": "histogram2d"
           }
          ],
          "histogram2dcontour": [
           {
            "colorbar": {
             "outlinewidth": 0,
             "ticks": ""
            },
            "colorscale": [
             [
              0,
              "#0d0887"
             ],
             [
              0.1111111111111111,
              "#46039f"
             ],
             [
              0.2222222222222222,
              "#7201a8"
             ],
             [
              0.3333333333333333,
              "#9c179e"
             ],
             [
              0.4444444444444444,
              "#bd3786"
             ],
             [
              0.5555555555555556,
              "#d8576b"
             ],
             [
              0.6666666666666666,
              "#ed7953"
             ],
             [
              0.7777777777777778,
              "#fb9f3a"
             ],
             [
              0.8888888888888888,
              "#fdca26"
             ],
             [
              1,
              "#f0f921"
             ]
            ],
            "type": "histogram2dcontour"
           }
          ],
          "mesh3d": [
           {
            "colorbar": {
             "outlinewidth": 0,
             "ticks": ""
            },
            "type": "mesh3d"
           }
          ],
          "parcoords": [
           {
            "line": {
             "colorbar": {
              "outlinewidth": 0,
              "ticks": ""
             }
            },
            "type": "parcoords"
           }
          ],
          "pie": [
           {
            "automargin": true,
            "type": "pie"
           }
          ],
          "scatter": [
           {
            "fillpattern": {
             "fillmode": "overlay",
             "size": 10,
             "solidity": 0.2
            },
            "type": "scatter"
           }
          ],
          "scatter3d": [
           {
            "line": {
             "colorbar": {
              "outlinewidth": 0,
              "ticks": ""
             }
            },
            "marker": {
             "colorbar": {
              "outlinewidth": 0,
              "ticks": ""
             }
            },
            "type": "scatter3d"
           }
          ],
          "scattercarpet": [
           {
            "marker": {
             "colorbar": {
              "outlinewidth": 0,
              "ticks": ""
             }
            },
            "type": "scattercarpet"
           }
          ],
          "scattergeo": [
           {
            "marker": {
             "colorbar": {
              "outlinewidth": 0,
              "ticks": ""
             }
            },
            "type": "scattergeo"
           }
          ],
          "scattergl": [
           {
            "marker": {
             "colorbar": {
              "outlinewidth": 0,
              "ticks": ""
             }
            },
            "type": "scattergl"
           }
          ],
          "scattermapbox": [
           {
            "marker": {
             "colorbar": {
              "outlinewidth": 0,
              "ticks": ""
             }
            },
            "type": "scattermapbox"
           }
          ],
          "scatterpolar": [
           {
            "marker": {
             "colorbar": {
              "outlinewidth": 0,
              "ticks": ""
             }
            },
            "type": "scatterpolar"
           }
          ],
          "scatterpolargl": [
           {
            "marker": {
             "colorbar": {
              "outlinewidth": 0,
              "ticks": ""
             }
            },
            "type": "scatterpolargl"
           }
          ],
          "scatterternary": [
           {
            "marker": {
             "colorbar": {
              "outlinewidth": 0,
              "ticks": ""
             }
            },
            "type": "scatterternary"
           }
          ],
          "surface": [
           {
            "colorbar": {
             "outlinewidth": 0,
             "ticks": ""
            },
            "colorscale": [
             [
              0,
              "#0d0887"
             ],
             [
              0.1111111111111111,
              "#46039f"
             ],
             [
              0.2222222222222222,
              "#7201a8"
             ],
             [
              0.3333333333333333,
              "#9c179e"
             ],
             [
              0.4444444444444444,
              "#bd3786"
             ],
             [
              0.5555555555555556,
              "#d8576b"
             ],
             [
              0.6666666666666666,
              "#ed7953"
             ],
             [
              0.7777777777777778,
              "#fb9f3a"
             ],
             [
              0.8888888888888888,
              "#fdca26"
             ],
             [
              1,
              "#f0f921"
             ]
            ],
            "type": "surface"
           }
          ],
          "table": [
           {
            "cells": {
             "fill": {
              "color": "#EBF0F8"
             },
             "line": {
              "color": "white"
             }
            },
            "header": {
             "fill": {
              "color": "#C8D4E3"
             },
             "line": {
              "color": "white"
             }
            },
            "type": "table"
           }
          ]
         },
         "layout": {
          "annotationdefaults": {
           "arrowcolor": "#2a3f5f",
           "arrowhead": 0,
           "arrowwidth": 1
          },
          "autotypenumbers": "strict",
          "coloraxis": {
           "colorbar": {
            "outlinewidth": 0,
            "ticks": ""
           }
          },
          "colorscale": {
           "diverging": [
            [
             0,
             "#8e0152"
            ],
            [
             0.1,
             "#c51b7d"
            ],
            [
             0.2,
             "#de77ae"
            ],
            [
             0.3,
             "#f1b6da"
            ],
            [
             0.4,
             "#fde0ef"
            ],
            [
             0.5,
             "#f7f7f7"
            ],
            [
             0.6,
             "#e6f5d0"
            ],
            [
             0.7,
             "#b8e186"
            ],
            [
             0.8,
             "#7fbc41"
            ],
            [
             0.9,
             "#4d9221"
            ],
            [
             1,
             "#276419"
            ]
           ],
           "sequential": [
            [
             0,
             "#0d0887"
            ],
            [
             0.1111111111111111,
             "#46039f"
            ],
            [
             0.2222222222222222,
             "#7201a8"
            ],
            [
             0.3333333333333333,
             "#9c179e"
            ],
            [
             0.4444444444444444,
             "#bd3786"
            ],
            [
             0.5555555555555556,
             "#d8576b"
            ],
            [
             0.6666666666666666,
             "#ed7953"
            ],
            [
             0.7777777777777778,
             "#fb9f3a"
            ],
            [
             0.8888888888888888,
             "#fdca26"
            ],
            [
             1,
             "#f0f921"
            ]
           ],
           "sequentialminus": [
            [
             0,
             "#0d0887"
            ],
            [
             0.1111111111111111,
             "#46039f"
            ],
            [
             0.2222222222222222,
             "#7201a8"
            ],
            [
             0.3333333333333333,
             "#9c179e"
            ],
            [
             0.4444444444444444,
             "#bd3786"
            ],
            [
             0.5555555555555556,
             "#d8576b"
            ],
            [
             0.6666666666666666,
             "#ed7953"
            ],
            [
             0.7777777777777778,
             "#fb9f3a"
            ],
            [
             0.8888888888888888,
             "#fdca26"
            ],
            [
             1,
             "#f0f921"
            ]
           ]
          },
          "colorway": [
           "#636efa",
           "#EF553B",
           "#00cc96",
           "#ab63fa",
           "#FFA15A",
           "#19d3f3",
           "#FF6692",
           "#B6E880",
           "#FF97FF",
           "#FECB52"
          ],
          "font": {
           "color": "#2a3f5f"
          },
          "geo": {
           "bgcolor": "white",
           "lakecolor": "white",
           "landcolor": "#E5ECF6",
           "showlakes": true,
           "showland": true,
           "subunitcolor": "white"
          },
          "hoverlabel": {
           "align": "left"
          },
          "hovermode": "closest",
          "mapbox": {
           "style": "light"
          },
          "paper_bgcolor": "white",
          "plot_bgcolor": "#E5ECF6",
          "polar": {
           "angularaxis": {
            "gridcolor": "white",
            "linecolor": "white",
            "ticks": ""
           },
           "bgcolor": "#E5ECF6",
           "radialaxis": {
            "gridcolor": "white",
            "linecolor": "white",
            "ticks": ""
           }
          },
          "scene": {
           "xaxis": {
            "backgroundcolor": "#E5ECF6",
            "gridcolor": "white",
            "gridwidth": 2,
            "linecolor": "white",
            "showbackground": true,
            "ticks": "",
            "zerolinecolor": "white"
           },
           "yaxis": {
            "backgroundcolor": "#E5ECF6",
            "gridcolor": "white",
            "gridwidth": 2,
            "linecolor": "white",
            "showbackground": true,
            "ticks": "",
            "zerolinecolor": "white"
           },
           "zaxis": {
            "backgroundcolor": "#E5ECF6",
            "gridcolor": "white",
            "gridwidth": 2,
            "linecolor": "white",
            "showbackground": true,
            "ticks": "",
            "zerolinecolor": "white"
           }
          },
          "shapedefaults": {
           "line": {
            "color": "#2a3f5f"
           }
          },
          "ternary": {
           "aaxis": {
            "gridcolor": "white",
            "linecolor": "white",
            "ticks": ""
           },
           "baxis": {
            "gridcolor": "white",
            "linecolor": "white",
            "ticks": ""
           },
           "bgcolor": "#E5ECF6",
           "caxis": {
            "gridcolor": "white",
            "linecolor": "white",
            "ticks": ""
           }
          },
          "title": {
           "x": 0.05
          },
          "xaxis": {
           "automargin": true,
           "gridcolor": "white",
           "linecolor": "white",
           "ticks": "",
           "title": {
            "standoff": 15
           },
           "zerolinecolor": "white",
           "zerolinewidth": 2
          },
          "yaxis": {
           "automargin": true,
           "gridcolor": "white",
           "linecolor": "white",
           "ticks": "",
           "title": {
            "standoff": 15
           },
           "zerolinecolor": "white",
           "zerolinewidth": 2
          }
         }
        },
        "title": {
         "text": "PassingLeaderScore Over Weeks for CLEM and GT"
        },
        "xaxis": {
         "anchor": "y",
         "domain": [
          0,
          1
         ],
         "title": {
          "text": "Week"
         }
        },
        "yaxis": {
         "anchor": "x",
         "domain": [
          0,
          1
         ],
         "title": {
          "text": "PassingLeaderScore"
         }
        }
       }
      },
      "text/html": [
       "<div>                            <div id=\"97295656-eb48-42fa-88cc-bf199d440410\" class=\"plotly-graph-div\" style=\"height:525px; width:100%;\"></div>            <script type=\"text/javascript\">                require([\"plotly\"], function(Plotly) {                    window.PLOTLYENV=window.PLOTLYENV || {};                                    if (document.getElementById(\"97295656-eb48-42fa-88cc-bf199d440410\")) {                    Plotly.newPlot(                        \"97295656-eb48-42fa-88cc-bf199d440410\",                        [{\"customdata\":[[\"DUKE\",\"CLEM\"],[\"CLEM\",\"CHSO\"],[\"CLEM\",\"FAU\"],[\"CLEM\",\"SYR\"],[\"MIA\",\"CLEM\"],[\"NCSU\",\"CLEM\"]],\"hovertemplate\":\"Week: %{x}\\u003cbr\\u003eTeam: %{customdata[1]}\\u003cbr\\u003evs: %{customdata[0]}\\u003cbr\\u003ePassingLeaderScore: %{y}\",\"legendgroup\":\"Cade Klubnik\",\"line\":{\"color\":\"#636efa\",\"dash\":\"solid\"},\"marker\":{\"symbol\":\"circle\"},\"mode\":\"markers+lines\",\"name\":\"Cade Klubnik\",\"orientation\":\"v\",\"showlegend\":true,\"x\":[0,1,2,4,7,8],\"xaxis\":\"x\",\"y\":[209,315,169,263,314,263],\"yaxis\":\"y\",\"type\":\"scatter\"},{\"customdata\":[[\"LOU\",\"GT\"],[\"GT\",\"SCST\"],[\"MISS\",\"GT\"],[\"GT\",\"WAKE\"],[\"BGSU\",\"GT\"],[\"GT\",\"UVA\"]],\"hovertemplate\":\"Week: %{x}\\u003cbr\\u003eTeam: %{customdata[1]}\\u003cbr\\u003evs: %{customdata[0]}\\u003cbr\\u003ePassingLeaderScore: %{y}\",\"legendgroup\":\"Haynes King\",\"line\":{\"color\":\"#EF553B\",\"dash\":\"solid\"},\"marker\":{\"symbol\":\"circle\"},\"mode\":\"markers+lines\",\"name\":\"Haynes King\",\"orientation\":\"v\",\"showlegend\":true,\"x\":[0,1,2,3,4,9],\"xaxis\":\"x\",\"y\":[313,290,307,222,348,208],\"yaxis\":\"y\",\"type\":\"scatter\"},{\"customdata\":[[\"FSU\",\"CLEM\"]],\"hovertemplate\":\"Week: %{x}\\u003cbr\\u003eTeam: %{customdata[1]}\\u003cbr\\u003evs: %{customdata[0]}\\u003cbr\\u003ePassingLeaderScore: %{y}\",\"legendgroup\":\"Jordan Travis\",\"line\":{\"color\":\"#00cc96\",\"dash\":\"solid\"},\"marker\":{\"symbol\":\"circle\"},\"mode\":\"markers+lines\",\"name\":\"Jordan Travis\",\"orientation\":\"v\",\"showlegend\":true,\"x\":[3],\"xaxis\":\"x\",\"y\":[289],\"yaxis\":\"y\",\"type\":\"scatter\"},{\"customdata\":[[\"CLEM\",\"WAKE\"]],\"hovertemplate\":\"Week: %{x}\\u003cbr\\u003eTeam: %{customdata[1]}\\u003cbr\\u003evs: %{customdata[0]}\\u003cbr\\u003ePassingLeaderScore: %{y}\",\"legendgroup\":\"Mitch Griffis\",\"line\":{\"color\":\"#ab63fa\",\"dash\":\"solid\"},\"marker\":{\"symbol\":\"circle\"},\"mode\":\"markers+lines\",\"name\":\"Mitch Griffis\",\"orientation\":\"v\",\"showlegend\":true,\"x\":[5],\"xaxis\":\"x\",\"y\":[137],\"yaxis\":\"y\",\"type\":\"scatter\"},{\"customdata\":[[\"GT\",\"MIA\"]],\"hovertemplate\":\"Week: %{x}\\u003cbr\\u003eTeam: %{customdata[1]}\\u003cbr\\u003evs: %{customdata[0]}\\u003cbr\\u003ePassingLeaderScore: %{y}\",\"legendgroup\":\"Tyler Van Dyke\",\"line\":{\"color\":\"#FFA15A\",\"dash\":\"solid\"},\"marker\":{\"symbol\":\"circle\"},\"mode\":\"markers+lines\",\"name\":\"Tyler Van Dyke\",\"orientation\":\"v\",\"showlegend\":true,\"x\":[5],\"xaxis\":\"x\",\"y\":[288],\"yaxis\":\"y\",\"type\":\"scatter\"},{\"customdata\":[[\"BC\",\"GT\"]],\"hovertemplate\":\"Week: %{x}\\u003cbr\\u003eTeam: %{customdata[1]}\\u003cbr\\u003evs: %{customdata[0]}\\u003cbr\\u003ePassingLeaderScore: %{y}\",\"legendgroup\":\"Thomas Castellanos\",\"line\":{\"color\":\"#19d3f3\",\"dash\":\"solid\"},\"marker\":{\"symbol\":\"circle\"},\"mode\":\"markers+lines\",\"name\":\"Thomas Castellanos\",\"orientation\":\"v\",\"showlegend\":true,\"x\":[7],\"xaxis\":\"x\",\"y\":[255],\"yaxis\":\"y\",\"type\":\"scatter\"},{\"customdata\":[[\"GT\",\"UNC\"]],\"hovertemplate\":\"Week: %{x}\\u003cbr\\u003eTeam: %{customdata[1]}\\u003cbr\\u003evs: %{customdata[0]}\\u003cbr\\u003ePassingLeaderScore: %{y}\",\"legendgroup\":\"Drake Maye\",\"line\":{\"color\":\"#FF6692\",\"dash\":\"solid\"},\"marker\":{\"symbol\":\"circle\"},\"mode\":\"markers+lines\",\"name\":\"Drake Maye\",\"orientation\":\"v\",\"showlegend\":true,\"x\":[8],\"xaxis\":\"x\",\"y\":[310],\"yaxis\":\"y\",\"type\":\"scatter\"},{\"customdata\":[[\"CLEM\",\"ND\"]],\"hovertemplate\":\"Week: %{x}\\u003cbr\\u003eTeam: %{customdata[1]}\\u003cbr\\u003evs: %{customdata[0]}\\u003cbr\\u003ePassingLeaderScore: %{y}\",\"legendgroup\":\"Sam Hartman\",\"line\":{\"color\":\"#B6E880\",\"dash\":\"solid\"},\"marker\":{\"symbol\":\"circle\"},\"mode\":\"markers+lines\",\"name\":\"Sam Hartman\",\"orientation\":\"v\",\"showlegend\":true,\"x\":[9],\"xaxis\":\"x\",\"y\":[146],\"yaxis\":\"y\",\"type\":\"scatter\"}],                        {\"template\":{\"data\":{\"histogram2dcontour\":[{\"type\":\"histogram2dcontour\",\"colorbar\":{\"outlinewidth\":0,\"ticks\":\"\"},\"colorscale\":[[0.0,\"#0d0887\"],[0.1111111111111111,\"#46039f\"],[0.2222222222222222,\"#7201a8\"],[0.3333333333333333,\"#9c179e\"],[0.4444444444444444,\"#bd3786\"],[0.5555555555555556,\"#d8576b\"],[0.6666666666666666,\"#ed7953\"],[0.7777777777777778,\"#fb9f3a\"],[0.8888888888888888,\"#fdca26\"],[1.0,\"#f0f921\"]]}],\"choropleth\":[{\"type\":\"choropleth\",\"colorbar\":{\"outlinewidth\":0,\"ticks\":\"\"}}],\"histogram2d\":[{\"type\":\"histogram2d\",\"colorbar\":{\"outlinewidth\":0,\"ticks\":\"\"},\"colorscale\":[[0.0,\"#0d0887\"],[0.1111111111111111,\"#46039f\"],[0.2222222222222222,\"#7201a8\"],[0.3333333333333333,\"#9c179e\"],[0.4444444444444444,\"#bd3786\"],[0.5555555555555556,\"#d8576b\"],[0.6666666666666666,\"#ed7953\"],[0.7777777777777778,\"#fb9f3a\"],[0.8888888888888888,\"#fdca26\"],[1.0,\"#f0f921\"]]}],\"heatmap\":[{\"type\":\"heatmap\",\"colorbar\":{\"outlinewidth\":0,\"ticks\":\"\"},\"colorscale\":[[0.0,\"#0d0887\"],[0.1111111111111111,\"#46039f\"],[0.2222222222222222,\"#7201a8\"],[0.3333333333333333,\"#9c179e\"],[0.4444444444444444,\"#bd3786\"],[0.5555555555555556,\"#d8576b\"],[0.6666666666666666,\"#ed7953\"],[0.7777777777777778,\"#fb9f3a\"],[0.8888888888888888,\"#fdca26\"],[1.0,\"#f0f921\"]]}],\"heatmapgl\":[{\"type\":\"heatmapgl\",\"colorbar\":{\"outlinewidth\":0,\"ticks\":\"\"},\"colorscale\":[[0.0,\"#0d0887\"],[0.1111111111111111,\"#46039f\"],[0.2222222222222222,\"#7201a8\"],[0.3333333333333333,\"#9c179e\"],[0.4444444444444444,\"#bd3786\"],[0.5555555555555556,\"#d8576b\"],[0.6666666666666666,\"#ed7953\"],[0.7777777777777778,\"#fb9f3a\"],[0.8888888888888888,\"#fdca26\"],[1.0,\"#f0f921\"]]}],\"contourcarpet\":[{\"type\":\"contourcarpet\",\"colorbar\":{\"outlinewidth\":0,\"ticks\":\"\"}}],\"contour\":[{\"type\":\"contour\",\"colorbar\":{\"outlinewidth\":0,\"ticks\":\"\"},\"colorscale\":[[0.0,\"#0d0887\"],[0.1111111111111111,\"#46039f\"],[0.2222222222222222,\"#7201a8\"],[0.3333333333333333,\"#9c179e\"],[0.4444444444444444,\"#bd3786\"],[0.5555555555555556,\"#d8576b\"],[0.6666666666666666,\"#ed7953\"],[0.7777777777777778,\"#fb9f3a\"],[0.8888888888888888,\"#fdca26\"],[1.0,\"#f0f921\"]]}],\"surface\":[{\"type\":\"surface\",\"colorbar\":{\"outlinewidth\":0,\"ticks\":\"\"},\"colorscale\":[[0.0,\"#0d0887\"],[0.1111111111111111,\"#46039f\"],[0.2222222222222222,\"#7201a8\"],[0.3333333333333333,\"#9c179e\"],[0.4444444444444444,\"#bd3786\"],[0.5555555555555556,\"#d8576b\"],[0.6666666666666666,\"#ed7953\"],[0.7777777777777778,\"#fb9f3a\"],[0.8888888888888888,\"#fdca26\"],[1.0,\"#f0f921\"]]}],\"mesh3d\":[{\"type\":\"mesh3d\",\"colorbar\":{\"outlinewidth\":0,\"ticks\":\"\"}}],\"scatter\":[{\"fillpattern\":{\"fillmode\":\"overlay\",\"size\":10,\"solidity\":0.2},\"type\":\"scatter\"}],\"parcoords\":[{\"type\":\"parcoords\",\"line\":{\"colorbar\":{\"outlinewidth\":0,\"ticks\":\"\"}}}],\"scatterpolargl\":[{\"type\":\"scatterpolargl\",\"marker\":{\"colorbar\":{\"outlinewidth\":0,\"ticks\":\"\"}}}],\"bar\":[{\"error_x\":{\"color\":\"#2a3f5f\"},\"error_y\":{\"color\":\"#2a3f5f\"},\"marker\":{\"line\":{\"color\":\"#E5ECF6\",\"width\":0.5},\"pattern\":{\"fillmode\":\"overlay\",\"size\":10,\"solidity\":0.2}},\"type\":\"bar\"}],\"scattergeo\":[{\"type\":\"scattergeo\",\"marker\":{\"colorbar\":{\"outlinewidth\":0,\"ticks\":\"\"}}}],\"scatterpolar\":[{\"type\":\"scatterpolar\",\"marker\":{\"colorbar\":{\"outlinewidth\":0,\"ticks\":\"\"}}}],\"histogram\":[{\"marker\":{\"pattern\":{\"fillmode\":\"overlay\",\"size\":10,\"solidity\":0.2}},\"type\":\"histogram\"}],\"scattergl\":[{\"type\":\"scattergl\",\"marker\":{\"colorbar\":{\"outlinewidth\":0,\"ticks\":\"\"}}}],\"scatter3d\":[{\"type\":\"scatter3d\",\"line\":{\"colorbar\":{\"outlinewidth\":0,\"ticks\":\"\"}},\"marker\":{\"colorbar\":{\"outlinewidth\":0,\"ticks\":\"\"}}}],\"scattermapbox\":[{\"type\":\"scattermapbox\",\"marker\":{\"colorbar\":{\"outlinewidth\":0,\"ticks\":\"\"}}}],\"scatterternary\":[{\"type\":\"scatterternary\",\"marker\":{\"colorbar\":{\"outlinewidth\":0,\"ticks\":\"\"}}}],\"scattercarpet\":[{\"type\":\"scattercarpet\",\"marker\":{\"colorbar\":{\"outlinewidth\":0,\"ticks\":\"\"}}}],\"carpet\":[{\"aaxis\":{\"endlinecolor\":\"#2a3f5f\",\"gridcolor\":\"white\",\"linecolor\":\"white\",\"minorgridcolor\":\"white\",\"startlinecolor\":\"#2a3f5f\"},\"baxis\":{\"endlinecolor\":\"#2a3f5f\",\"gridcolor\":\"white\",\"linecolor\":\"white\",\"minorgridcolor\":\"white\",\"startlinecolor\":\"#2a3f5f\"},\"type\":\"carpet\"}],\"table\":[{\"cells\":{\"fill\":{\"color\":\"#EBF0F8\"},\"line\":{\"color\":\"white\"}},\"header\":{\"fill\":{\"color\":\"#C8D4E3\"},\"line\":{\"color\":\"white\"}},\"type\":\"table\"}],\"barpolar\":[{\"marker\":{\"line\":{\"color\":\"#E5ECF6\",\"width\":0.5},\"pattern\":{\"fillmode\":\"overlay\",\"size\":10,\"solidity\":0.2}},\"type\":\"barpolar\"}],\"pie\":[{\"automargin\":true,\"type\":\"pie\"}]},\"layout\":{\"autotypenumbers\":\"strict\",\"colorway\":[\"#636efa\",\"#EF553B\",\"#00cc96\",\"#ab63fa\",\"#FFA15A\",\"#19d3f3\",\"#FF6692\",\"#B6E880\",\"#FF97FF\",\"#FECB52\"],\"font\":{\"color\":\"#2a3f5f\"},\"hovermode\":\"closest\",\"hoverlabel\":{\"align\":\"left\"},\"paper_bgcolor\":\"white\",\"plot_bgcolor\":\"#E5ECF6\",\"polar\":{\"bgcolor\":\"#E5ECF6\",\"angularaxis\":{\"gridcolor\":\"white\",\"linecolor\":\"white\",\"ticks\":\"\"},\"radialaxis\":{\"gridcolor\":\"white\",\"linecolor\":\"white\",\"ticks\":\"\"}},\"ternary\":{\"bgcolor\":\"#E5ECF6\",\"aaxis\":{\"gridcolor\":\"white\",\"linecolor\":\"white\",\"ticks\":\"\"},\"baxis\":{\"gridcolor\":\"white\",\"linecolor\":\"white\",\"ticks\":\"\"},\"caxis\":{\"gridcolor\":\"white\",\"linecolor\":\"white\",\"ticks\":\"\"}},\"coloraxis\":{\"colorbar\":{\"outlinewidth\":0,\"ticks\":\"\"}},\"colorscale\":{\"sequential\":[[0.0,\"#0d0887\"],[0.1111111111111111,\"#46039f\"],[0.2222222222222222,\"#7201a8\"],[0.3333333333333333,\"#9c179e\"],[0.4444444444444444,\"#bd3786\"],[0.5555555555555556,\"#d8576b\"],[0.6666666666666666,\"#ed7953\"],[0.7777777777777778,\"#fb9f3a\"],[0.8888888888888888,\"#fdca26\"],[1.0,\"#f0f921\"]],\"sequentialminus\":[[0.0,\"#0d0887\"],[0.1111111111111111,\"#46039f\"],[0.2222222222222222,\"#7201a8\"],[0.3333333333333333,\"#9c179e\"],[0.4444444444444444,\"#bd3786\"],[0.5555555555555556,\"#d8576b\"],[0.6666666666666666,\"#ed7953\"],[0.7777777777777778,\"#fb9f3a\"],[0.8888888888888888,\"#fdca26\"],[1.0,\"#f0f921\"]],\"diverging\":[[0,\"#8e0152\"],[0.1,\"#c51b7d\"],[0.2,\"#de77ae\"],[0.3,\"#f1b6da\"],[0.4,\"#fde0ef\"],[0.5,\"#f7f7f7\"],[0.6,\"#e6f5d0\"],[0.7,\"#b8e186\"],[0.8,\"#7fbc41\"],[0.9,\"#4d9221\"],[1,\"#276419\"]]},\"xaxis\":{\"gridcolor\":\"white\",\"linecolor\":\"white\",\"ticks\":\"\",\"title\":{\"standoff\":15},\"zerolinecolor\":\"white\",\"automargin\":true,\"zerolinewidth\":2},\"yaxis\":{\"gridcolor\":\"white\",\"linecolor\":\"white\",\"ticks\":\"\",\"title\":{\"standoff\":15},\"zerolinecolor\":\"white\",\"automargin\":true,\"zerolinewidth\":2},\"scene\":{\"xaxis\":{\"backgroundcolor\":\"#E5ECF6\",\"gridcolor\":\"white\",\"linecolor\":\"white\",\"showbackground\":true,\"ticks\":\"\",\"zerolinecolor\":\"white\",\"gridwidth\":2},\"yaxis\":{\"backgroundcolor\":\"#E5ECF6\",\"gridcolor\":\"white\",\"linecolor\":\"white\",\"showbackground\":true,\"ticks\":\"\",\"zerolinecolor\":\"white\",\"gridwidth\":2},\"zaxis\":{\"backgroundcolor\":\"#E5ECF6\",\"gridcolor\":\"white\",\"linecolor\":\"white\",\"showbackground\":true,\"ticks\":\"\",\"zerolinecolor\":\"white\",\"gridwidth\":2}},\"shapedefaults\":{\"line\":{\"color\":\"#2a3f5f\"}},\"annotationdefaults\":{\"arrowcolor\":\"#2a3f5f\",\"arrowhead\":0,\"arrowwidth\":1},\"geo\":{\"bgcolor\":\"white\",\"landcolor\":\"#E5ECF6\",\"subunitcolor\":\"white\",\"showland\":true,\"showlakes\":true,\"lakecolor\":\"white\"},\"title\":{\"x\":0.05},\"mapbox\":{\"style\":\"light\"}}},\"xaxis\":{\"anchor\":\"y\",\"domain\":[0.0,1.0],\"title\":{\"text\":\"Week\"}},\"yaxis\":{\"anchor\":\"x\",\"domain\":[0.0,1.0],\"title\":{\"text\":\"PassingLeaderScore\"}},\"legend\":{\"title\":{\"text\":\"PassingLeader\"},\"tracegroupgap\":0},\"title\":{\"text\":\"PassingLeaderScore Over Weeks for CLEM and GT\"}},                        {\"responsive\": true}                    ).then(function(){\n",
       "                            \n",
       "var gd = document.getElementById('97295656-eb48-42fa-88cc-bf199d440410');\n",
       "var x = new MutationObserver(function (mutations, observer) {{\n",
       "        var display = window.getComputedStyle(gd).display;\n",
       "        if (!display || display === 'none') {{\n",
       "            console.log([gd, 'removed!']);\n",
       "            Plotly.purge(gd);\n",
       "            observer.disconnect();\n",
       "        }}\n",
       "}});\n",
       "\n",
       "// Listen for the removal of the full notebook cells\n",
       "var notebookContainer = gd.closest('#notebook-container');\n",
       "if (notebookContainer) {{\n",
       "    x.observe(notebookContainer, {childList: true});\n",
       "}}\n",
       "\n",
       "// Listen for the clearing of the current output cell\n",
       "var outputEl = gd.closest('.output');\n",
       "if (outputEl) {{\n",
       "    x.observe(outputEl, {childList: true});\n",
       "}}\n",
       "\n",
       "                        })                };                });            </script>        </div>"
      ]
     },
     "metadata": {},
     "output_type": "display_data"
    },
    {
     "name": "stdout",
     "output_type": "stream",
     "text": [
      "CLEM GT SCST CHSO UVA FAU\n"
     ]
    },
    {
     "data": {
      "application/vnd.plotly.v1+json": {
       "config": {
        "plotlyServerURL": "https://plot.ly"
       },
       "data": [
        {
         "alignmentgroup": "True",
         "hovertemplate": "School=%{x}<br>Total Interceptions=%{marker.color}<extra></extra>",
         "legendgroup": "",
         "marker": {
          "color": [
           16,
           15,
           14,
           14,
           13,
           13,
           12,
           12,
           12,
           12,
           12,
           12,
           12,
           11,
           11,
           11,
           11,
           11,
           11,
           11,
           11,
           10,
           10,
           10,
           10,
           10,
           10,
           10,
           10,
           10,
           10,
           10,
           10,
           10,
           10,
           9,
           9,
           9,
           9,
           9,
           9,
           9,
           9,
           9,
           9,
           9,
           9,
           9,
           8,
           8,
           8,
           8,
           8,
           8,
           8,
           8,
           8,
           8,
           8,
           8,
           8,
           8,
           8,
           8,
           8,
           8,
           8,
           8,
           7,
           7,
           7,
           7,
           7,
           7,
           7,
           7,
           7,
           7,
           7,
           7,
           7,
           7,
           7,
           7,
           7,
           6,
           6,
           6,
           6,
           6,
           6,
           6,
           6,
           6,
           6,
           6,
           6,
           6,
           6,
           6,
           6,
           6,
           6,
           6,
           6,
           6,
           6,
           5,
           5,
           5,
           5,
           5,
           5,
           5,
           5,
           5,
           4,
           4,
           4,
           4,
           4,
           4,
           4,
           4,
           4,
           3,
           3,
           3,
           3,
           3,
           2,
           2,
           1
          ],
          "coloraxis": "coloraxis",
          "pattern": {
           "shape": ""
          }
         },
         "name": "",
         "offsetgroup": "",
         "orientation": "v",
         "showlegend": false,
         "textposition": "auto",
         "type": "bar",
         "x": [
          "LIB",
          "OU",
          "FRES",
          "ND",
          "NCSU",
          "ISU",
          "BYU",
          "UNC",
          "UNLV",
          "MICH",
          "BGSU",
          "JVST",
          "CCU",
          "UGA",
          "GASO",
          "ULM",
          "MINN",
          "JMU",
          "BUFF",
          "VAN",
          "AUB",
          "TULN",
          "OHIO",
          "UCLA",
          "APP",
          "GT",
          "PSU",
          "LOU",
          "WKU",
          "WIS",
          "TOL",
          "COLO",
          "MISS",
          "TEX",
          "MRSH",
          "LSU",
          "SDSU",
          "MD",
          "MIA",
          "NIU",
          "MSU",
          "KU",
          "KSU",
          "TENN",
          "OKST",
          "WVU",
          "WASH",
          "USU",
          "CLEM",
          "UTAH",
          "ALA",
          "ORST",
          "ARK",
          "SC",
          "SJSU",
          "SMU",
          "BC",
          "CAL",
          "IOWA",
          "HOU",
          "USM",
          "UNT",
          "FAU",
          "TROY",
          "UL",
          "UK",
          "GAST",
          "ORE",
          "UTSA",
          "USC",
          "TLSA",
          "WAKE",
          "TTU",
          "WMU",
          "PITT",
          "UAB",
          "WYO",
          "NEB",
          "IU",
          "MASS",
          "CSU",
          "BAY",
          "MIZ",
          "DUKE",
          "NU",
          "OSU",
          "UCF",
          "MSST",
          "USA",
          "FSU",
          "USF",
          "CLT",
          "MEM",
          "ODU",
          "TCU",
          "UVA",
          "SYR",
          "BOIS",
          "MTSU",
          "NAVY",
          "AKR",
          "RUTG",
          "ARMY",
          "PUR",
          "NEV",
          "WSU",
          "FIU",
          "UTEP",
          "EMU",
          "CONN",
          "AFA",
          "STAN",
          "TXST",
          "KENT",
          "LT",
          "M-OH",
          "ECU",
          "RICE",
          "ARST",
          "SHSU",
          "VT",
          "TA&M",
          "CIN",
          "CMU",
          "ILL",
          "UNM",
          "BALL",
          "HAW",
          "FLA",
          "NMSU",
          "ASU",
          "ARIZ",
          "TEM"
         ],
         "xaxis": "x",
         "y": [
          16,
          15,
          14,
          14,
          13,
          13,
          12,
          12,
          12,
          12,
          12,
          12,
          12,
          11,
          11,
          11,
          11,
          11,
          11,
          11,
          11,
          10,
          10,
          10,
          10,
          10,
          10,
          10,
          10,
          10,
          10,
          10,
          10,
          10,
          10,
          9,
          9,
          9,
          9,
          9,
          9,
          9,
          9,
          9,
          9,
          9,
          9,
          9,
          8,
          8,
          8,
          8,
          8,
          8,
          8,
          8,
          8,
          8,
          8,
          8,
          8,
          8,
          8,
          8,
          8,
          8,
          8,
          8,
          7,
          7,
          7,
          7,
          7,
          7,
          7,
          7,
          7,
          7,
          7,
          7,
          7,
          7,
          7,
          7,
          7,
          6,
          6,
          6,
          6,
          6,
          6,
          6,
          6,
          6,
          6,
          6,
          6,
          6,
          6,
          6,
          6,
          6,
          6,
          6,
          6,
          6,
          6,
          5,
          5,
          5,
          5,
          5,
          5,
          5,
          5,
          5,
          4,
          4,
          4,
          4,
          4,
          4,
          4,
          4,
          4,
          3,
          3,
          3,
          3,
          3,
          2,
          2,
          1
         ],
         "yaxis": "y"
        }
       ],
       "layout": {
        "annotations": [
         {
          "font": {
           "size": 10
          },
          "showarrow": false,
          "text": "CLEM",
          "x": "CLEM",
          "xref": "x",
          "y": 1.05,
          "yref": "paper"
         },
         {
          "font": {
           "size": 10
          },
          "showarrow": false,
          "text": "GT",
          "x": "GT",
          "xref": "x",
          "y": 1.05,
          "yref": "paper"
         },
         {
          "font": {
           "size": 10
          },
          "showarrow": false,
          "text": "SCST",
          "x": "SCST",
          "xref": "x",
          "y": 1.05,
          "yref": "paper"
         },
         {
          "font": {
           "size": 10
          },
          "showarrow": false,
          "text": "CHSO",
          "x": "CHSO",
          "xref": "x",
          "y": 1.05,
          "yref": "paper"
         },
         {
          "font": {
           "size": 10
          },
          "showarrow": false,
          "text": "UVA",
          "x": "UVA",
          "xref": "x",
          "y": 1.05,
          "yref": "paper"
         },
         {
          "font": {
           "size": 10
          },
          "showarrow": false,
          "text": "FAU",
          "x": "FAU",
          "xref": "x",
          "y": 1.05,
          "yref": "paper"
         }
        ],
        "barmode": "relative",
        "coloraxis": {
         "cmax": 16,
         "cmin": 1,
         "colorbar": {
          "tickmode": "array",
          "ticks": "outside",
          "ticktext": [
           "Low",
           "High"
          ],
          "tickvals": [
           1,
           16
          ],
          "title": {
           "text": "Total Interceptions"
          }
         },
         "colorscale": [
          [
           0,
           "rgb(255,245,240)"
          ],
          [
           0.125,
           "rgb(254,224,210)"
          ],
          [
           0.25,
           "rgb(252,187,161)"
          ],
          [
           0.375,
           "rgb(252,146,114)"
          ],
          [
           0.5,
           "rgb(251,106,74)"
          ],
          [
           0.625,
           "rgb(239,59,44)"
          ],
          [
           0.75,
           "rgb(203,24,29)"
          ],
          [
           0.875,
           "rgb(165,15,21)"
          ],
          [
           1,
           "rgb(103,0,13)"
          ]
         ]
        },
        "legend": {
         "tracegroupgap": 0
        },
        "shapes": [
         {
          "line": {
           "color": "black",
           "dash": "dash"
          },
          "type": "line",
          "x0": "CLEM",
          "x1": "CLEM",
          "xref": "x",
          "y0": 0,
          "y1": 1,
          "yref": "paper"
         },
         {
          "line": {
           "color": "black",
           "dash": "dash"
          },
          "type": "line",
          "x0": "GT",
          "x1": "GT",
          "xref": "x",
          "y0": 0,
          "y1": 1,
          "yref": "paper"
         },
         {
          "line": {
           "color": "red",
           "dash": "dash"
          },
          "type": "line",
          "x0": "SCST",
          "x1": "SCST",
          "xref": "x",
          "y0": 0,
          "y1": 1,
          "yref": "paper"
         },
         {
          "line": {
           "color": "red",
           "dash": "dash"
          },
          "type": "line",
          "x0": "CHSO",
          "x1": "CHSO",
          "xref": "x",
          "y0": 0,
          "y1": 1,
          "yref": "paper"
         },
         {
          "line": {
           "color": "black",
           "dash": "dash"
          },
          "type": "line",
          "x0": "UVA",
          "x1": "UVA",
          "xref": "x",
          "y0": 0,
          "y1": 1,
          "yref": "paper"
         },
         {
          "line": {
           "color": "black",
           "dash": "dash"
          },
          "type": "line",
          "x0": "FAU",
          "x1": "FAU",
          "xref": "x",
          "y0": 0,
          "y1": 1,
          "yref": "paper"
         }
        ],
        "template": {
         "data": {
          "bar": [
           {
            "error_x": {
             "color": "#2a3f5f"
            },
            "error_y": {
             "color": "#2a3f5f"
            },
            "marker": {
             "line": {
              "color": "#E5ECF6",
              "width": 0.5
             },
             "pattern": {
              "fillmode": "overlay",
              "size": 10,
              "solidity": 0.2
             }
            },
            "type": "bar"
           }
          ],
          "barpolar": [
           {
            "marker": {
             "line": {
              "color": "#E5ECF6",
              "width": 0.5
             },
             "pattern": {
              "fillmode": "overlay",
              "size": 10,
              "solidity": 0.2
             }
            },
            "type": "barpolar"
           }
          ],
          "carpet": [
           {
            "aaxis": {
             "endlinecolor": "#2a3f5f",
             "gridcolor": "white",
             "linecolor": "white",
             "minorgridcolor": "white",
             "startlinecolor": "#2a3f5f"
            },
            "baxis": {
             "endlinecolor": "#2a3f5f",
             "gridcolor": "white",
             "linecolor": "white",
             "minorgridcolor": "white",
             "startlinecolor": "#2a3f5f"
            },
            "type": "carpet"
           }
          ],
          "choropleth": [
           {
            "colorbar": {
             "outlinewidth": 0,
             "ticks": ""
            },
            "type": "choropleth"
           }
          ],
          "contour": [
           {
            "colorbar": {
             "outlinewidth": 0,
             "ticks": ""
            },
            "colorscale": [
             [
              0,
              "#0d0887"
             ],
             [
              0.1111111111111111,
              "#46039f"
             ],
             [
              0.2222222222222222,
              "#7201a8"
             ],
             [
              0.3333333333333333,
              "#9c179e"
             ],
             [
              0.4444444444444444,
              "#bd3786"
             ],
             [
              0.5555555555555556,
              "#d8576b"
             ],
             [
              0.6666666666666666,
              "#ed7953"
             ],
             [
              0.7777777777777778,
              "#fb9f3a"
             ],
             [
              0.8888888888888888,
              "#fdca26"
             ],
             [
              1,
              "#f0f921"
             ]
            ],
            "type": "contour"
           }
          ],
          "contourcarpet": [
           {
            "colorbar": {
             "outlinewidth": 0,
             "ticks": ""
            },
            "type": "contourcarpet"
           }
          ],
          "heatmap": [
           {
            "colorbar": {
             "outlinewidth": 0,
             "ticks": ""
            },
            "colorscale": [
             [
              0,
              "#0d0887"
             ],
             [
              0.1111111111111111,
              "#46039f"
             ],
             [
              0.2222222222222222,
              "#7201a8"
             ],
             [
              0.3333333333333333,
              "#9c179e"
             ],
             [
              0.4444444444444444,
              "#bd3786"
             ],
             [
              0.5555555555555556,
              "#d8576b"
             ],
             [
              0.6666666666666666,
              "#ed7953"
             ],
             [
              0.7777777777777778,
              "#fb9f3a"
             ],
             [
              0.8888888888888888,
              "#fdca26"
             ],
             [
              1,
              "#f0f921"
             ]
            ],
            "type": "heatmap"
           }
          ],
          "heatmapgl": [
           {
            "colorbar": {
             "outlinewidth": 0,
             "ticks": ""
            },
            "colorscale": [
             [
              0,
              "#0d0887"
             ],
             [
              0.1111111111111111,
              "#46039f"
             ],
             [
              0.2222222222222222,
              "#7201a8"
             ],
             [
              0.3333333333333333,
              "#9c179e"
             ],
             [
              0.4444444444444444,
              "#bd3786"
             ],
             [
              0.5555555555555556,
              "#d8576b"
             ],
             [
              0.6666666666666666,
              "#ed7953"
             ],
             [
              0.7777777777777778,
              "#fb9f3a"
             ],
             [
              0.8888888888888888,
              "#fdca26"
             ],
             [
              1,
              "#f0f921"
             ]
            ],
            "type": "heatmapgl"
           }
          ],
          "histogram": [
           {
            "marker": {
             "pattern": {
              "fillmode": "overlay",
              "size": 10,
              "solidity": 0.2
             }
            },
            "type": "histogram"
           }
          ],
          "histogram2d": [
           {
            "colorbar": {
             "outlinewidth": 0,
             "ticks": ""
            },
            "colorscale": [
             [
              0,
              "#0d0887"
             ],
             [
              0.1111111111111111,
              "#46039f"
             ],
             [
              0.2222222222222222,
              "#7201a8"
             ],
             [
              0.3333333333333333,
              "#9c179e"
             ],
             [
              0.4444444444444444,
              "#bd3786"
             ],
             [
              0.5555555555555556,
              "#d8576b"
             ],
             [
              0.6666666666666666,
              "#ed7953"
             ],
             [
              0.7777777777777778,
              "#fb9f3a"
             ],
             [
              0.8888888888888888,
              "#fdca26"
             ],
             [
              1,
              "#f0f921"
             ]
            ],
            "type": "histogram2d"
           }
          ],
          "histogram2dcontour": [
           {
            "colorbar": {
             "outlinewidth": 0,
             "ticks": ""
            },
            "colorscale": [
             [
              0,
              "#0d0887"
             ],
             [
              0.1111111111111111,
              "#46039f"
             ],
             [
              0.2222222222222222,
              "#7201a8"
             ],
             [
              0.3333333333333333,
              "#9c179e"
             ],
             [
              0.4444444444444444,
              "#bd3786"
             ],
             [
              0.5555555555555556,
              "#d8576b"
             ],
             [
              0.6666666666666666,
              "#ed7953"
             ],
             [
              0.7777777777777778,
              "#fb9f3a"
             ],
             [
              0.8888888888888888,
              "#fdca26"
             ],
             [
              1,
              "#f0f921"
             ]
            ],
            "type": "histogram2dcontour"
           }
          ],
          "mesh3d": [
           {
            "colorbar": {
             "outlinewidth": 0,
             "ticks": ""
            },
            "type": "mesh3d"
           }
          ],
          "parcoords": [
           {
            "line": {
             "colorbar": {
              "outlinewidth": 0,
              "ticks": ""
             }
            },
            "type": "parcoords"
           }
          ],
          "pie": [
           {
            "automargin": true,
            "type": "pie"
           }
          ],
          "scatter": [
           {
            "fillpattern": {
             "fillmode": "overlay",
             "size": 10,
             "solidity": 0.2
            },
            "type": "scatter"
           }
          ],
          "scatter3d": [
           {
            "line": {
             "colorbar": {
              "outlinewidth": 0,
              "ticks": ""
             }
            },
            "marker": {
             "colorbar": {
              "outlinewidth": 0,
              "ticks": ""
             }
            },
            "type": "scatter3d"
           }
          ],
          "scattercarpet": [
           {
            "marker": {
             "colorbar": {
              "outlinewidth": 0,
              "ticks": ""
             }
            },
            "type": "scattercarpet"
           }
          ],
          "scattergeo": [
           {
            "marker": {
             "colorbar": {
              "outlinewidth": 0,
              "ticks": ""
             }
            },
            "type": "scattergeo"
           }
          ],
          "scattergl": [
           {
            "marker": {
             "colorbar": {
              "outlinewidth": 0,
              "ticks": ""
             }
            },
            "type": "scattergl"
           }
          ],
          "scattermapbox": [
           {
            "marker": {
             "colorbar": {
              "outlinewidth": 0,
              "ticks": ""
             }
            },
            "type": "scattermapbox"
           }
          ],
          "scatterpolar": [
           {
            "marker": {
             "colorbar": {
              "outlinewidth": 0,
              "ticks": ""
             }
            },
            "type": "scatterpolar"
           }
          ],
          "scatterpolargl": [
           {
            "marker": {
             "colorbar": {
              "outlinewidth": 0,
              "ticks": ""
             }
            },
            "type": "scatterpolargl"
           }
          ],
          "scatterternary": [
           {
            "marker": {
             "colorbar": {
              "outlinewidth": 0,
              "ticks": ""
             }
            },
            "type": "scatterternary"
           }
          ],
          "surface": [
           {
            "colorbar": {
             "outlinewidth": 0,
             "ticks": ""
            },
            "colorscale": [
             [
              0,
              "#0d0887"
             ],
             [
              0.1111111111111111,
              "#46039f"
             ],
             [
              0.2222222222222222,
              "#7201a8"
             ],
             [
              0.3333333333333333,
              "#9c179e"
             ],
             [
              0.4444444444444444,
              "#bd3786"
             ],
             [
              0.5555555555555556,
              "#d8576b"
             ],
             [
              0.6666666666666666,
              "#ed7953"
             ],
             [
              0.7777777777777778,
              "#fb9f3a"
             ],
             [
              0.8888888888888888,
              "#fdca26"
             ],
             [
              1,
              "#f0f921"
             ]
            ],
            "type": "surface"
           }
          ],
          "table": [
           {
            "cells": {
             "fill": {
              "color": "#EBF0F8"
             },
             "line": {
              "color": "white"
             }
            },
            "header": {
             "fill": {
              "color": "#C8D4E3"
             },
             "line": {
              "color": "white"
             }
            },
            "type": "table"
           }
          ]
         },
         "layout": {
          "annotationdefaults": {
           "arrowcolor": "#2a3f5f",
           "arrowhead": 0,
           "arrowwidth": 1
          },
          "autotypenumbers": "strict",
          "coloraxis": {
           "colorbar": {
            "outlinewidth": 0,
            "ticks": ""
           }
          },
          "colorscale": {
           "diverging": [
            [
             0,
             "#8e0152"
            ],
            [
             0.1,
             "#c51b7d"
            ],
            [
             0.2,
             "#de77ae"
            ],
            [
             0.3,
             "#f1b6da"
            ],
            [
             0.4,
             "#fde0ef"
            ],
            [
             0.5,
             "#f7f7f7"
            ],
            [
             0.6,
             "#e6f5d0"
            ],
            [
             0.7,
             "#b8e186"
            ],
            [
             0.8,
             "#7fbc41"
            ],
            [
             0.9,
             "#4d9221"
            ],
            [
             1,
             "#276419"
            ]
           ],
           "sequential": [
            [
             0,
             "#0d0887"
            ],
            [
             0.1111111111111111,
             "#46039f"
            ],
            [
             0.2222222222222222,
             "#7201a8"
            ],
            [
             0.3333333333333333,
             "#9c179e"
            ],
            [
             0.4444444444444444,
             "#bd3786"
            ],
            [
             0.5555555555555556,
             "#d8576b"
            ],
            [
             0.6666666666666666,
             "#ed7953"
            ],
            [
             0.7777777777777778,
             "#fb9f3a"
            ],
            [
             0.8888888888888888,
             "#fdca26"
            ],
            [
             1,
             "#f0f921"
            ]
           ],
           "sequentialminus": [
            [
             0,
             "#0d0887"
            ],
            [
             0.1111111111111111,
             "#46039f"
            ],
            [
             0.2222222222222222,
             "#7201a8"
            ],
            [
             0.3333333333333333,
             "#9c179e"
            ],
            [
             0.4444444444444444,
             "#bd3786"
            ],
            [
             0.5555555555555556,
             "#d8576b"
            ],
            [
             0.6666666666666666,
             "#ed7953"
            ],
            [
             0.7777777777777778,
             "#fb9f3a"
            ],
            [
             0.8888888888888888,
             "#fdca26"
            ],
            [
             1,
             "#f0f921"
            ]
           ]
          },
          "colorway": [
           "#636efa",
           "#EF553B",
           "#00cc96",
           "#ab63fa",
           "#FFA15A",
           "#19d3f3",
           "#FF6692",
           "#B6E880",
           "#FF97FF",
           "#FECB52"
          ],
          "font": {
           "color": "#2a3f5f"
          },
          "geo": {
           "bgcolor": "white",
           "lakecolor": "white",
           "landcolor": "#E5ECF6",
           "showlakes": true,
           "showland": true,
           "subunitcolor": "white"
          },
          "hoverlabel": {
           "align": "left"
          },
          "hovermode": "closest",
          "mapbox": {
           "style": "light"
          },
          "paper_bgcolor": "white",
          "plot_bgcolor": "#E5ECF6",
          "polar": {
           "angularaxis": {
            "gridcolor": "white",
            "linecolor": "white",
            "ticks": ""
           },
           "bgcolor": "#E5ECF6",
           "radialaxis": {
            "gridcolor": "white",
            "linecolor": "white",
            "ticks": ""
           }
          },
          "scene": {
           "xaxis": {
            "backgroundcolor": "#E5ECF6",
            "gridcolor": "white",
            "gridwidth": 2,
            "linecolor": "white",
            "showbackground": true,
            "ticks": "",
            "zerolinecolor": "white"
           },
           "yaxis": {
            "backgroundcolor": "#E5ECF6",
            "gridcolor": "white",
            "gridwidth": 2,
            "linecolor": "white",
            "showbackground": true,
            "ticks": "",
            "zerolinecolor": "white"
           },
           "zaxis": {
            "backgroundcolor": "#E5ECF6",
            "gridcolor": "white",
            "gridwidth": 2,
            "linecolor": "white",
            "showbackground": true,
            "ticks": "",
            "zerolinecolor": "white"
           }
          },
          "shapedefaults": {
           "line": {
            "color": "#2a3f5f"
           }
          },
          "ternary": {
           "aaxis": {
            "gridcolor": "white",
            "linecolor": "white",
            "ticks": ""
           },
           "baxis": {
            "gridcolor": "white",
            "linecolor": "white",
            "ticks": ""
           },
           "bgcolor": "#E5ECF6",
           "caxis": {
            "gridcolor": "white",
            "linecolor": "white",
            "ticks": ""
           }
          },
          "title": {
           "x": 0.05
          },
          "xaxis": {
           "automargin": true,
           "gridcolor": "white",
           "linecolor": "white",
           "ticks": "",
           "title": {
            "standoff": 15
           },
           "zerolinecolor": "white",
           "zerolinewidth": 2
          },
          "yaxis": {
           "automargin": true,
           "gridcolor": "white",
           "linecolor": "white",
           "ticks": "",
           "title": {
            "standoff": 15
           },
           "zerolinecolor": "white",
           "zerolinewidth": 2
          }
         }
        },
        "title": {
         "text": "Total Interceptions by School"
        },
        "xaxis": {
         "anchor": "y",
         "domain": [
          0,
          1
         ],
         "title": {
          "text": "School"
         }
        },
        "yaxis": {
         "anchor": "x",
         "domain": [
          0,
          1
         ],
         "title": {
          "text": "Total Interceptions"
         }
        }
       }
      },
      "text/html": [
       "<div>                            <div id=\"38740dd5-1e17-46cb-a851-156e89d8525f\" class=\"plotly-graph-div\" style=\"height:525px; width:100%;\"></div>            <script type=\"text/javascript\">                require([\"plotly\"], function(Plotly) {                    window.PLOTLYENV=window.PLOTLYENV || {};                                    if (document.getElementById(\"38740dd5-1e17-46cb-a851-156e89d8525f\")) {                    Plotly.newPlot(                        \"38740dd5-1e17-46cb-a851-156e89d8525f\",                        [{\"alignmentgroup\":\"True\",\"hovertemplate\":\"School=%{x}\\u003cbr\\u003eTotal Interceptions=%{marker.color}\\u003cextra\\u003e\\u003c\\u002fextra\\u003e\",\"legendgroup\":\"\",\"marker\":{\"color\":[16,15,14,14,13,13,12,12,12,12,12,12,12,11,11,11,11,11,11,11,11,10,10,10,10,10,10,10,10,10,10,10,10,10,10,9,9,9,9,9,9,9,9,9,9,9,9,9,8,8,8,8,8,8,8,8,8,8,8,8,8,8,8,8,8,8,8,8,7,7,7,7,7,7,7,7,7,7,7,7,7,7,7,7,7,6,6,6,6,6,6,6,6,6,6,6,6,6,6,6,6,6,6,6,6,6,6,5,5,5,5,5,5,5,5,5,4,4,4,4,4,4,4,4,4,3,3,3,3,3,2,2,1],\"coloraxis\":\"coloraxis\",\"pattern\":{\"shape\":\"\"}},\"name\":\"\",\"offsetgroup\":\"\",\"orientation\":\"v\",\"showlegend\":false,\"textposition\":\"auto\",\"x\":[\"LIB\",\"OU\",\"FRES\",\"ND\",\"NCSU\",\"ISU\",\"BYU\",\"UNC\",\"UNLV\",\"MICH\",\"BGSU\",\"JVST\",\"CCU\",\"UGA\",\"GASO\",\"ULM\",\"MINN\",\"JMU\",\"BUFF\",\"VAN\",\"AUB\",\"TULN\",\"OHIO\",\"UCLA\",\"APP\",\"GT\",\"PSU\",\"LOU\",\"WKU\",\"WIS\",\"TOL\",\"COLO\",\"MISS\",\"TEX\",\"MRSH\",\"LSU\",\"SDSU\",\"MD\",\"MIA\",\"NIU\",\"MSU\",\"KU\",\"KSU\",\"TENN\",\"OKST\",\"WVU\",\"WASH\",\"USU\",\"CLEM\",\"UTAH\",\"ALA\",\"ORST\",\"ARK\",\"SC\",\"SJSU\",\"SMU\",\"BC\",\"CAL\",\"IOWA\",\"HOU\",\"USM\",\"UNT\",\"FAU\",\"TROY\",\"UL\",\"UK\",\"GAST\",\"ORE\",\"UTSA\",\"USC\",\"TLSA\",\"WAKE\",\"TTU\",\"WMU\",\"PITT\",\"UAB\",\"WYO\",\"NEB\",\"IU\",\"MASS\",\"CSU\",\"BAY\",\"MIZ\",\"DUKE\",\"NU\",\"OSU\",\"UCF\",\"MSST\",\"USA\",\"FSU\",\"USF\",\"CLT\",\"MEM\",\"ODU\",\"TCU\",\"UVA\",\"SYR\",\"BOIS\",\"MTSU\",\"NAVY\",\"AKR\",\"RUTG\",\"ARMY\",\"PUR\",\"NEV\",\"WSU\",\"FIU\",\"UTEP\",\"EMU\",\"CONN\",\"AFA\",\"STAN\",\"TXST\",\"KENT\",\"LT\",\"M-OH\",\"ECU\",\"RICE\",\"ARST\",\"SHSU\",\"VT\",\"TA&M\",\"CIN\",\"CMU\",\"ILL\",\"UNM\",\"BALL\",\"HAW\",\"FLA\",\"NMSU\",\"ASU\",\"ARIZ\",\"TEM\"],\"xaxis\":\"x\",\"y\":[16,15,14,14,13,13,12,12,12,12,12,12,12,11,11,11,11,11,11,11,11,10,10,10,10,10,10,10,10,10,10,10,10,10,10,9,9,9,9,9,9,9,9,9,9,9,9,9,8,8,8,8,8,8,8,8,8,8,8,8,8,8,8,8,8,8,8,8,7,7,7,7,7,7,7,7,7,7,7,7,7,7,7,7,7,6,6,6,6,6,6,6,6,6,6,6,6,6,6,6,6,6,6,6,6,6,6,5,5,5,5,5,5,5,5,5,4,4,4,4,4,4,4,4,4,3,3,3,3,3,2,2,1],\"yaxis\":\"y\",\"type\":\"bar\"}],                        {\"template\":{\"data\":{\"histogram2dcontour\":[{\"type\":\"histogram2dcontour\",\"colorbar\":{\"outlinewidth\":0,\"ticks\":\"\"},\"colorscale\":[[0.0,\"#0d0887\"],[0.1111111111111111,\"#46039f\"],[0.2222222222222222,\"#7201a8\"],[0.3333333333333333,\"#9c179e\"],[0.4444444444444444,\"#bd3786\"],[0.5555555555555556,\"#d8576b\"],[0.6666666666666666,\"#ed7953\"],[0.7777777777777778,\"#fb9f3a\"],[0.8888888888888888,\"#fdca26\"],[1.0,\"#f0f921\"]]}],\"choropleth\":[{\"type\":\"choropleth\",\"colorbar\":{\"outlinewidth\":0,\"ticks\":\"\"}}],\"histogram2d\":[{\"type\":\"histogram2d\",\"colorbar\":{\"outlinewidth\":0,\"ticks\":\"\"},\"colorscale\":[[0.0,\"#0d0887\"],[0.1111111111111111,\"#46039f\"],[0.2222222222222222,\"#7201a8\"],[0.3333333333333333,\"#9c179e\"],[0.4444444444444444,\"#bd3786\"],[0.5555555555555556,\"#d8576b\"],[0.6666666666666666,\"#ed7953\"],[0.7777777777777778,\"#fb9f3a\"],[0.8888888888888888,\"#fdca26\"],[1.0,\"#f0f921\"]]}],\"heatmap\":[{\"type\":\"heatmap\",\"colorbar\":{\"outlinewidth\":0,\"ticks\":\"\"},\"colorscale\":[[0.0,\"#0d0887\"],[0.1111111111111111,\"#46039f\"],[0.2222222222222222,\"#7201a8\"],[0.3333333333333333,\"#9c179e\"],[0.4444444444444444,\"#bd3786\"],[0.5555555555555556,\"#d8576b\"],[0.6666666666666666,\"#ed7953\"],[0.7777777777777778,\"#fb9f3a\"],[0.8888888888888888,\"#fdca26\"],[1.0,\"#f0f921\"]]}],\"heatmapgl\":[{\"type\":\"heatmapgl\",\"colorbar\":{\"outlinewidth\":0,\"ticks\":\"\"},\"colorscale\":[[0.0,\"#0d0887\"],[0.1111111111111111,\"#46039f\"],[0.2222222222222222,\"#7201a8\"],[0.3333333333333333,\"#9c179e\"],[0.4444444444444444,\"#bd3786\"],[0.5555555555555556,\"#d8576b\"],[0.6666666666666666,\"#ed7953\"],[0.7777777777777778,\"#fb9f3a\"],[0.8888888888888888,\"#fdca26\"],[1.0,\"#f0f921\"]]}],\"contourcarpet\":[{\"type\":\"contourcarpet\",\"colorbar\":{\"outlinewidth\":0,\"ticks\":\"\"}}],\"contour\":[{\"type\":\"contour\",\"colorbar\":{\"outlinewidth\":0,\"ticks\":\"\"},\"colorscale\":[[0.0,\"#0d0887\"],[0.1111111111111111,\"#46039f\"],[0.2222222222222222,\"#7201a8\"],[0.3333333333333333,\"#9c179e\"],[0.4444444444444444,\"#bd3786\"],[0.5555555555555556,\"#d8576b\"],[0.6666666666666666,\"#ed7953\"],[0.7777777777777778,\"#fb9f3a\"],[0.8888888888888888,\"#fdca26\"],[1.0,\"#f0f921\"]]}],\"surface\":[{\"type\":\"surface\",\"colorbar\":{\"outlinewidth\":0,\"ticks\":\"\"},\"colorscale\":[[0.0,\"#0d0887\"],[0.1111111111111111,\"#46039f\"],[0.2222222222222222,\"#7201a8\"],[0.3333333333333333,\"#9c179e\"],[0.4444444444444444,\"#bd3786\"],[0.5555555555555556,\"#d8576b\"],[0.6666666666666666,\"#ed7953\"],[0.7777777777777778,\"#fb9f3a\"],[0.8888888888888888,\"#fdca26\"],[1.0,\"#f0f921\"]]}],\"mesh3d\":[{\"type\":\"mesh3d\",\"colorbar\":{\"outlinewidth\":0,\"ticks\":\"\"}}],\"scatter\":[{\"fillpattern\":{\"fillmode\":\"overlay\",\"size\":10,\"solidity\":0.2},\"type\":\"scatter\"}],\"parcoords\":[{\"type\":\"parcoords\",\"line\":{\"colorbar\":{\"outlinewidth\":0,\"ticks\":\"\"}}}],\"scatterpolargl\":[{\"type\":\"scatterpolargl\",\"marker\":{\"colorbar\":{\"outlinewidth\":0,\"ticks\":\"\"}}}],\"bar\":[{\"error_x\":{\"color\":\"#2a3f5f\"},\"error_y\":{\"color\":\"#2a3f5f\"},\"marker\":{\"line\":{\"color\":\"#E5ECF6\",\"width\":0.5},\"pattern\":{\"fillmode\":\"overlay\",\"size\":10,\"solidity\":0.2}},\"type\":\"bar\"}],\"scattergeo\":[{\"type\":\"scattergeo\",\"marker\":{\"colorbar\":{\"outlinewidth\":0,\"ticks\":\"\"}}}],\"scatterpolar\":[{\"type\":\"scatterpolar\",\"marker\":{\"colorbar\":{\"outlinewidth\":0,\"ticks\":\"\"}}}],\"histogram\":[{\"marker\":{\"pattern\":{\"fillmode\":\"overlay\",\"size\":10,\"solidity\":0.2}},\"type\":\"histogram\"}],\"scattergl\":[{\"type\":\"scattergl\",\"marker\":{\"colorbar\":{\"outlinewidth\":0,\"ticks\":\"\"}}}],\"scatter3d\":[{\"type\":\"scatter3d\",\"line\":{\"colorbar\":{\"outlinewidth\":0,\"ticks\":\"\"}},\"marker\":{\"colorbar\":{\"outlinewidth\":0,\"ticks\":\"\"}}}],\"scattermapbox\":[{\"type\":\"scattermapbox\",\"marker\":{\"colorbar\":{\"outlinewidth\":0,\"ticks\":\"\"}}}],\"scatterternary\":[{\"type\":\"scatterternary\",\"marker\":{\"colorbar\":{\"outlinewidth\":0,\"ticks\":\"\"}}}],\"scattercarpet\":[{\"type\":\"scattercarpet\",\"marker\":{\"colorbar\":{\"outlinewidth\":0,\"ticks\":\"\"}}}],\"carpet\":[{\"aaxis\":{\"endlinecolor\":\"#2a3f5f\",\"gridcolor\":\"white\",\"linecolor\":\"white\",\"minorgridcolor\":\"white\",\"startlinecolor\":\"#2a3f5f\"},\"baxis\":{\"endlinecolor\":\"#2a3f5f\",\"gridcolor\":\"white\",\"linecolor\":\"white\",\"minorgridcolor\":\"white\",\"startlinecolor\":\"#2a3f5f\"},\"type\":\"carpet\"}],\"table\":[{\"cells\":{\"fill\":{\"color\":\"#EBF0F8\"},\"line\":{\"color\":\"white\"}},\"header\":{\"fill\":{\"color\":\"#C8D4E3\"},\"line\":{\"color\":\"white\"}},\"type\":\"table\"}],\"barpolar\":[{\"marker\":{\"line\":{\"color\":\"#E5ECF6\",\"width\":0.5},\"pattern\":{\"fillmode\":\"overlay\",\"size\":10,\"solidity\":0.2}},\"type\":\"barpolar\"}],\"pie\":[{\"automargin\":true,\"type\":\"pie\"}]},\"layout\":{\"autotypenumbers\":\"strict\",\"colorway\":[\"#636efa\",\"#EF553B\",\"#00cc96\",\"#ab63fa\",\"#FFA15A\",\"#19d3f3\",\"#FF6692\",\"#B6E880\",\"#FF97FF\",\"#FECB52\"],\"font\":{\"color\":\"#2a3f5f\"},\"hovermode\":\"closest\",\"hoverlabel\":{\"align\":\"left\"},\"paper_bgcolor\":\"white\",\"plot_bgcolor\":\"#E5ECF6\",\"polar\":{\"bgcolor\":\"#E5ECF6\",\"angularaxis\":{\"gridcolor\":\"white\",\"linecolor\":\"white\",\"ticks\":\"\"},\"radialaxis\":{\"gridcolor\":\"white\",\"linecolor\":\"white\",\"ticks\":\"\"}},\"ternary\":{\"bgcolor\":\"#E5ECF6\",\"aaxis\":{\"gridcolor\":\"white\",\"linecolor\":\"white\",\"ticks\":\"\"},\"baxis\":{\"gridcolor\":\"white\",\"linecolor\":\"white\",\"ticks\":\"\"},\"caxis\":{\"gridcolor\":\"white\",\"linecolor\":\"white\",\"ticks\":\"\"}},\"coloraxis\":{\"colorbar\":{\"outlinewidth\":0,\"ticks\":\"\"}},\"colorscale\":{\"sequential\":[[0.0,\"#0d0887\"],[0.1111111111111111,\"#46039f\"],[0.2222222222222222,\"#7201a8\"],[0.3333333333333333,\"#9c179e\"],[0.4444444444444444,\"#bd3786\"],[0.5555555555555556,\"#d8576b\"],[0.6666666666666666,\"#ed7953\"],[0.7777777777777778,\"#fb9f3a\"],[0.8888888888888888,\"#fdca26\"],[1.0,\"#f0f921\"]],\"sequentialminus\":[[0.0,\"#0d0887\"],[0.1111111111111111,\"#46039f\"],[0.2222222222222222,\"#7201a8\"],[0.3333333333333333,\"#9c179e\"],[0.4444444444444444,\"#bd3786\"],[0.5555555555555556,\"#d8576b\"],[0.6666666666666666,\"#ed7953\"],[0.7777777777777778,\"#fb9f3a\"],[0.8888888888888888,\"#fdca26\"],[1.0,\"#f0f921\"]],\"diverging\":[[0,\"#8e0152\"],[0.1,\"#c51b7d\"],[0.2,\"#de77ae\"],[0.3,\"#f1b6da\"],[0.4,\"#fde0ef\"],[0.5,\"#f7f7f7\"],[0.6,\"#e6f5d0\"],[0.7,\"#b8e186\"],[0.8,\"#7fbc41\"],[0.9,\"#4d9221\"],[1,\"#276419\"]]},\"xaxis\":{\"gridcolor\":\"white\",\"linecolor\":\"white\",\"ticks\":\"\",\"title\":{\"standoff\":15},\"zerolinecolor\":\"white\",\"automargin\":true,\"zerolinewidth\":2},\"yaxis\":{\"gridcolor\":\"white\",\"linecolor\":\"white\",\"ticks\":\"\",\"title\":{\"standoff\":15},\"zerolinecolor\":\"white\",\"automargin\":true,\"zerolinewidth\":2},\"scene\":{\"xaxis\":{\"backgroundcolor\":\"#E5ECF6\",\"gridcolor\":\"white\",\"linecolor\":\"white\",\"showbackground\":true,\"ticks\":\"\",\"zerolinecolor\":\"white\",\"gridwidth\":2},\"yaxis\":{\"backgroundcolor\":\"#E5ECF6\",\"gridcolor\":\"white\",\"linecolor\":\"white\",\"showbackground\":true,\"ticks\":\"\",\"zerolinecolor\":\"white\",\"gridwidth\":2},\"zaxis\":{\"backgroundcolor\":\"#E5ECF6\",\"gridcolor\":\"white\",\"linecolor\":\"white\",\"showbackground\":true,\"ticks\":\"\",\"zerolinecolor\":\"white\",\"gridwidth\":2}},\"shapedefaults\":{\"line\":{\"color\":\"#2a3f5f\"}},\"annotationdefaults\":{\"arrowcolor\":\"#2a3f5f\",\"arrowhead\":0,\"arrowwidth\":1},\"geo\":{\"bgcolor\":\"white\",\"landcolor\":\"#E5ECF6\",\"subunitcolor\":\"white\",\"showland\":true,\"showlakes\":true,\"lakecolor\":\"white\"},\"title\":{\"x\":0.05},\"mapbox\":{\"style\":\"light\"}}},\"xaxis\":{\"anchor\":\"y\",\"domain\":[0.0,1.0],\"title\":{\"text\":\"School\"}},\"yaxis\":{\"anchor\":\"x\",\"domain\":[0.0,1.0],\"title\":{\"text\":\"Total Interceptions\"}},\"coloraxis\":{\"colorbar\":{\"title\":{\"text\":\"Total Interceptions\"},\"ticks\":\"outside\",\"tickmode\":\"array\",\"tickvals\":[1,16],\"ticktext\":[\"Low\",\"High\"]},\"colorscale\":[[0.0,\"rgb(255,245,240)\"],[0.125,\"rgb(254,224,210)\"],[0.25,\"rgb(252,187,161)\"],[0.375,\"rgb(252,146,114)\"],[0.5,\"rgb(251,106,74)\"],[0.625,\"rgb(239,59,44)\"],[0.75,\"rgb(203,24,29)\"],[0.875,\"rgb(165,15,21)\"],[1.0,\"rgb(103,0,13)\"]],\"cmin\":1,\"cmax\":16},\"legend\":{\"tracegroupgap\":0},\"title\":{\"text\":\"Total Interceptions by School\"},\"barmode\":\"relative\",\"shapes\":[{\"line\":{\"color\":\"black\",\"dash\":\"dash\"},\"type\":\"line\",\"x0\":\"CLEM\",\"x1\":\"CLEM\",\"xref\":\"x\",\"y0\":0,\"y1\":1,\"yref\":\"paper\"},{\"line\":{\"color\":\"black\",\"dash\":\"dash\"},\"type\":\"line\",\"x0\":\"GT\",\"x1\":\"GT\",\"xref\":\"x\",\"y0\":0,\"y1\":1,\"yref\":\"paper\"},{\"line\":{\"color\":\"red\",\"dash\":\"dash\"},\"type\":\"line\",\"x0\":\"SCST\",\"x1\":\"SCST\",\"xref\":\"x\",\"y0\":0,\"y1\":1,\"yref\":\"paper\"},{\"line\":{\"color\":\"red\",\"dash\":\"dash\"},\"type\":\"line\",\"x0\":\"CHSO\",\"x1\":\"CHSO\",\"xref\":\"x\",\"y0\":0,\"y1\":1,\"yref\":\"paper\"},{\"line\":{\"color\":\"black\",\"dash\":\"dash\"},\"type\":\"line\",\"x0\":\"UVA\",\"x1\":\"UVA\",\"xref\":\"x\",\"y0\":0,\"y1\":1,\"yref\":\"paper\"},{\"line\":{\"color\":\"black\",\"dash\":\"dash\"},\"type\":\"line\",\"x0\":\"FAU\",\"x1\":\"FAU\",\"xref\":\"x\",\"y0\":0,\"y1\":1,\"yref\":\"paper\"}],\"annotations\":[{\"font\":{\"size\":10},\"showarrow\":false,\"text\":\"CLEM\",\"x\":\"CLEM\",\"xref\":\"x\",\"y\":1.05,\"yref\":\"paper\"},{\"font\":{\"size\":10},\"showarrow\":false,\"text\":\"GT\",\"x\":\"GT\",\"xref\":\"x\",\"y\":1.05,\"yref\":\"paper\"},{\"font\":{\"size\":10},\"showarrow\":false,\"text\":\"SCST\",\"x\":\"SCST\",\"xref\":\"x\",\"y\":1.05,\"yref\":\"paper\"},{\"font\":{\"size\":10},\"showarrow\":false,\"text\":\"CHSO\",\"x\":\"CHSO\",\"xref\":\"x\",\"y\":1.05,\"yref\":\"paper\"},{\"font\":{\"size\":10},\"showarrow\":false,\"text\":\"UVA\",\"x\":\"UVA\",\"xref\":\"x\",\"y\":1.05,\"yref\":\"paper\"},{\"font\":{\"size\":10},\"showarrow\":false,\"text\":\"FAU\",\"x\":\"FAU\",\"xref\":\"x\",\"y\":1.05,\"yref\":\"paper\"}]},                        {\"responsive\": true}                    ).then(function(){\n",
       "                            \n",
       "var gd = document.getElementById('38740dd5-1e17-46cb-a851-156e89d8525f');\n",
       "var x = new MutationObserver(function (mutations, observer) {{\n",
       "        var display = window.getComputedStyle(gd).display;\n",
       "        if (!display || display === 'none') {{\n",
       "            console.log([gd, 'removed!']);\n",
       "            Plotly.purge(gd);\n",
       "            observer.disconnect();\n",
       "        }}\n",
       "}});\n",
       "\n",
       "// Listen for the removal of the full notebook cells\n",
       "var notebookContainer = gd.closest('#notebook-container');\n",
       "if (notebookContainer) {{\n",
       "    x.observe(notebookContainer, {childList: true});\n",
       "}}\n",
       "\n",
       "// Listen for the clearing of the current output cell\n",
       "var outputEl = gd.closest('.output');\n",
       "if (outputEl) {{\n",
       "    x.observe(outputEl, {childList: true});\n",
       "}}\n",
       "\n",
       "                        })                };                });            </script>        </div>"
      ]
     },
     "metadata": {},
     "output_type": "display_data"
    },
    {
     "data": {
      "application/vnd.plotly.v1+json": {
       "config": {
        "plotlyServerURL": "https://plot.ly"
       },
       "data": [
        {
         "alignmentgroup": "True",
         "bingroup": "x",
         "hovertemplate": "Total Tackles=%{x}<br>count=%{y}<extra></extra>",
         "hovertext": [
          "ODU",
          "CSU",
          "JVST",
          "ULM",
          "VAN",
          "EMU",
          "FAU",
          "MSST",
          "LT",
          "USU",
          "IOWA",
          "DUKE",
          "SYR",
          "MISS",
          "USC",
          "ARST",
          "UL",
          "TXST",
          "MRSH",
          "OU",
          "NMSU",
          "TLSA",
          "WKU",
          "GT",
          "PITT",
          "MTSU",
          "TEM",
          "LSU",
          "BYU",
          "ALA",
          "MASS",
          "MSU",
          "WSU",
          "FIU",
          "CAL",
          "JMU",
          "UAB",
          "ND",
          "TOL",
          "CONN",
          "UTEP",
          "UNLV",
          "UNT",
          "UTSA",
          "M-OH",
          "ILL",
          "AKR",
          "TTU",
          "SC",
          "WYO",
          "UVA",
          "NCSU",
          "HAW",
          "COLO",
          "UNC",
          "NU",
          "ORST",
          "UCF",
          "RICE",
          "WASH",
          "GAST",
          "WIS",
          "USF",
          "ASU",
          "FRES",
          "FSU",
          "OKST",
          "NIU",
          "ORE",
          "TENN",
          "UK",
          "CCU",
          "ISU",
          "TCU",
          "BGSU",
          "HOU",
          "USM",
          "WMU",
          "ARMY",
          "WAKE",
          "USA",
          "NEB",
          "BALL",
          "MD",
          "APP",
          "ARK",
          "CLT",
          "UCLA",
          "SHSU",
          "OHIO",
          "TEX",
          "CMU",
          "GASO",
          "MIZ",
          "AUB",
          "VT",
          "WVU",
          "SMU",
          "RUTG",
          "OSU",
          "ECU",
          "ARIZ",
          "KENT",
          "STAN",
          "TROY",
          "TA&M",
          "MEM",
          "CIN",
          "BUFF",
          "IU",
          "KU",
          "UNM",
          "LIB",
          "SJSU",
          "NEV",
          "SDSU",
          "PUR",
          "NAVY",
          "FLA",
          "LOU",
          "KSU",
          "BOIS",
          "UTAH",
          "TULN",
          "AFA",
          "MINN",
          "MIA",
          "BC",
          "CLEM",
          "BAY",
          "MICH",
          "PSU",
          "UGA"
         ],
         "legendgroup": "",
         "marker": {
          "color": "orange",
          "pattern": {
           "shape": ""
          }
         },
         "name": "",
         "nbinsx": 30,
         "offsetgroup": "",
         "orientation": "v",
         "showlegend": false,
         "type": "histogram",
         "x": [
          823,
          781,
          735,
          724,
          717,
          706,
          692,
          684,
          683,
          682,
          677,
          677,
          672,
          672,
          670,
          663,
          657,
          656,
          653,
          645,
          644,
          640,
          635,
          634,
          633,
          631,
          631,
          630,
          630,
          630,
          629,
          626,
          623,
          622,
          622,
          620,
          619,
          619,
          615,
          614,
          613,
          612,
          612,
          609,
          605,
          605,
          605,
          605,
          605,
          605,
          600,
          599,
          596,
          595,
          595,
          595,
          594,
          594,
          593,
          592,
          592,
          588,
          588,
          588,
          587,
          587,
          587,
          587,
          585,
          584,
          583,
          583,
          583,
          583,
          582,
          582,
          580,
          578,
          577,
          577,
          577,
          576,
          574,
          574,
          573,
          573,
          573,
          571,
          570,
          569,
          568,
          568,
          563,
          562,
          561,
          560,
          560,
          559,
          559,
          558,
          558,
          556,
          552,
          552,
          551,
          550,
          550,
          548,
          547,
          547,
          546,
          542,
          538,
          537,
          536,
          532,
          532,
          532,
          529,
          524,
          522,
          521,
          519,
          519,
          515,
          511,
          509,
          505,
          504,
          502,
          500,
          482,
          447
         ],
         "xaxis": "x",
         "yaxis": "y"
        },
        {
         "alignmentgroup": "True",
         "boxpoints": "all",
         "fillcolor": "rgba(255,255,255,0)",
         "hoveron": "points",
         "hovertemplate": "Total Tackles=%{x}<extra></extra>",
         "hovertext": [
          "ODU",
          "CSU",
          "JVST",
          "ULM",
          "VAN",
          "EMU",
          "FAU",
          "MSST",
          "LT",
          "USU",
          "IOWA",
          "DUKE",
          "SYR",
          "MISS",
          "USC",
          "ARST",
          "UL",
          "TXST",
          "MRSH",
          "OU",
          "NMSU",
          "TLSA",
          "WKU",
          "GT",
          "PITT",
          "MTSU",
          "TEM",
          "LSU",
          "BYU",
          "ALA",
          "MASS",
          "MSU",
          "WSU",
          "FIU",
          "CAL",
          "JMU",
          "UAB",
          "ND",
          "TOL",
          "CONN",
          "UTEP",
          "UNLV",
          "UNT",
          "UTSA",
          "M-OH",
          "ILL",
          "AKR",
          "TTU",
          "SC",
          "WYO",
          "UVA",
          "NCSU",
          "HAW",
          "COLO",
          "UNC",
          "NU",
          "ORST",
          "UCF",
          "RICE",
          "WASH",
          "GAST",
          "WIS",
          "USF",
          "ASU",
          "FRES",
          "FSU",
          "OKST",
          "NIU",
          "ORE",
          "TENN",
          "UK",
          "CCU",
          "ISU",
          "TCU",
          "BGSU",
          "HOU",
          "USM",
          "WMU",
          "ARMY",
          "WAKE",
          "USA",
          "NEB",
          "BALL",
          "MD",
          "APP",
          "ARK",
          "CLT",
          "UCLA",
          "SHSU",
          "OHIO",
          "TEX",
          "CMU",
          "GASO",
          "MIZ",
          "AUB",
          "VT",
          "WVU",
          "SMU",
          "RUTG",
          "OSU",
          "ECU",
          "ARIZ",
          "KENT",
          "STAN",
          "TROY",
          "TA&M",
          "MEM",
          "CIN",
          "BUFF",
          "IU",
          "KU",
          "UNM",
          "LIB",
          "SJSU",
          "NEV",
          "SDSU",
          "PUR",
          "NAVY",
          "FLA",
          "LOU",
          "KSU",
          "BOIS",
          "UTAH",
          "TULN",
          "AFA",
          "MINN",
          "MIA",
          "BC",
          "CLEM",
          "BAY",
          "MICH",
          "PSU",
          "UGA"
         ],
         "jitter": 0,
         "legendgroup": "",
         "line": {
          "color": "rgba(255,255,255,0)"
         },
         "marker": {
          "color": "orange",
          "symbol": "line-ns-open"
         },
         "name": "",
         "offsetgroup": "",
         "showlegend": false,
         "type": "box",
         "x": [
          823,
          781,
          735,
          724,
          717,
          706,
          692,
          684,
          683,
          682,
          677,
          677,
          672,
          672,
          670,
          663,
          657,
          656,
          653,
          645,
          644,
          640,
          635,
          634,
          633,
          631,
          631,
          630,
          630,
          630,
          629,
          626,
          623,
          622,
          622,
          620,
          619,
          619,
          615,
          614,
          613,
          612,
          612,
          609,
          605,
          605,
          605,
          605,
          605,
          605,
          600,
          599,
          596,
          595,
          595,
          595,
          594,
          594,
          593,
          592,
          592,
          588,
          588,
          588,
          587,
          587,
          587,
          587,
          585,
          584,
          583,
          583,
          583,
          583,
          582,
          582,
          580,
          578,
          577,
          577,
          577,
          576,
          574,
          574,
          573,
          573,
          573,
          571,
          570,
          569,
          568,
          568,
          563,
          562,
          561,
          560,
          560,
          559,
          559,
          558,
          558,
          556,
          552,
          552,
          551,
          550,
          550,
          548,
          547,
          547,
          546,
          542,
          538,
          537,
          536,
          532,
          532,
          532,
          529,
          524,
          522,
          521,
          519,
          519,
          515,
          511,
          509,
          505,
          504,
          502,
          500,
          482,
          447
         ],
         "xaxis": "x2",
         "yaxis": "y2"
        }
       ],
       "layout": {
        "annotations": [
         {
          "font": {
           "size": 10
          },
          "showarrow": false,
          "text": "CLEM",
          "x": 504,
          "xref": "x",
          "y": 1.05,
          "yref": "paper"
         },
         {
          "font": {
           "size": 10
          },
          "showarrow": false,
          "text": "GT",
          "x": 634,
          "xref": "x",
          "y": 1.05,
          "yref": "paper"
         },
         {
          "font": {
           "size": 10
          },
          "showarrow": false,
          "text": "UVA",
          "x": 600,
          "xref": "x",
          "y": 1.05,
          "yref": "paper"
         },
         {
          "font": {
           "size": 10
          },
          "showarrow": false,
          "text": "FAU",
          "x": 692,
          "xref": "x",
          "y": 1.05,
          "yref": "paper"
         }
        ],
        "barmode": "relative",
        "legend": {
         "tracegroupgap": 0
        },
        "shapes": [
         {
          "line": {
           "color": "red",
           "dash": "dash"
          },
          "type": "line",
          "x0": 504,
          "x1": 504,
          "xref": "x",
          "y0": 0,
          "y1": 0.8,
          "yref": "paper"
         },
         {
          "line": {
           "color": "black",
           "dash": "dash"
          },
          "type": "line",
          "x0": 634,
          "x1": 634,
          "xref": "x",
          "y0": 0,
          "y1": 0.8,
          "yref": "paper"
         },
         {
          "line": {
           "color": "lightblue",
           "dash": "dash"
          },
          "type": "line",
          "x0": 600,
          "x1": 600,
          "xref": "x",
          "y0": 0,
          "y1": 0.8,
          "yref": "paper"
         },
         {
          "line": {
           "color": "lime",
           "dash": "dash"
          },
          "type": "line",
          "x0": 692,
          "x1": 692,
          "xref": "x",
          "y0": 0,
          "y1": 0.8,
          "yref": "paper"
         }
        ],
        "showlegend": false,
        "template": {
         "data": {
          "bar": [
           {
            "error_x": {
             "color": "#2a3f5f"
            },
            "error_y": {
             "color": "#2a3f5f"
            },
            "marker": {
             "line": {
              "color": "#E5ECF6",
              "width": 0.5
             },
             "pattern": {
              "fillmode": "overlay",
              "size": 10,
              "solidity": 0.2
             }
            },
            "type": "bar"
           }
          ],
          "barpolar": [
           {
            "marker": {
             "line": {
              "color": "#E5ECF6",
              "width": 0.5
             },
             "pattern": {
              "fillmode": "overlay",
              "size": 10,
              "solidity": 0.2
             }
            },
            "type": "barpolar"
           }
          ],
          "carpet": [
           {
            "aaxis": {
             "endlinecolor": "#2a3f5f",
             "gridcolor": "white",
             "linecolor": "white",
             "minorgridcolor": "white",
             "startlinecolor": "#2a3f5f"
            },
            "baxis": {
             "endlinecolor": "#2a3f5f",
             "gridcolor": "white",
             "linecolor": "white",
             "minorgridcolor": "white",
             "startlinecolor": "#2a3f5f"
            },
            "type": "carpet"
           }
          ],
          "choropleth": [
           {
            "colorbar": {
             "outlinewidth": 0,
             "ticks": ""
            },
            "type": "choropleth"
           }
          ],
          "contour": [
           {
            "colorbar": {
             "outlinewidth": 0,
             "ticks": ""
            },
            "colorscale": [
             [
              0,
              "#0d0887"
             ],
             [
              0.1111111111111111,
              "#46039f"
             ],
             [
              0.2222222222222222,
              "#7201a8"
             ],
             [
              0.3333333333333333,
              "#9c179e"
             ],
             [
              0.4444444444444444,
              "#bd3786"
             ],
             [
              0.5555555555555556,
              "#d8576b"
             ],
             [
              0.6666666666666666,
              "#ed7953"
             ],
             [
              0.7777777777777778,
              "#fb9f3a"
             ],
             [
              0.8888888888888888,
              "#fdca26"
             ],
             [
              1,
              "#f0f921"
             ]
            ],
            "type": "contour"
           }
          ],
          "contourcarpet": [
           {
            "colorbar": {
             "outlinewidth": 0,
             "ticks": ""
            },
            "type": "contourcarpet"
           }
          ],
          "heatmap": [
           {
            "colorbar": {
             "outlinewidth": 0,
             "ticks": ""
            },
            "colorscale": [
             [
              0,
              "#0d0887"
             ],
             [
              0.1111111111111111,
              "#46039f"
             ],
             [
              0.2222222222222222,
              "#7201a8"
             ],
             [
              0.3333333333333333,
              "#9c179e"
             ],
             [
              0.4444444444444444,
              "#bd3786"
             ],
             [
              0.5555555555555556,
              "#d8576b"
             ],
             [
              0.6666666666666666,
              "#ed7953"
             ],
             [
              0.7777777777777778,
              "#fb9f3a"
             ],
             [
              0.8888888888888888,
              "#fdca26"
             ],
             [
              1,
              "#f0f921"
             ]
            ],
            "type": "heatmap"
           }
          ],
          "heatmapgl": [
           {
            "colorbar": {
             "outlinewidth": 0,
             "ticks": ""
            },
            "colorscale": [
             [
              0,
              "#0d0887"
             ],
             [
              0.1111111111111111,
              "#46039f"
             ],
             [
              0.2222222222222222,
              "#7201a8"
             ],
             [
              0.3333333333333333,
              "#9c179e"
             ],
             [
              0.4444444444444444,
              "#bd3786"
             ],
             [
              0.5555555555555556,
              "#d8576b"
             ],
             [
              0.6666666666666666,
              "#ed7953"
             ],
             [
              0.7777777777777778,
              "#fb9f3a"
             ],
             [
              0.8888888888888888,
              "#fdca26"
             ],
             [
              1,
              "#f0f921"
             ]
            ],
            "type": "heatmapgl"
           }
          ],
          "histogram": [
           {
            "marker": {
             "pattern": {
              "fillmode": "overlay",
              "size": 10,
              "solidity": 0.2
             }
            },
            "type": "histogram"
           }
          ],
          "histogram2d": [
           {
            "colorbar": {
             "outlinewidth": 0,
             "ticks": ""
            },
            "colorscale": [
             [
              0,
              "#0d0887"
             ],
             [
              0.1111111111111111,
              "#46039f"
             ],
             [
              0.2222222222222222,
              "#7201a8"
             ],
             [
              0.3333333333333333,
              "#9c179e"
             ],
             [
              0.4444444444444444,
              "#bd3786"
             ],
             [
              0.5555555555555556,
              "#d8576b"
             ],
             [
              0.6666666666666666,
              "#ed7953"
             ],
             [
              0.7777777777777778,
              "#fb9f3a"
             ],
             [
              0.8888888888888888,
              "#fdca26"
             ],
             [
              1,
              "#f0f921"
             ]
            ],
            "type": "histogram2d"
           }
          ],
          "histogram2dcontour": [
           {
            "colorbar": {
             "outlinewidth": 0,
             "ticks": ""
            },
            "colorscale": [
             [
              0,
              "#0d0887"
             ],
             [
              0.1111111111111111,
              "#46039f"
             ],
             [
              0.2222222222222222,
              "#7201a8"
             ],
             [
              0.3333333333333333,
              "#9c179e"
             ],
             [
              0.4444444444444444,
              "#bd3786"
             ],
             [
              0.5555555555555556,
              "#d8576b"
             ],
             [
              0.6666666666666666,
              "#ed7953"
             ],
             [
              0.7777777777777778,
              "#fb9f3a"
             ],
             [
              0.8888888888888888,
              "#fdca26"
             ],
             [
              1,
              "#f0f921"
             ]
            ],
            "type": "histogram2dcontour"
           }
          ],
          "mesh3d": [
           {
            "colorbar": {
             "outlinewidth": 0,
             "ticks": ""
            },
            "type": "mesh3d"
           }
          ],
          "parcoords": [
           {
            "line": {
             "colorbar": {
              "outlinewidth": 0,
              "ticks": ""
             }
            },
            "type": "parcoords"
           }
          ],
          "pie": [
           {
            "automargin": true,
            "type": "pie"
           }
          ],
          "scatter": [
           {
            "fillpattern": {
             "fillmode": "overlay",
             "size": 10,
             "solidity": 0.2
            },
            "type": "scatter"
           }
          ],
          "scatter3d": [
           {
            "line": {
             "colorbar": {
              "outlinewidth": 0,
              "ticks": ""
             }
            },
            "marker": {
             "colorbar": {
              "outlinewidth": 0,
              "ticks": ""
             }
            },
            "type": "scatter3d"
           }
          ],
          "scattercarpet": [
           {
            "marker": {
             "colorbar": {
              "outlinewidth": 0,
              "ticks": ""
             }
            },
            "type": "scattercarpet"
           }
          ],
          "scattergeo": [
           {
            "marker": {
             "colorbar": {
              "outlinewidth": 0,
              "ticks": ""
             }
            },
            "type": "scattergeo"
           }
          ],
          "scattergl": [
           {
            "marker": {
             "colorbar": {
              "outlinewidth": 0,
              "ticks": ""
             }
            },
            "type": "scattergl"
           }
          ],
          "scattermapbox": [
           {
            "marker": {
             "colorbar": {
              "outlinewidth": 0,
              "ticks": ""
             }
            },
            "type": "scattermapbox"
           }
          ],
          "scatterpolar": [
           {
            "marker": {
             "colorbar": {
              "outlinewidth": 0,
              "ticks": ""
             }
            },
            "type": "scatterpolar"
           }
          ],
          "scatterpolargl": [
           {
            "marker": {
             "colorbar": {
              "outlinewidth": 0,
              "ticks": ""
             }
            },
            "type": "scatterpolargl"
           }
          ],
          "scatterternary": [
           {
            "marker": {
             "colorbar": {
              "outlinewidth": 0,
              "ticks": ""
             }
            },
            "type": "scatterternary"
           }
          ],
          "surface": [
           {
            "colorbar": {
             "outlinewidth": 0,
             "ticks": ""
            },
            "colorscale": [
             [
              0,
              "#0d0887"
             ],
             [
              0.1111111111111111,
              "#46039f"
             ],
             [
              0.2222222222222222,
              "#7201a8"
             ],
             [
              0.3333333333333333,
              "#9c179e"
             ],
             [
              0.4444444444444444,
              "#bd3786"
             ],
             [
              0.5555555555555556,
              "#d8576b"
             ],
             [
              0.6666666666666666,
              "#ed7953"
             ],
             [
              0.7777777777777778,
              "#fb9f3a"
             ],
             [
              0.8888888888888888,
              "#fdca26"
             ],
             [
              1,
              "#f0f921"
             ]
            ],
            "type": "surface"
           }
          ],
          "table": [
           {
            "cells": {
             "fill": {
              "color": "#EBF0F8"
             },
             "line": {
              "color": "white"
             }
            },
            "header": {
             "fill": {
              "color": "#C8D4E3"
             },
             "line": {
              "color": "white"
             }
            },
            "type": "table"
           }
          ]
         },
         "layout": {
          "annotationdefaults": {
           "arrowcolor": "#2a3f5f",
           "arrowhead": 0,
           "arrowwidth": 1
          },
          "autotypenumbers": "strict",
          "coloraxis": {
           "colorbar": {
            "outlinewidth": 0,
            "ticks": ""
           }
          },
          "colorscale": {
           "diverging": [
            [
             0,
             "#8e0152"
            ],
            [
             0.1,
             "#c51b7d"
            ],
            [
             0.2,
             "#de77ae"
            ],
            [
             0.3,
             "#f1b6da"
            ],
            [
             0.4,
             "#fde0ef"
            ],
            [
             0.5,
             "#f7f7f7"
            ],
            [
             0.6,
             "#e6f5d0"
            ],
            [
             0.7,
             "#b8e186"
            ],
            [
             0.8,
             "#7fbc41"
            ],
            [
             0.9,
             "#4d9221"
            ],
            [
             1,
             "#276419"
            ]
           ],
           "sequential": [
            [
             0,
             "#0d0887"
            ],
            [
             0.1111111111111111,
             "#46039f"
            ],
            [
             0.2222222222222222,
             "#7201a8"
            ],
            [
             0.3333333333333333,
             "#9c179e"
            ],
            [
             0.4444444444444444,
             "#bd3786"
            ],
            [
             0.5555555555555556,
             "#d8576b"
            ],
            [
             0.6666666666666666,
             "#ed7953"
            ],
            [
             0.7777777777777778,
             "#fb9f3a"
            ],
            [
             0.8888888888888888,
             "#fdca26"
            ],
            [
             1,
             "#f0f921"
            ]
           ],
           "sequentialminus": [
            [
             0,
             "#0d0887"
            ],
            [
             0.1111111111111111,
             "#46039f"
            ],
            [
             0.2222222222222222,
             "#7201a8"
            ],
            [
             0.3333333333333333,
             "#9c179e"
            ],
            [
             0.4444444444444444,
             "#bd3786"
            ],
            [
             0.5555555555555556,
             "#d8576b"
            ],
            [
             0.6666666666666666,
             "#ed7953"
            ],
            [
             0.7777777777777778,
             "#fb9f3a"
            ],
            [
             0.8888888888888888,
             "#fdca26"
            ],
            [
             1,
             "#f0f921"
            ]
           ]
          },
          "colorway": [
           "#636efa",
           "#EF553B",
           "#00cc96",
           "#ab63fa",
           "#FFA15A",
           "#19d3f3",
           "#FF6692",
           "#B6E880",
           "#FF97FF",
           "#FECB52"
          ],
          "font": {
           "color": "#2a3f5f"
          },
          "geo": {
           "bgcolor": "white",
           "lakecolor": "white",
           "landcolor": "#E5ECF6",
           "showlakes": true,
           "showland": true,
           "subunitcolor": "white"
          },
          "hoverlabel": {
           "align": "left"
          },
          "hovermode": "closest",
          "mapbox": {
           "style": "light"
          },
          "paper_bgcolor": "white",
          "plot_bgcolor": "#E5ECF6",
          "polar": {
           "angularaxis": {
            "gridcolor": "white",
            "linecolor": "white",
            "ticks": ""
           },
           "bgcolor": "#E5ECF6",
           "radialaxis": {
            "gridcolor": "white",
            "linecolor": "white",
            "ticks": ""
           }
          },
          "scene": {
           "xaxis": {
            "backgroundcolor": "#E5ECF6",
            "gridcolor": "white",
            "gridwidth": 2,
            "linecolor": "white",
            "showbackground": true,
            "ticks": "",
            "zerolinecolor": "white"
           },
           "yaxis": {
            "backgroundcolor": "#E5ECF6",
            "gridcolor": "white",
            "gridwidth": 2,
            "linecolor": "white",
            "showbackground": true,
            "ticks": "",
            "zerolinecolor": "white"
           },
           "zaxis": {
            "backgroundcolor": "#E5ECF6",
            "gridcolor": "white",
            "gridwidth": 2,
            "linecolor": "white",
            "showbackground": true,
            "ticks": "",
            "zerolinecolor": "white"
           }
          },
          "shapedefaults": {
           "line": {
            "color": "#2a3f5f"
           }
          },
          "ternary": {
           "aaxis": {
            "gridcolor": "white",
            "linecolor": "white",
            "ticks": ""
           },
           "baxis": {
            "gridcolor": "white",
            "linecolor": "white",
            "ticks": ""
           },
           "bgcolor": "#E5ECF6",
           "caxis": {
            "gridcolor": "white",
            "linecolor": "white",
            "ticks": ""
           }
          },
          "title": {
           "x": 0.05
          },
          "xaxis": {
           "automargin": true,
           "gridcolor": "white",
           "linecolor": "white",
           "ticks": "",
           "title": {
            "standoff": 15
           },
           "zerolinecolor": "white",
           "zerolinewidth": 2
          },
          "yaxis": {
           "automargin": true,
           "gridcolor": "white",
           "linecolor": "white",
           "ticks": "",
           "title": {
            "standoff": 15
           },
           "zerolinecolor": "white",
           "zerolinewidth": 2
          }
         }
        },
        "title": {
         "text": "Distribution of Total Tackles for All Schools"
        },
        "xaxis": {
         "anchor": "y",
         "domain": [
          0,
          1
         ],
         "title": {
          "text": "Total Tackles"
         }
        },
        "xaxis2": {
         "anchor": "y2",
         "domain": [
          0,
          1
         ],
         "matches": "x",
         "showgrid": true,
         "showticklabels": false
        },
        "yaxis": {
         "anchor": "x",
         "domain": [
          0,
          0.8316
         ],
         "title": {
          "text": "Density"
         }
        },
        "yaxis2": {
         "anchor": "x2",
         "domain": [
          0.8416,
          1
         ],
         "matches": "y2",
         "showgrid": false,
         "showline": false,
         "showticklabels": false,
         "ticks": ""
        }
       }
      },
      "text/html": [
       "<div>                            <div id=\"1dd7fdb2-15fe-4ff5-8d9a-04a2b8c645f4\" class=\"plotly-graph-div\" style=\"height:525px; width:100%;\"></div>            <script type=\"text/javascript\">                require([\"plotly\"], function(Plotly) {                    window.PLOTLYENV=window.PLOTLYENV || {};                                    if (document.getElementById(\"1dd7fdb2-15fe-4ff5-8d9a-04a2b8c645f4\")) {                    Plotly.newPlot(                        \"1dd7fdb2-15fe-4ff5-8d9a-04a2b8c645f4\",                        [{\"alignmentgroup\":\"True\",\"bingroup\":\"x\",\"hovertemplate\":\"Total Tackles=%{x}\\u003cbr\\u003ecount=%{y}\\u003cextra\\u003e\\u003c\\u002fextra\\u003e\",\"legendgroup\":\"\",\"marker\":{\"color\":\"orange\",\"pattern\":{\"shape\":\"\"}},\"name\":\"\",\"nbinsx\":30,\"offsetgroup\":\"\",\"orientation\":\"v\",\"showlegend\":false,\"x\":[823,781,735,724,717,706,692,684,683,682,677,677,672,672,670,663,657,656,653,645,644,640,635,634,633,631,631,630,630,630,629,626,623,622,622,620,619,619,615,614,613,612,612,609,605,605,605,605,605,605,600,599,596,595,595,595,594,594,593,592,592,588,588,588,587,587,587,587,585,584,583,583,583,583,582,582,580,578,577,577,577,576,574,574,573,573,573,571,570,569,568,568,563,562,561,560,560,559,559,558,558,556,552,552,551,550,550,548,547,547,546,542,538,537,536,532,532,532,529,524,522,521,519,519,515,511,509,505,504,502,500,482,447],\"xaxis\":\"x\",\"yaxis\":\"y\",\"type\":\"histogram\",\"hovertext\":[\"ODU\",\"CSU\",\"JVST\",\"ULM\",\"VAN\",\"EMU\",\"FAU\",\"MSST\",\"LT\",\"USU\",\"IOWA\",\"DUKE\",\"SYR\",\"MISS\",\"USC\",\"ARST\",\"UL\",\"TXST\",\"MRSH\",\"OU\",\"NMSU\",\"TLSA\",\"WKU\",\"GT\",\"PITT\",\"MTSU\",\"TEM\",\"LSU\",\"BYU\",\"ALA\",\"MASS\",\"MSU\",\"WSU\",\"FIU\",\"CAL\",\"JMU\",\"UAB\",\"ND\",\"TOL\",\"CONN\",\"UTEP\",\"UNLV\",\"UNT\",\"UTSA\",\"M-OH\",\"ILL\",\"AKR\",\"TTU\",\"SC\",\"WYO\",\"UVA\",\"NCSU\",\"HAW\",\"COLO\",\"UNC\",\"NU\",\"ORST\",\"UCF\",\"RICE\",\"WASH\",\"GAST\",\"WIS\",\"USF\",\"ASU\",\"FRES\",\"FSU\",\"OKST\",\"NIU\",\"ORE\",\"TENN\",\"UK\",\"CCU\",\"ISU\",\"TCU\",\"BGSU\",\"HOU\",\"USM\",\"WMU\",\"ARMY\",\"WAKE\",\"USA\",\"NEB\",\"BALL\",\"MD\",\"APP\",\"ARK\",\"CLT\",\"UCLA\",\"SHSU\",\"OHIO\",\"TEX\",\"CMU\",\"GASO\",\"MIZ\",\"AUB\",\"VT\",\"WVU\",\"SMU\",\"RUTG\",\"OSU\",\"ECU\",\"ARIZ\",\"KENT\",\"STAN\",\"TROY\",\"TA&M\",\"MEM\",\"CIN\",\"BUFF\",\"IU\",\"KU\",\"UNM\",\"LIB\",\"SJSU\",\"NEV\",\"SDSU\",\"PUR\",\"NAVY\",\"FLA\",\"LOU\",\"KSU\",\"BOIS\",\"UTAH\",\"TULN\",\"AFA\",\"MINN\",\"MIA\",\"BC\",\"CLEM\",\"BAY\",\"MICH\",\"PSU\",\"UGA\"]},{\"alignmentgroup\":\"True\",\"boxpoints\":\"all\",\"fillcolor\":\"rgba(255,255,255,0)\",\"hoveron\":\"points\",\"hovertemplate\":\"Total Tackles=%{x}\\u003cextra\\u003e\\u003c\\u002fextra\\u003e\",\"jitter\":0,\"legendgroup\":\"\",\"line\":{\"color\":\"rgba(255,255,255,0)\"},\"marker\":{\"color\":\"orange\",\"symbol\":\"line-ns-open\"},\"name\":\"\",\"offsetgroup\":\"\",\"showlegend\":false,\"x\":[823,781,735,724,717,706,692,684,683,682,677,677,672,672,670,663,657,656,653,645,644,640,635,634,633,631,631,630,630,630,629,626,623,622,622,620,619,619,615,614,613,612,612,609,605,605,605,605,605,605,600,599,596,595,595,595,594,594,593,592,592,588,588,588,587,587,587,587,585,584,583,583,583,583,582,582,580,578,577,577,577,576,574,574,573,573,573,571,570,569,568,568,563,562,561,560,560,559,559,558,558,556,552,552,551,550,550,548,547,547,546,542,538,537,536,532,532,532,529,524,522,521,519,519,515,511,509,505,504,502,500,482,447],\"xaxis\":\"x2\",\"yaxis\":\"y2\",\"type\":\"box\",\"hovertext\":[\"ODU\",\"CSU\",\"JVST\",\"ULM\",\"VAN\",\"EMU\",\"FAU\",\"MSST\",\"LT\",\"USU\",\"IOWA\",\"DUKE\",\"SYR\",\"MISS\",\"USC\",\"ARST\",\"UL\",\"TXST\",\"MRSH\",\"OU\",\"NMSU\",\"TLSA\",\"WKU\",\"GT\",\"PITT\",\"MTSU\",\"TEM\",\"LSU\",\"BYU\",\"ALA\",\"MASS\",\"MSU\",\"WSU\",\"FIU\",\"CAL\",\"JMU\",\"UAB\",\"ND\",\"TOL\",\"CONN\",\"UTEP\",\"UNLV\",\"UNT\",\"UTSA\",\"M-OH\",\"ILL\",\"AKR\",\"TTU\",\"SC\",\"WYO\",\"UVA\",\"NCSU\",\"HAW\",\"COLO\",\"UNC\",\"NU\",\"ORST\",\"UCF\",\"RICE\",\"WASH\",\"GAST\",\"WIS\",\"USF\",\"ASU\",\"FRES\",\"FSU\",\"OKST\",\"NIU\",\"ORE\",\"TENN\",\"UK\",\"CCU\",\"ISU\",\"TCU\",\"BGSU\",\"HOU\",\"USM\",\"WMU\",\"ARMY\",\"WAKE\",\"USA\",\"NEB\",\"BALL\",\"MD\",\"APP\",\"ARK\",\"CLT\",\"UCLA\",\"SHSU\",\"OHIO\",\"TEX\",\"CMU\",\"GASO\",\"MIZ\",\"AUB\",\"VT\",\"WVU\",\"SMU\",\"RUTG\",\"OSU\",\"ECU\",\"ARIZ\",\"KENT\",\"STAN\",\"TROY\",\"TA&M\",\"MEM\",\"CIN\",\"BUFF\",\"IU\",\"KU\",\"UNM\",\"LIB\",\"SJSU\",\"NEV\",\"SDSU\",\"PUR\",\"NAVY\",\"FLA\",\"LOU\",\"KSU\",\"BOIS\",\"UTAH\",\"TULN\",\"AFA\",\"MINN\",\"MIA\",\"BC\",\"CLEM\",\"BAY\",\"MICH\",\"PSU\",\"UGA\"]}],                        {\"template\":{\"data\":{\"histogram2dcontour\":[{\"type\":\"histogram2dcontour\",\"colorbar\":{\"outlinewidth\":0,\"ticks\":\"\"},\"colorscale\":[[0.0,\"#0d0887\"],[0.1111111111111111,\"#46039f\"],[0.2222222222222222,\"#7201a8\"],[0.3333333333333333,\"#9c179e\"],[0.4444444444444444,\"#bd3786\"],[0.5555555555555556,\"#d8576b\"],[0.6666666666666666,\"#ed7953\"],[0.7777777777777778,\"#fb9f3a\"],[0.8888888888888888,\"#fdca26\"],[1.0,\"#f0f921\"]]}],\"choropleth\":[{\"type\":\"choropleth\",\"colorbar\":{\"outlinewidth\":0,\"ticks\":\"\"}}],\"histogram2d\":[{\"type\":\"histogram2d\",\"colorbar\":{\"outlinewidth\":0,\"ticks\":\"\"},\"colorscale\":[[0.0,\"#0d0887\"],[0.1111111111111111,\"#46039f\"],[0.2222222222222222,\"#7201a8\"],[0.3333333333333333,\"#9c179e\"],[0.4444444444444444,\"#bd3786\"],[0.5555555555555556,\"#d8576b\"],[0.6666666666666666,\"#ed7953\"],[0.7777777777777778,\"#fb9f3a\"],[0.8888888888888888,\"#fdca26\"],[1.0,\"#f0f921\"]]}],\"heatmap\":[{\"type\":\"heatmap\",\"colorbar\":{\"outlinewidth\":0,\"ticks\":\"\"},\"colorscale\":[[0.0,\"#0d0887\"],[0.1111111111111111,\"#46039f\"],[0.2222222222222222,\"#7201a8\"],[0.3333333333333333,\"#9c179e\"],[0.4444444444444444,\"#bd3786\"],[0.5555555555555556,\"#d8576b\"],[0.6666666666666666,\"#ed7953\"],[0.7777777777777778,\"#fb9f3a\"],[0.8888888888888888,\"#fdca26\"],[1.0,\"#f0f921\"]]}],\"heatmapgl\":[{\"type\":\"heatmapgl\",\"colorbar\":{\"outlinewidth\":0,\"ticks\":\"\"},\"colorscale\":[[0.0,\"#0d0887\"],[0.1111111111111111,\"#46039f\"],[0.2222222222222222,\"#7201a8\"],[0.3333333333333333,\"#9c179e\"],[0.4444444444444444,\"#bd3786\"],[0.5555555555555556,\"#d8576b\"],[0.6666666666666666,\"#ed7953\"],[0.7777777777777778,\"#fb9f3a\"],[0.8888888888888888,\"#fdca26\"],[1.0,\"#f0f921\"]]}],\"contourcarpet\":[{\"type\":\"contourcarpet\",\"colorbar\":{\"outlinewidth\":0,\"ticks\":\"\"}}],\"contour\":[{\"type\":\"contour\",\"colorbar\":{\"outlinewidth\":0,\"ticks\":\"\"},\"colorscale\":[[0.0,\"#0d0887\"],[0.1111111111111111,\"#46039f\"],[0.2222222222222222,\"#7201a8\"],[0.3333333333333333,\"#9c179e\"],[0.4444444444444444,\"#bd3786\"],[0.5555555555555556,\"#d8576b\"],[0.6666666666666666,\"#ed7953\"],[0.7777777777777778,\"#fb9f3a\"],[0.8888888888888888,\"#fdca26\"],[1.0,\"#f0f921\"]]}],\"surface\":[{\"type\":\"surface\",\"colorbar\":{\"outlinewidth\":0,\"ticks\":\"\"},\"colorscale\":[[0.0,\"#0d0887\"],[0.1111111111111111,\"#46039f\"],[0.2222222222222222,\"#7201a8\"],[0.3333333333333333,\"#9c179e\"],[0.4444444444444444,\"#bd3786\"],[0.5555555555555556,\"#d8576b\"],[0.6666666666666666,\"#ed7953\"],[0.7777777777777778,\"#fb9f3a\"],[0.8888888888888888,\"#fdca26\"],[1.0,\"#f0f921\"]]}],\"mesh3d\":[{\"type\":\"mesh3d\",\"colorbar\":{\"outlinewidth\":0,\"ticks\":\"\"}}],\"scatter\":[{\"fillpattern\":{\"fillmode\":\"overlay\",\"size\":10,\"solidity\":0.2},\"type\":\"scatter\"}],\"parcoords\":[{\"type\":\"parcoords\",\"line\":{\"colorbar\":{\"outlinewidth\":0,\"ticks\":\"\"}}}],\"scatterpolargl\":[{\"type\":\"scatterpolargl\",\"marker\":{\"colorbar\":{\"outlinewidth\":0,\"ticks\":\"\"}}}],\"bar\":[{\"error_x\":{\"color\":\"#2a3f5f\"},\"error_y\":{\"color\":\"#2a3f5f\"},\"marker\":{\"line\":{\"color\":\"#E5ECF6\",\"width\":0.5},\"pattern\":{\"fillmode\":\"overlay\",\"size\":10,\"solidity\":0.2}},\"type\":\"bar\"}],\"scattergeo\":[{\"type\":\"scattergeo\",\"marker\":{\"colorbar\":{\"outlinewidth\":0,\"ticks\":\"\"}}}],\"scatterpolar\":[{\"type\":\"scatterpolar\",\"marker\":{\"colorbar\":{\"outlinewidth\":0,\"ticks\":\"\"}}}],\"histogram\":[{\"marker\":{\"pattern\":{\"fillmode\":\"overlay\",\"size\":10,\"solidity\":0.2}},\"type\":\"histogram\"}],\"scattergl\":[{\"type\":\"scattergl\",\"marker\":{\"colorbar\":{\"outlinewidth\":0,\"ticks\":\"\"}}}],\"scatter3d\":[{\"type\":\"scatter3d\",\"line\":{\"colorbar\":{\"outlinewidth\":0,\"ticks\":\"\"}},\"marker\":{\"colorbar\":{\"outlinewidth\":0,\"ticks\":\"\"}}}],\"scattermapbox\":[{\"type\":\"scattermapbox\",\"marker\":{\"colorbar\":{\"outlinewidth\":0,\"ticks\":\"\"}}}],\"scatterternary\":[{\"type\":\"scatterternary\",\"marker\":{\"colorbar\":{\"outlinewidth\":0,\"ticks\":\"\"}}}],\"scattercarpet\":[{\"type\":\"scattercarpet\",\"marker\":{\"colorbar\":{\"outlinewidth\":0,\"ticks\":\"\"}}}],\"carpet\":[{\"aaxis\":{\"endlinecolor\":\"#2a3f5f\",\"gridcolor\":\"white\",\"linecolor\":\"white\",\"minorgridcolor\":\"white\",\"startlinecolor\":\"#2a3f5f\"},\"baxis\":{\"endlinecolor\":\"#2a3f5f\",\"gridcolor\":\"white\",\"linecolor\":\"white\",\"minorgridcolor\":\"white\",\"startlinecolor\":\"#2a3f5f\"},\"type\":\"carpet\"}],\"table\":[{\"cells\":{\"fill\":{\"color\":\"#EBF0F8\"},\"line\":{\"color\":\"white\"}},\"header\":{\"fill\":{\"color\":\"#C8D4E3\"},\"line\":{\"color\":\"white\"}},\"type\":\"table\"}],\"barpolar\":[{\"marker\":{\"line\":{\"color\":\"#E5ECF6\",\"width\":0.5},\"pattern\":{\"fillmode\":\"overlay\",\"size\":10,\"solidity\":0.2}},\"type\":\"barpolar\"}],\"pie\":[{\"automargin\":true,\"type\":\"pie\"}]},\"layout\":{\"autotypenumbers\":\"strict\",\"colorway\":[\"#636efa\",\"#EF553B\",\"#00cc96\",\"#ab63fa\",\"#FFA15A\",\"#19d3f3\",\"#FF6692\",\"#B6E880\",\"#FF97FF\",\"#FECB52\"],\"font\":{\"color\":\"#2a3f5f\"},\"hovermode\":\"closest\",\"hoverlabel\":{\"align\":\"left\"},\"paper_bgcolor\":\"white\",\"plot_bgcolor\":\"#E5ECF6\",\"polar\":{\"bgcolor\":\"#E5ECF6\",\"angularaxis\":{\"gridcolor\":\"white\",\"linecolor\":\"white\",\"ticks\":\"\"},\"radialaxis\":{\"gridcolor\":\"white\",\"linecolor\":\"white\",\"ticks\":\"\"}},\"ternary\":{\"bgcolor\":\"#E5ECF6\",\"aaxis\":{\"gridcolor\":\"white\",\"linecolor\":\"white\",\"ticks\":\"\"},\"baxis\":{\"gridcolor\":\"white\",\"linecolor\":\"white\",\"ticks\":\"\"},\"caxis\":{\"gridcolor\":\"white\",\"linecolor\":\"white\",\"ticks\":\"\"}},\"coloraxis\":{\"colorbar\":{\"outlinewidth\":0,\"ticks\":\"\"}},\"colorscale\":{\"sequential\":[[0.0,\"#0d0887\"],[0.1111111111111111,\"#46039f\"],[0.2222222222222222,\"#7201a8\"],[0.3333333333333333,\"#9c179e\"],[0.4444444444444444,\"#bd3786\"],[0.5555555555555556,\"#d8576b\"],[0.6666666666666666,\"#ed7953\"],[0.7777777777777778,\"#fb9f3a\"],[0.8888888888888888,\"#fdca26\"],[1.0,\"#f0f921\"]],\"sequentialminus\":[[0.0,\"#0d0887\"],[0.1111111111111111,\"#46039f\"],[0.2222222222222222,\"#7201a8\"],[0.3333333333333333,\"#9c179e\"],[0.4444444444444444,\"#bd3786\"],[0.5555555555555556,\"#d8576b\"],[0.6666666666666666,\"#ed7953\"],[0.7777777777777778,\"#fb9f3a\"],[0.8888888888888888,\"#fdca26\"],[1.0,\"#f0f921\"]],\"diverging\":[[0,\"#8e0152\"],[0.1,\"#c51b7d\"],[0.2,\"#de77ae\"],[0.3,\"#f1b6da\"],[0.4,\"#fde0ef\"],[0.5,\"#f7f7f7\"],[0.6,\"#e6f5d0\"],[0.7,\"#b8e186\"],[0.8,\"#7fbc41\"],[0.9,\"#4d9221\"],[1,\"#276419\"]]},\"xaxis\":{\"gridcolor\":\"white\",\"linecolor\":\"white\",\"ticks\":\"\",\"title\":{\"standoff\":15},\"zerolinecolor\":\"white\",\"automargin\":true,\"zerolinewidth\":2},\"yaxis\":{\"gridcolor\":\"white\",\"linecolor\":\"white\",\"ticks\":\"\",\"title\":{\"standoff\":15},\"zerolinecolor\":\"white\",\"automargin\":true,\"zerolinewidth\":2},\"scene\":{\"xaxis\":{\"backgroundcolor\":\"#E5ECF6\",\"gridcolor\":\"white\",\"linecolor\":\"white\",\"showbackground\":true,\"ticks\":\"\",\"zerolinecolor\":\"white\",\"gridwidth\":2},\"yaxis\":{\"backgroundcolor\":\"#E5ECF6\",\"gridcolor\":\"white\",\"linecolor\":\"white\",\"showbackground\":true,\"ticks\":\"\",\"zerolinecolor\":\"white\",\"gridwidth\":2},\"zaxis\":{\"backgroundcolor\":\"#E5ECF6\",\"gridcolor\":\"white\",\"linecolor\":\"white\",\"showbackground\":true,\"ticks\":\"\",\"zerolinecolor\":\"white\",\"gridwidth\":2}},\"shapedefaults\":{\"line\":{\"color\":\"#2a3f5f\"}},\"annotationdefaults\":{\"arrowcolor\":\"#2a3f5f\",\"arrowhead\":0,\"arrowwidth\":1},\"geo\":{\"bgcolor\":\"white\",\"landcolor\":\"#E5ECF6\",\"subunitcolor\":\"white\",\"showland\":true,\"showlakes\":true,\"lakecolor\":\"white\"},\"title\":{\"x\":0.05},\"mapbox\":{\"style\":\"light\"}}},\"xaxis\":{\"anchor\":\"y\",\"domain\":[0.0,1.0],\"title\":{\"text\":\"Total Tackles\"}},\"yaxis\":{\"anchor\":\"x\",\"domain\":[0.0,0.8316],\"title\":{\"text\":\"Density\"}},\"xaxis2\":{\"anchor\":\"y2\",\"domain\":[0.0,1.0],\"matches\":\"x\",\"showticklabels\":false,\"showgrid\":true},\"yaxis2\":{\"anchor\":\"x2\",\"domain\":[0.8416,1.0],\"matches\":\"y2\",\"showticklabels\":false,\"showline\":false,\"ticks\":\"\",\"showgrid\":false},\"legend\":{\"tracegroupgap\":0},\"title\":{\"text\":\"Distribution of Total Tackles for All Schools\"},\"barmode\":\"relative\",\"shapes\":[{\"line\":{\"color\":\"red\",\"dash\":\"dash\"},\"type\":\"line\",\"x0\":504,\"x1\":504,\"xref\":\"x\",\"y0\":0,\"y1\":0.8,\"yref\":\"paper\"},{\"line\":{\"color\":\"black\",\"dash\":\"dash\"},\"type\":\"line\",\"x0\":634,\"x1\":634,\"xref\":\"x\",\"y0\":0,\"y1\":0.8,\"yref\":\"paper\"},{\"line\":{\"color\":\"lightblue\",\"dash\":\"dash\"},\"type\":\"line\",\"x0\":600,\"x1\":600,\"xref\":\"x\",\"y0\":0,\"y1\":0.8,\"yref\":\"paper\"},{\"line\":{\"color\":\"lime\",\"dash\":\"dash\"},\"type\":\"line\",\"x0\":692,\"x1\":692,\"xref\":\"x\",\"y0\":0,\"y1\":0.8,\"yref\":\"paper\"}],\"annotations\":[{\"font\":{\"size\":10},\"showarrow\":false,\"text\":\"CLEM\",\"x\":504,\"xref\":\"x\",\"y\":1.05,\"yref\":\"paper\"},{\"font\":{\"size\":10},\"showarrow\":false,\"text\":\"GT\",\"x\":634,\"xref\":\"x\",\"y\":1.05,\"yref\":\"paper\"},{\"font\":{\"size\":10},\"showarrow\":false,\"text\":\"UVA\",\"x\":600,\"xref\":\"x\",\"y\":1.05,\"yref\":\"paper\"},{\"font\":{\"size\":10},\"showarrow\":false,\"text\":\"FAU\",\"x\":692,\"xref\":\"x\",\"y\":1.05,\"yref\":\"paper\"}],\"showlegend\":false},                        {\"responsive\": true}                    ).then(function(){\n",
       "                            \n",
       "var gd = document.getElementById('1dd7fdb2-15fe-4ff5-8d9a-04a2b8c645f4');\n",
       "var x = new MutationObserver(function (mutations, observer) {{\n",
       "        var display = window.getComputedStyle(gd).display;\n",
       "        if (!display || display === 'none') {{\n",
       "            console.log([gd, 'removed!']);\n",
       "            Plotly.purge(gd);\n",
       "            observer.disconnect();\n",
       "        }}\n",
       "}});\n",
       "\n",
       "// Listen for the removal of the full notebook cells\n",
       "var notebookContainer = gd.closest('#notebook-container');\n",
       "if (notebookContainer) {{\n",
       "    x.observe(notebookContainer, {childList: true});\n",
       "}}\n",
       "\n",
       "// Listen for the clearing of the current output cell\n",
       "var outputEl = gd.closest('.output');\n",
       "if (outputEl) {{\n",
       "    x.observe(outputEl, {childList: true});\n",
       "}}\n",
       "\n",
       "                        })                };                });            </script>        </div>"
      ]
     },
     "metadata": {},
     "output_type": "display_data"
    },
    {
     "data": {
      "application/vnd.plotly.v1+json": {
       "config": {
        "plotlyServerURL": "https://plot.ly"
       },
       "data": [
        {
         "alignmentgroup": "True",
         "hovertemplate": "Color=skyblue<br>School=%{x}<br>Total Sacks=%{text}<extra></extra>",
         "legendgroup": "skyblue",
         "marker": {
          "color": "#636efa",
          "pattern": {
           "shape": ""
          }
         },
         "name": "skyblue",
         "offsetgroup": "skyblue",
         "orientation": "v",
         "showlegend": true,
         "text": [
          41,
          38,
          34,
          34,
          33,
          32,
          31,
          31,
          31,
          30,
          30,
          29,
          29,
          29,
          28,
          28,
          27,
          27,
          27,
          27,
          27,
          26,
          25,
          25,
          25,
          25,
          25,
          25,
          25,
          25,
          24,
          24,
          24,
          23,
          23,
          23,
          23,
          23,
          23,
          23,
          23,
          23,
          22,
          22,
          22,
          22,
          22,
          22,
          21.5,
          21,
          21,
          21,
          21,
          21,
          21,
          21,
          21,
          21,
          21,
          20,
          20,
          20,
          20,
          20,
          20,
          20,
          20,
          20,
          20,
          19,
          19,
          19,
          19,
          19,
          19,
          18,
          18,
          18,
          18,
          18,
          18,
          18,
          18,
          17,
          17,
          17,
          17,
          17,
          17,
          17,
          17,
          17,
          17,
          17,
          17,
          17,
          16,
          16,
          16,
          16,
          16,
          16,
          16,
          15,
          15,
          15,
          15,
          15,
          15,
          14,
          14,
          14,
          14,
          14,
          14,
          13,
          13,
          13,
          13,
          12,
          11,
          11,
          11,
          11,
          11,
          11,
          9,
          9,
          8
         ],
         "textposition": "auto",
         "type": "bar",
         "x": [
          "JMU",
          "PSU",
          "TA&M",
          "UCLA",
          "JVST",
          "UTSA",
          "MISS",
          "SMU",
          "VT",
          "ORST",
          "TENN",
          "UTAH",
          "MIA",
          "ALA",
          "ORE",
          "NEB",
          "PUR",
          "MIZ",
          "NCSU",
          "MD",
          "UL",
          "TXST",
          "PITT",
          "M-OH",
          "CSU",
          "MRSH",
          "MSU",
          "ARK",
          "NMSU",
          "FSU",
          "WIS",
          "USC",
          "USM",
          "UCF",
          "LOU",
          "ARIZ",
          "UK",
          "UTEP",
          "COLO",
          "TULN",
          "TOL",
          "UNC",
          "MICH",
          "SYR",
          "TEX",
          "TCU",
          "OHIO",
          "ASU",
          "APP",
          "WMU",
          "WKU",
          "USA",
          "MINN",
          "MSST",
          "AFA",
          "BGSU",
          "FRES",
          "KU",
          "AUB",
          "WAKE",
          "DUKE",
          "UNLV",
          "TROY",
          "ND",
          "UAB",
          "NAVY",
          "OKST",
          "STAN",
          "VAN",
          "USF",
          "BOIS",
          "GAST",
          "KSU",
          "UGA",
          "GASO",
          "IOWA",
          "BALL",
          "NU",
          "HOU",
          "IU",
          "HAW",
          "CLT",
          "WVU",
          "ULM",
          "MASS",
          "MEM",
          "OU",
          "SDSU",
          "LIB",
          "ARST",
          "AKR",
          "NIU",
          "OSU",
          "CIN",
          "RUTG",
          "SC",
          "BAY",
          "EMU",
          "TTU",
          "RICE",
          "FLA",
          "LSU",
          "USU",
          "BUFF",
          "CCU",
          "WSU",
          "WYO",
          "MTSU",
          "NEV",
          "FIU",
          "LT",
          "ISU",
          "ILL",
          "SJSU",
          "CMU",
          "ODU",
          "WASH",
          "ARMY",
          "TEM",
          "TLSA",
          "ECU",
          "SHSU",
          "BC",
          "CAL",
          "UNT",
          "CONN",
          "UNM",
          "KENT",
          "BYU"
         ],
         "xaxis": "x",
         "y": [
          41,
          38,
          34,
          34,
          33,
          32,
          31,
          31,
          31,
          30,
          30,
          29,
          29,
          29,
          28,
          28,
          27,
          27,
          27,
          27,
          27,
          26,
          25,
          25,
          25,
          25,
          25,
          25,
          25,
          25,
          24,
          24,
          24,
          23,
          23,
          23,
          23,
          23,
          23,
          23,
          23,
          23,
          22,
          22,
          22,
          22,
          22,
          22,
          21.5,
          21,
          21,
          21,
          21,
          21,
          21,
          21,
          21,
          21,
          21,
          20,
          20,
          20,
          20,
          20,
          20,
          20,
          20,
          20,
          20,
          19,
          19,
          19,
          19,
          19,
          19,
          18,
          18,
          18,
          18,
          18,
          18,
          18,
          18,
          17,
          17,
          17,
          17,
          17,
          17,
          17,
          17,
          17,
          17,
          17,
          17,
          17,
          16,
          16,
          16,
          16,
          16,
          16,
          16,
          15,
          15,
          15,
          15,
          15,
          15,
          14,
          14,
          14,
          14,
          14,
          14,
          13,
          13,
          13,
          13,
          12,
          11,
          11,
          11,
          11,
          11,
          11,
          9,
          9,
          8
         ],
         "yaxis": "y"
        },
        {
         "alignmentgroup": "True",
         "hovertemplate": "Color=orange<br>School=%{x}<br>Total Sacks=%{text}<extra></extra>",
         "legendgroup": "orange",
         "marker": {
          "color": "#EF553B",
          "pattern": {
           "shape": ""
          }
         },
         "name": "orange",
         "offsetgroup": "orange",
         "orientation": "v",
         "showlegend": true,
         "text": [
          23,
          21,
          15,
          8
         ],
         "textposition": "auto",
         "type": "bar",
         "x": [
          "FAU",
          "CLEM",
          "GT",
          "UVA"
         ],
         "xaxis": "x",
         "y": [
          23,
          21,
          15,
          8
         ],
         "yaxis": "y"
        }
       ],
       "layout": {
        "barmode": "relative",
        "legend": {
         "title": {
          "text": "Color"
         },
         "tracegroupgap": 0
        },
        "template": {
         "data": {
          "bar": [
           {
            "error_x": {
             "color": "#2a3f5f"
            },
            "error_y": {
             "color": "#2a3f5f"
            },
            "marker": {
             "line": {
              "color": "#E5ECF6",
              "width": 0.5
             },
             "pattern": {
              "fillmode": "overlay",
              "size": 10,
              "solidity": 0.2
             }
            },
            "type": "bar"
           }
          ],
          "barpolar": [
           {
            "marker": {
             "line": {
              "color": "#E5ECF6",
              "width": 0.5
             },
             "pattern": {
              "fillmode": "overlay",
              "size": 10,
              "solidity": 0.2
             }
            },
            "type": "barpolar"
           }
          ],
          "carpet": [
           {
            "aaxis": {
             "endlinecolor": "#2a3f5f",
             "gridcolor": "white",
             "linecolor": "white",
             "minorgridcolor": "white",
             "startlinecolor": "#2a3f5f"
            },
            "baxis": {
             "endlinecolor": "#2a3f5f",
             "gridcolor": "white",
             "linecolor": "white",
             "minorgridcolor": "white",
             "startlinecolor": "#2a3f5f"
            },
            "type": "carpet"
           }
          ],
          "choropleth": [
           {
            "colorbar": {
             "outlinewidth": 0,
             "ticks": ""
            },
            "type": "choropleth"
           }
          ],
          "contour": [
           {
            "colorbar": {
             "outlinewidth": 0,
             "ticks": ""
            },
            "colorscale": [
             [
              0,
              "#0d0887"
             ],
             [
              0.1111111111111111,
              "#46039f"
             ],
             [
              0.2222222222222222,
              "#7201a8"
             ],
             [
              0.3333333333333333,
              "#9c179e"
             ],
             [
              0.4444444444444444,
              "#bd3786"
             ],
             [
              0.5555555555555556,
              "#d8576b"
             ],
             [
              0.6666666666666666,
              "#ed7953"
             ],
             [
              0.7777777777777778,
              "#fb9f3a"
             ],
             [
              0.8888888888888888,
              "#fdca26"
             ],
             [
              1,
              "#f0f921"
             ]
            ],
            "type": "contour"
           }
          ],
          "contourcarpet": [
           {
            "colorbar": {
             "outlinewidth": 0,
             "ticks": ""
            },
            "type": "contourcarpet"
           }
          ],
          "heatmap": [
           {
            "colorbar": {
             "outlinewidth": 0,
             "ticks": ""
            },
            "colorscale": [
             [
              0,
              "#0d0887"
             ],
             [
              0.1111111111111111,
              "#46039f"
             ],
             [
              0.2222222222222222,
              "#7201a8"
             ],
             [
              0.3333333333333333,
              "#9c179e"
             ],
             [
              0.4444444444444444,
              "#bd3786"
             ],
             [
              0.5555555555555556,
              "#d8576b"
             ],
             [
              0.6666666666666666,
              "#ed7953"
             ],
             [
              0.7777777777777778,
              "#fb9f3a"
             ],
             [
              0.8888888888888888,
              "#fdca26"
             ],
             [
              1,
              "#f0f921"
             ]
            ],
            "type": "heatmap"
           }
          ],
          "heatmapgl": [
           {
            "colorbar": {
             "outlinewidth": 0,
             "ticks": ""
            },
            "colorscale": [
             [
              0,
              "#0d0887"
             ],
             [
              0.1111111111111111,
              "#46039f"
             ],
             [
              0.2222222222222222,
              "#7201a8"
             ],
             [
              0.3333333333333333,
              "#9c179e"
             ],
             [
              0.4444444444444444,
              "#bd3786"
             ],
             [
              0.5555555555555556,
              "#d8576b"
             ],
             [
              0.6666666666666666,
              "#ed7953"
             ],
             [
              0.7777777777777778,
              "#fb9f3a"
             ],
             [
              0.8888888888888888,
              "#fdca26"
             ],
             [
              1,
              "#f0f921"
             ]
            ],
            "type": "heatmapgl"
           }
          ],
          "histogram": [
           {
            "marker": {
             "pattern": {
              "fillmode": "overlay",
              "size": 10,
              "solidity": 0.2
             }
            },
            "type": "histogram"
           }
          ],
          "histogram2d": [
           {
            "colorbar": {
             "outlinewidth": 0,
             "ticks": ""
            },
            "colorscale": [
             [
              0,
              "#0d0887"
             ],
             [
              0.1111111111111111,
              "#46039f"
             ],
             [
              0.2222222222222222,
              "#7201a8"
             ],
             [
              0.3333333333333333,
              "#9c179e"
             ],
             [
              0.4444444444444444,
              "#bd3786"
             ],
             [
              0.5555555555555556,
              "#d8576b"
             ],
             [
              0.6666666666666666,
              "#ed7953"
             ],
             [
              0.7777777777777778,
              "#fb9f3a"
             ],
             [
              0.8888888888888888,
              "#fdca26"
             ],
             [
              1,
              "#f0f921"
             ]
            ],
            "type": "histogram2d"
           }
          ],
          "histogram2dcontour": [
           {
            "colorbar": {
             "outlinewidth": 0,
             "ticks": ""
            },
            "colorscale": [
             [
              0,
              "#0d0887"
             ],
             [
              0.1111111111111111,
              "#46039f"
             ],
             [
              0.2222222222222222,
              "#7201a8"
             ],
             [
              0.3333333333333333,
              "#9c179e"
             ],
             [
              0.4444444444444444,
              "#bd3786"
             ],
             [
              0.5555555555555556,
              "#d8576b"
             ],
             [
              0.6666666666666666,
              "#ed7953"
             ],
             [
              0.7777777777777778,
              "#fb9f3a"
             ],
             [
              0.8888888888888888,
              "#fdca26"
             ],
             [
              1,
              "#f0f921"
             ]
            ],
            "type": "histogram2dcontour"
           }
          ],
          "mesh3d": [
           {
            "colorbar": {
             "outlinewidth": 0,
             "ticks": ""
            },
            "type": "mesh3d"
           }
          ],
          "parcoords": [
           {
            "line": {
             "colorbar": {
              "outlinewidth": 0,
              "ticks": ""
             }
            },
            "type": "parcoords"
           }
          ],
          "pie": [
           {
            "automargin": true,
            "type": "pie"
           }
          ],
          "scatter": [
           {
            "fillpattern": {
             "fillmode": "overlay",
             "size": 10,
             "solidity": 0.2
            },
            "type": "scatter"
           }
          ],
          "scatter3d": [
           {
            "line": {
             "colorbar": {
              "outlinewidth": 0,
              "ticks": ""
             }
            },
            "marker": {
             "colorbar": {
              "outlinewidth": 0,
              "ticks": ""
             }
            },
            "type": "scatter3d"
           }
          ],
          "scattercarpet": [
           {
            "marker": {
             "colorbar": {
              "outlinewidth": 0,
              "ticks": ""
             }
            },
            "type": "scattercarpet"
           }
          ],
          "scattergeo": [
           {
            "marker": {
             "colorbar": {
              "outlinewidth": 0,
              "ticks": ""
             }
            },
            "type": "scattergeo"
           }
          ],
          "scattergl": [
           {
            "marker": {
             "colorbar": {
              "outlinewidth": 0,
              "ticks": ""
             }
            },
            "type": "scattergl"
           }
          ],
          "scattermapbox": [
           {
            "marker": {
             "colorbar": {
              "outlinewidth": 0,
              "ticks": ""
             }
            },
            "type": "scattermapbox"
           }
          ],
          "scatterpolar": [
           {
            "marker": {
             "colorbar": {
              "outlinewidth": 0,
              "ticks": ""
             }
            },
            "type": "scatterpolar"
           }
          ],
          "scatterpolargl": [
           {
            "marker": {
             "colorbar": {
              "outlinewidth": 0,
              "ticks": ""
             }
            },
            "type": "scatterpolargl"
           }
          ],
          "scatterternary": [
           {
            "marker": {
             "colorbar": {
              "outlinewidth": 0,
              "ticks": ""
             }
            },
            "type": "scatterternary"
           }
          ],
          "surface": [
           {
            "colorbar": {
             "outlinewidth": 0,
             "ticks": ""
            },
            "colorscale": [
             [
              0,
              "#0d0887"
             ],
             [
              0.1111111111111111,
              "#46039f"
             ],
             [
              0.2222222222222222,
              "#7201a8"
             ],
             [
              0.3333333333333333,
              "#9c179e"
             ],
             [
              0.4444444444444444,
              "#bd3786"
             ],
             [
              0.5555555555555556,
              "#d8576b"
             ],
             [
              0.6666666666666666,
              "#ed7953"
             ],
             [
              0.7777777777777778,
              "#fb9f3a"
             ],
             [
              0.8888888888888888,
              "#fdca26"
             ],
             [
              1,
              "#f0f921"
             ]
            ],
            "type": "surface"
           }
          ],
          "table": [
           {
            "cells": {
             "fill": {
              "color": "#EBF0F8"
             },
             "line": {
              "color": "white"
             }
            },
            "header": {
             "fill": {
              "color": "#C8D4E3"
             },
             "line": {
              "color": "white"
             }
            },
            "type": "table"
           }
          ]
         },
         "layout": {
          "annotationdefaults": {
           "arrowcolor": "#2a3f5f",
           "arrowhead": 0,
           "arrowwidth": 1
          },
          "autotypenumbers": "strict",
          "coloraxis": {
           "colorbar": {
            "outlinewidth": 0,
            "ticks": ""
           }
          },
          "colorscale": {
           "diverging": [
            [
             0,
             "#8e0152"
            ],
            [
             0.1,
             "#c51b7d"
            ],
            [
             0.2,
             "#de77ae"
            ],
            [
             0.3,
             "#f1b6da"
            ],
            [
             0.4,
             "#fde0ef"
            ],
            [
             0.5,
             "#f7f7f7"
            ],
            [
             0.6,
             "#e6f5d0"
            ],
            [
             0.7,
             "#b8e186"
            ],
            [
             0.8,
             "#7fbc41"
            ],
            [
             0.9,
             "#4d9221"
            ],
            [
             1,
             "#276419"
            ]
           ],
           "sequential": [
            [
             0,
             "#0d0887"
            ],
            [
             0.1111111111111111,
             "#46039f"
            ],
            [
             0.2222222222222222,
             "#7201a8"
            ],
            [
             0.3333333333333333,
             "#9c179e"
            ],
            [
             0.4444444444444444,
             "#bd3786"
            ],
            [
             0.5555555555555556,
             "#d8576b"
            ],
            [
             0.6666666666666666,
             "#ed7953"
            ],
            [
             0.7777777777777778,
             "#fb9f3a"
            ],
            [
             0.8888888888888888,
             "#fdca26"
            ],
            [
             1,
             "#f0f921"
            ]
           ],
           "sequentialminus": [
            [
             0,
             "#0d0887"
            ],
            [
             0.1111111111111111,
             "#46039f"
            ],
            [
             0.2222222222222222,
             "#7201a8"
            ],
            [
             0.3333333333333333,
             "#9c179e"
            ],
            [
             0.4444444444444444,
             "#bd3786"
            ],
            [
             0.5555555555555556,
             "#d8576b"
            ],
            [
             0.6666666666666666,
             "#ed7953"
            ],
            [
             0.7777777777777778,
             "#fb9f3a"
            ],
            [
             0.8888888888888888,
             "#fdca26"
            ],
            [
             1,
             "#f0f921"
            ]
           ]
          },
          "colorway": [
           "#636efa",
           "#EF553B",
           "#00cc96",
           "#ab63fa",
           "#FFA15A",
           "#19d3f3",
           "#FF6692",
           "#B6E880",
           "#FF97FF",
           "#FECB52"
          ],
          "font": {
           "color": "#2a3f5f"
          },
          "geo": {
           "bgcolor": "white",
           "lakecolor": "white",
           "landcolor": "#E5ECF6",
           "showlakes": true,
           "showland": true,
           "subunitcolor": "white"
          },
          "hoverlabel": {
           "align": "left"
          },
          "hovermode": "closest",
          "mapbox": {
           "style": "light"
          },
          "paper_bgcolor": "white",
          "plot_bgcolor": "#E5ECF6",
          "polar": {
           "angularaxis": {
            "gridcolor": "white",
            "linecolor": "white",
            "ticks": ""
           },
           "bgcolor": "#E5ECF6",
           "radialaxis": {
            "gridcolor": "white",
            "linecolor": "white",
            "ticks": ""
           }
          },
          "scene": {
           "xaxis": {
            "backgroundcolor": "#E5ECF6",
            "gridcolor": "white",
            "gridwidth": 2,
            "linecolor": "white",
            "showbackground": true,
            "ticks": "",
            "zerolinecolor": "white"
           },
           "yaxis": {
            "backgroundcolor": "#E5ECF6",
            "gridcolor": "white",
            "gridwidth": 2,
            "linecolor": "white",
            "showbackground": true,
            "ticks": "",
            "zerolinecolor": "white"
           },
           "zaxis": {
            "backgroundcolor": "#E5ECF6",
            "gridcolor": "white",
            "gridwidth": 2,
            "linecolor": "white",
            "showbackground": true,
            "ticks": "",
            "zerolinecolor": "white"
           }
          },
          "shapedefaults": {
           "line": {
            "color": "#2a3f5f"
           }
          },
          "ternary": {
           "aaxis": {
            "gridcolor": "white",
            "linecolor": "white",
            "ticks": ""
           },
           "baxis": {
            "gridcolor": "white",
            "linecolor": "white",
            "ticks": ""
           },
           "bgcolor": "#E5ECF6",
           "caxis": {
            "gridcolor": "white",
            "linecolor": "white",
            "ticks": ""
           }
          },
          "title": {
           "x": 0.05
          },
          "xaxis": {
           "automargin": true,
           "gridcolor": "white",
           "linecolor": "white",
           "ticks": "",
           "title": {
            "standoff": 15
           },
           "zerolinecolor": "white",
           "zerolinewidth": 2
          },
          "yaxis": {
           "automargin": true,
           "gridcolor": "white",
           "linecolor": "white",
           "ticks": "",
           "title": {
            "standoff": 15
           },
           "zerolinecolor": "white",
           "zerolinewidth": 2
          }
         }
        },
        "title": {
         "text": "Total Number of Sacks by School"
        },
        "xaxis": {
         "anchor": "y",
         "domain": [
          0,
          1
         ],
         "tickangle": 45,
         "title": {
          "text": "School"
         }
        },
        "yaxis": {
         "anchor": "x",
         "domain": [
          0,
          1
         ],
         "title": {
          "text": "Total Sacks"
         }
        }
       }
      },
      "text/html": [
       "<div>                            <div id=\"13994e9c-f193-4cc1-a06e-ca3a6cc9e2f3\" class=\"plotly-graph-div\" style=\"height:525px; width:100%;\"></div>            <script type=\"text/javascript\">                require([\"plotly\"], function(Plotly) {                    window.PLOTLYENV=window.PLOTLYENV || {};                                    if (document.getElementById(\"13994e9c-f193-4cc1-a06e-ca3a6cc9e2f3\")) {                    Plotly.newPlot(                        \"13994e9c-f193-4cc1-a06e-ca3a6cc9e2f3\",                        [{\"alignmentgroup\":\"True\",\"hovertemplate\":\"Color=skyblue\\u003cbr\\u003eSchool=%{x}\\u003cbr\\u003eTotal Sacks=%{text}\\u003cextra\\u003e\\u003c\\u002fextra\\u003e\",\"legendgroup\":\"skyblue\",\"marker\":{\"color\":\"#636efa\",\"pattern\":{\"shape\":\"\"}},\"name\":\"skyblue\",\"offsetgroup\":\"skyblue\",\"orientation\":\"v\",\"showlegend\":true,\"text\":[41.0,38.0,34.0,34.0,33.0,32.0,31.0,31.0,31.0,30.0,30.0,29.0,29.0,29.0,28.0,28.0,27.0,27.0,27.0,27.0,27.0,26.0,25.0,25.0,25.0,25.0,25.0,25.0,25.0,25.0,24.0,24.0,24.0,23.0,23.0,23.0,23.0,23.0,23.0,23.0,23.0,23.0,22.0,22.0,22.0,22.0,22.0,22.0,21.5,21.0,21.0,21.0,21.0,21.0,21.0,21.0,21.0,21.0,21.0,20.0,20.0,20.0,20.0,20.0,20.0,20.0,20.0,20.0,20.0,19.0,19.0,19.0,19.0,19.0,19.0,18.0,18.0,18.0,18.0,18.0,18.0,18.0,18.0,17.0,17.0,17.0,17.0,17.0,17.0,17.0,17.0,17.0,17.0,17.0,17.0,17.0,16.0,16.0,16.0,16.0,16.0,16.0,16.0,15.0,15.0,15.0,15.0,15.0,15.0,14.0,14.0,14.0,14.0,14.0,14.0,13.0,13.0,13.0,13.0,12.0,11.0,11.0,11.0,11.0,11.0,11.0,9.0,9.0,8.0],\"textposition\":\"auto\",\"x\":[\"JMU\",\"PSU\",\"TA&M\",\"UCLA\",\"JVST\",\"UTSA\",\"MISS\",\"SMU\",\"VT\",\"ORST\",\"TENN\",\"UTAH\",\"MIA\",\"ALA\",\"ORE\",\"NEB\",\"PUR\",\"MIZ\",\"NCSU\",\"MD\",\"UL\",\"TXST\",\"PITT\",\"M-OH\",\"CSU\",\"MRSH\",\"MSU\",\"ARK\",\"NMSU\",\"FSU\",\"WIS\",\"USC\",\"USM\",\"UCF\",\"LOU\",\"ARIZ\",\"UK\",\"UTEP\",\"COLO\",\"TULN\",\"TOL\",\"UNC\",\"MICH\",\"SYR\",\"TEX\",\"TCU\",\"OHIO\",\"ASU\",\"APP\",\"WMU\",\"WKU\",\"USA\",\"MINN\",\"MSST\",\"AFA\",\"BGSU\",\"FRES\",\"KU\",\"AUB\",\"WAKE\",\"DUKE\",\"UNLV\",\"TROY\",\"ND\",\"UAB\",\"NAVY\",\"OKST\",\"STAN\",\"VAN\",\"USF\",\"BOIS\",\"GAST\",\"KSU\",\"UGA\",\"GASO\",\"IOWA\",\"BALL\",\"NU\",\"HOU\",\"IU\",\"HAW\",\"CLT\",\"WVU\",\"ULM\",\"MASS\",\"MEM\",\"OU\",\"SDSU\",\"LIB\",\"ARST\",\"AKR\",\"NIU\",\"OSU\",\"CIN\",\"RUTG\",\"SC\",\"BAY\",\"EMU\",\"TTU\",\"RICE\",\"FLA\",\"LSU\",\"USU\",\"BUFF\",\"CCU\",\"WSU\",\"WYO\",\"MTSU\",\"NEV\",\"FIU\",\"LT\",\"ISU\",\"ILL\",\"SJSU\",\"CMU\",\"ODU\",\"WASH\",\"ARMY\",\"TEM\",\"TLSA\",\"ECU\",\"SHSU\",\"BC\",\"CAL\",\"UNT\",\"CONN\",\"UNM\",\"KENT\",\"BYU\"],\"xaxis\":\"x\",\"y\":[41.0,38.0,34.0,34.0,33.0,32.0,31.0,31.0,31.0,30.0,30.0,29.0,29.0,29.0,28.0,28.0,27.0,27.0,27.0,27.0,27.0,26.0,25.0,25.0,25.0,25.0,25.0,25.0,25.0,25.0,24.0,24.0,24.0,23.0,23.0,23.0,23.0,23.0,23.0,23.0,23.0,23.0,22.0,22.0,22.0,22.0,22.0,22.0,21.5,21.0,21.0,21.0,21.0,21.0,21.0,21.0,21.0,21.0,21.0,20.0,20.0,20.0,20.0,20.0,20.0,20.0,20.0,20.0,20.0,19.0,19.0,19.0,19.0,19.0,19.0,18.0,18.0,18.0,18.0,18.0,18.0,18.0,18.0,17.0,17.0,17.0,17.0,17.0,17.0,17.0,17.0,17.0,17.0,17.0,17.0,17.0,16.0,16.0,16.0,16.0,16.0,16.0,16.0,15.0,15.0,15.0,15.0,15.0,15.0,14.0,14.0,14.0,14.0,14.0,14.0,13.0,13.0,13.0,13.0,12.0,11.0,11.0,11.0,11.0,11.0,11.0,9.0,9.0,8.0],\"yaxis\":\"y\",\"type\":\"bar\"},{\"alignmentgroup\":\"True\",\"hovertemplate\":\"Color=orange\\u003cbr\\u003eSchool=%{x}\\u003cbr\\u003eTotal Sacks=%{text}\\u003cextra\\u003e\\u003c\\u002fextra\\u003e\",\"legendgroup\":\"orange\",\"marker\":{\"color\":\"#EF553B\",\"pattern\":{\"shape\":\"\"}},\"name\":\"orange\",\"offsetgroup\":\"orange\",\"orientation\":\"v\",\"showlegend\":true,\"text\":[23.0,21.0,15.0,8.0],\"textposition\":\"auto\",\"x\":[\"FAU\",\"CLEM\",\"GT\",\"UVA\"],\"xaxis\":\"x\",\"y\":[23.0,21.0,15.0,8.0],\"yaxis\":\"y\",\"type\":\"bar\"}],                        {\"template\":{\"data\":{\"histogram2dcontour\":[{\"type\":\"histogram2dcontour\",\"colorbar\":{\"outlinewidth\":0,\"ticks\":\"\"},\"colorscale\":[[0.0,\"#0d0887\"],[0.1111111111111111,\"#46039f\"],[0.2222222222222222,\"#7201a8\"],[0.3333333333333333,\"#9c179e\"],[0.4444444444444444,\"#bd3786\"],[0.5555555555555556,\"#d8576b\"],[0.6666666666666666,\"#ed7953\"],[0.7777777777777778,\"#fb9f3a\"],[0.8888888888888888,\"#fdca26\"],[1.0,\"#f0f921\"]]}],\"choropleth\":[{\"type\":\"choropleth\",\"colorbar\":{\"outlinewidth\":0,\"ticks\":\"\"}}],\"histogram2d\":[{\"type\":\"histogram2d\",\"colorbar\":{\"outlinewidth\":0,\"ticks\":\"\"},\"colorscale\":[[0.0,\"#0d0887\"],[0.1111111111111111,\"#46039f\"],[0.2222222222222222,\"#7201a8\"],[0.3333333333333333,\"#9c179e\"],[0.4444444444444444,\"#bd3786\"],[0.5555555555555556,\"#d8576b\"],[0.6666666666666666,\"#ed7953\"],[0.7777777777777778,\"#fb9f3a\"],[0.8888888888888888,\"#fdca26\"],[1.0,\"#f0f921\"]]}],\"heatmap\":[{\"type\":\"heatmap\",\"colorbar\":{\"outlinewidth\":0,\"ticks\":\"\"},\"colorscale\":[[0.0,\"#0d0887\"],[0.1111111111111111,\"#46039f\"],[0.2222222222222222,\"#7201a8\"],[0.3333333333333333,\"#9c179e\"],[0.4444444444444444,\"#bd3786\"],[0.5555555555555556,\"#d8576b\"],[0.6666666666666666,\"#ed7953\"],[0.7777777777777778,\"#fb9f3a\"],[0.8888888888888888,\"#fdca26\"],[1.0,\"#f0f921\"]]}],\"heatmapgl\":[{\"type\":\"heatmapgl\",\"colorbar\":{\"outlinewidth\":0,\"ticks\":\"\"},\"colorscale\":[[0.0,\"#0d0887\"],[0.1111111111111111,\"#46039f\"],[0.2222222222222222,\"#7201a8\"],[0.3333333333333333,\"#9c179e\"],[0.4444444444444444,\"#bd3786\"],[0.5555555555555556,\"#d8576b\"],[0.6666666666666666,\"#ed7953\"],[0.7777777777777778,\"#fb9f3a\"],[0.8888888888888888,\"#fdca26\"],[1.0,\"#f0f921\"]]}],\"contourcarpet\":[{\"type\":\"contourcarpet\",\"colorbar\":{\"outlinewidth\":0,\"ticks\":\"\"}}],\"contour\":[{\"type\":\"contour\",\"colorbar\":{\"outlinewidth\":0,\"ticks\":\"\"},\"colorscale\":[[0.0,\"#0d0887\"],[0.1111111111111111,\"#46039f\"],[0.2222222222222222,\"#7201a8\"],[0.3333333333333333,\"#9c179e\"],[0.4444444444444444,\"#bd3786\"],[0.5555555555555556,\"#d8576b\"],[0.6666666666666666,\"#ed7953\"],[0.7777777777777778,\"#fb9f3a\"],[0.8888888888888888,\"#fdca26\"],[1.0,\"#f0f921\"]]}],\"surface\":[{\"type\":\"surface\",\"colorbar\":{\"outlinewidth\":0,\"ticks\":\"\"},\"colorscale\":[[0.0,\"#0d0887\"],[0.1111111111111111,\"#46039f\"],[0.2222222222222222,\"#7201a8\"],[0.3333333333333333,\"#9c179e\"],[0.4444444444444444,\"#bd3786\"],[0.5555555555555556,\"#d8576b\"],[0.6666666666666666,\"#ed7953\"],[0.7777777777777778,\"#fb9f3a\"],[0.8888888888888888,\"#fdca26\"],[1.0,\"#f0f921\"]]}],\"mesh3d\":[{\"type\":\"mesh3d\",\"colorbar\":{\"outlinewidth\":0,\"ticks\":\"\"}}],\"scatter\":[{\"fillpattern\":{\"fillmode\":\"overlay\",\"size\":10,\"solidity\":0.2},\"type\":\"scatter\"}],\"parcoords\":[{\"type\":\"parcoords\",\"line\":{\"colorbar\":{\"outlinewidth\":0,\"ticks\":\"\"}}}],\"scatterpolargl\":[{\"type\":\"scatterpolargl\",\"marker\":{\"colorbar\":{\"outlinewidth\":0,\"ticks\":\"\"}}}],\"bar\":[{\"error_x\":{\"color\":\"#2a3f5f\"},\"error_y\":{\"color\":\"#2a3f5f\"},\"marker\":{\"line\":{\"color\":\"#E5ECF6\",\"width\":0.5},\"pattern\":{\"fillmode\":\"overlay\",\"size\":10,\"solidity\":0.2}},\"type\":\"bar\"}],\"scattergeo\":[{\"type\":\"scattergeo\",\"marker\":{\"colorbar\":{\"outlinewidth\":0,\"ticks\":\"\"}}}],\"scatterpolar\":[{\"type\":\"scatterpolar\",\"marker\":{\"colorbar\":{\"outlinewidth\":0,\"ticks\":\"\"}}}],\"histogram\":[{\"marker\":{\"pattern\":{\"fillmode\":\"overlay\",\"size\":10,\"solidity\":0.2}},\"type\":\"histogram\"}],\"scattergl\":[{\"type\":\"scattergl\",\"marker\":{\"colorbar\":{\"outlinewidth\":0,\"ticks\":\"\"}}}],\"scatter3d\":[{\"type\":\"scatter3d\",\"line\":{\"colorbar\":{\"outlinewidth\":0,\"ticks\":\"\"}},\"marker\":{\"colorbar\":{\"outlinewidth\":0,\"ticks\":\"\"}}}],\"scattermapbox\":[{\"type\":\"scattermapbox\",\"marker\":{\"colorbar\":{\"outlinewidth\":0,\"ticks\":\"\"}}}],\"scatterternary\":[{\"type\":\"scatterternary\",\"marker\":{\"colorbar\":{\"outlinewidth\":0,\"ticks\":\"\"}}}],\"scattercarpet\":[{\"type\":\"scattercarpet\",\"marker\":{\"colorbar\":{\"outlinewidth\":0,\"ticks\":\"\"}}}],\"carpet\":[{\"aaxis\":{\"endlinecolor\":\"#2a3f5f\",\"gridcolor\":\"white\",\"linecolor\":\"white\",\"minorgridcolor\":\"white\",\"startlinecolor\":\"#2a3f5f\"},\"baxis\":{\"endlinecolor\":\"#2a3f5f\",\"gridcolor\":\"white\",\"linecolor\":\"white\",\"minorgridcolor\":\"white\",\"startlinecolor\":\"#2a3f5f\"},\"type\":\"carpet\"}],\"table\":[{\"cells\":{\"fill\":{\"color\":\"#EBF0F8\"},\"line\":{\"color\":\"white\"}},\"header\":{\"fill\":{\"color\":\"#C8D4E3\"},\"line\":{\"color\":\"white\"}},\"type\":\"table\"}],\"barpolar\":[{\"marker\":{\"line\":{\"color\":\"#E5ECF6\",\"width\":0.5},\"pattern\":{\"fillmode\":\"overlay\",\"size\":10,\"solidity\":0.2}},\"type\":\"barpolar\"}],\"pie\":[{\"automargin\":true,\"type\":\"pie\"}]},\"layout\":{\"autotypenumbers\":\"strict\",\"colorway\":[\"#636efa\",\"#EF553B\",\"#00cc96\",\"#ab63fa\",\"#FFA15A\",\"#19d3f3\",\"#FF6692\",\"#B6E880\",\"#FF97FF\",\"#FECB52\"],\"font\":{\"color\":\"#2a3f5f\"},\"hovermode\":\"closest\",\"hoverlabel\":{\"align\":\"left\"},\"paper_bgcolor\":\"white\",\"plot_bgcolor\":\"#E5ECF6\",\"polar\":{\"bgcolor\":\"#E5ECF6\",\"angularaxis\":{\"gridcolor\":\"white\",\"linecolor\":\"white\",\"ticks\":\"\"},\"radialaxis\":{\"gridcolor\":\"white\",\"linecolor\":\"white\",\"ticks\":\"\"}},\"ternary\":{\"bgcolor\":\"#E5ECF6\",\"aaxis\":{\"gridcolor\":\"white\",\"linecolor\":\"white\",\"ticks\":\"\"},\"baxis\":{\"gridcolor\":\"white\",\"linecolor\":\"white\",\"ticks\":\"\"},\"caxis\":{\"gridcolor\":\"white\",\"linecolor\":\"white\",\"ticks\":\"\"}},\"coloraxis\":{\"colorbar\":{\"outlinewidth\":0,\"ticks\":\"\"}},\"colorscale\":{\"sequential\":[[0.0,\"#0d0887\"],[0.1111111111111111,\"#46039f\"],[0.2222222222222222,\"#7201a8\"],[0.3333333333333333,\"#9c179e\"],[0.4444444444444444,\"#bd3786\"],[0.5555555555555556,\"#d8576b\"],[0.6666666666666666,\"#ed7953\"],[0.7777777777777778,\"#fb9f3a\"],[0.8888888888888888,\"#fdca26\"],[1.0,\"#f0f921\"]],\"sequentialminus\":[[0.0,\"#0d0887\"],[0.1111111111111111,\"#46039f\"],[0.2222222222222222,\"#7201a8\"],[0.3333333333333333,\"#9c179e\"],[0.4444444444444444,\"#bd3786\"],[0.5555555555555556,\"#d8576b\"],[0.6666666666666666,\"#ed7953\"],[0.7777777777777778,\"#fb9f3a\"],[0.8888888888888888,\"#fdca26\"],[1.0,\"#f0f921\"]],\"diverging\":[[0,\"#8e0152\"],[0.1,\"#c51b7d\"],[0.2,\"#de77ae\"],[0.3,\"#f1b6da\"],[0.4,\"#fde0ef\"],[0.5,\"#f7f7f7\"],[0.6,\"#e6f5d0\"],[0.7,\"#b8e186\"],[0.8,\"#7fbc41\"],[0.9,\"#4d9221\"],[1,\"#276419\"]]},\"xaxis\":{\"gridcolor\":\"white\",\"linecolor\":\"white\",\"ticks\":\"\",\"title\":{\"standoff\":15},\"zerolinecolor\":\"white\",\"automargin\":true,\"zerolinewidth\":2},\"yaxis\":{\"gridcolor\":\"white\",\"linecolor\":\"white\",\"ticks\":\"\",\"title\":{\"standoff\":15},\"zerolinecolor\":\"white\",\"automargin\":true,\"zerolinewidth\":2},\"scene\":{\"xaxis\":{\"backgroundcolor\":\"#E5ECF6\",\"gridcolor\":\"white\",\"linecolor\":\"white\",\"showbackground\":true,\"ticks\":\"\",\"zerolinecolor\":\"white\",\"gridwidth\":2},\"yaxis\":{\"backgroundcolor\":\"#E5ECF6\",\"gridcolor\":\"white\",\"linecolor\":\"white\",\"showbackground\":true,\"ticks\":\"\",\"zerolinecolor\":\"white\",\"gridwidth\":2},\"zaxis\":{\"backgroundcolor\":\"#E5ECF6\",\"gridcolor\":\"white\",\"linecolor\":\"white\",\"showbackground\":true,\"ticks\":\"\",\"zerolinecolor\":\"white\",\"gridwidth\":2}},\"shapedefaults\":{\"line\":{\"color\":\"#2a3f5f\"}},\"annotationdefaults\":{\"arrowcolor\":\"#2a3f5f\",\"arrowhead\":0,\"arrowwidth\":1},\"geo\":{\"bgcolor\":\"white\",\"landcolor\":\"#E5ECF6\",\"subunitcolor\":\"white\",\"showland\":true,\"showlakes\":true,\"lakecolor\":\"white\"},\"title\":{\"x\":0.05},\"mapbox\":{\"style\":\"light\"}}},\"xaxis\":{\"anchor\":\"y\",\"domain\":[0.0,1.0],\"title\":{\"text\":\"School\"},\"tickangle\":45},\"yaxis\":{\"anchor\":\"x\",\"domain\":[0.0,1.0],\"title\":{\"text\":\"Total Sacks\"}},\"legend\":{\"title\":{\"text\":\"Color\"},\"tracegroupgap\":0},\"title\":{\"text\":\"Total Number of Sacks by School\"},\"barmode\":\"relative\"},                        {\"responsive\": true}                    ).then(function(){\n",
       "                            \n",
       "var gd = document.getElementById('13994e9c-f193-4cc1-a06e-ca3a6cc9e2f3');\n",
       "var x = new MutationObserver(function (mutations, observer) {{\n",
       "        var display = window.getComputedStyle(gd).display;\n",
       "        if (!display || display === 'none') {{\n",
       "            console.log([gd, 'removed!']);\n",
       "            Plotly.purge(gd);\n",
       "            observer.disconnect();\n",
       "        }}\n",
       "}});\n",
       "\n",
       "// Listen for the removal of the full notebook cells\n",
       "var notebookContainer = gd.closest('#notebook-container');\n",
       "if (notebookContainer) {{\n",
       "    x.observe(notebookContainer, {childList: true});\n",
       "}}\n",
       "\n",
       "// Listen for the clearing of the current output cell\n",
       "var outputEl = gd.closest('.output');\n",
       "if (outputEl) {{\n",
       "    x.observe(outputEl, {childList: true});\n",
       "}}\n",
       "\n",
       "                        })                };                });            </script>        </div>"
      ]
     },
     "metadata": {},
     "output_type": "display_data"
    },
    {
     "data": {
      "application/vnd.plotly.v1+json": {
       "config": {
        "plotlyServerURL": "https://plot.ly"
       },
       "data": [
        {
         "alignmentgroup": "True",
         "bingroup": "x",
         "hovertemplate": "Total Tackles=%{x}<br>count=%{y}<extra></extra>",
         "legendgroup": "",
         "marker": {
          "color": "blue",
          "opacity": 0.7,
          "pattern": {
           "shape": ""
          }
         },
         "name": "",
         "nbinsx": 20,
         "offsetgroup": "",
         "orientation": "v",
         "showlegend": false,
         "type": "histogram",
         "x": [
          823,
          781,
          735,
          724,
          717,
          706,
          692,
          684,
          683,
          682,
          677,
          677,
          672,
          672,
          670,
          663,
          657,
          656,
          653,
          645,
          644,
          640,
          635,
          634,
          633,
          631,
          631,
          630,
          630,
          630,
          629,
          626,
          623,
          622,
          622,
          620,
          619,
          619,
          615,
          614,
          613,
          612,
          612,
          609,
          605,
          605,
          605,
          605,
          605,
          605,
          600,
          599,
          596,
          595,
          595,
          595,
          594,
          594,
          593,
          592,
          592,
          588,
          588,
          588,
          587,
          587,
          587,
          587,
          585,
          584,
          583,
          583,
          583,
          583,
          582,
          582,
          580,
          578,
          577,
          577,
          577,
          576,
          574,
          574,
          573,
          573,
          573,
          571,
          570,
          569,
          568,
          568,
          563,
          562,
          561,
          560,
          560,
          559,
          559,
          558,
          558,
          556,
          552,
          552,
          551,
          550,
          550,
          548,
          547,
          547,
          546,
          542,
          538,
          537,
          536,
          532,
          532,
          532,
          529,
          524,
          522,
          521,
          519,
          519,
          515,
          511,
          509,
          505,
          504,
          502,
          500,
          482,
          447
         ],
         "xaxis": "x",
         "yaxis": "y"
        },
        {
         "alignmentgroup": "True",
         "hovertemplate": "Total Tackles=%{x}<extra></extra>",
         "legendgroup": "",
         "marker": {
          "color": "blue"
         },
         "name": "",
         "notched": true,
         "offsetgroup": "",
         "showlegend": false,
         "type": "box",
         "x": [
          823,
          781,
          735,
          724,
          717,
          706,
          692,
          684,
          683,
          682,
          677,
          677,
          672,
          672,
          670,
          663,
          657,
          656,
          653,
          645,
          644,
          640,
          635,
          634,
          633,
          631,
          631,
          630,
          630,
          630,
          629,
          626,
          623,
          622,
          622,
          620,
          619,
          619,
          615,
          614,
          613,
          612,
          612,
          609,
          605,
          605,
          605,
          605,
          605,
          605,
          600,
          599,
          596,
          595,
          595,
          595,
          594,
          594,
          593,
          592,
          592,
          588,
          588,
          588,
          587,
          587,
          587,
          587,
          585,
          584,
          583,
          583,
          583,
          583,
          582,
          582,
          580,
          578,
          577,
          577,
          577,
          576,
          574,
          574,
          573,
          573,
          573,
          571,
          570,
          569,
          568,
          568,
          563,
          562,
          561,
          560,
          560,
          559,
          559,
          558,
          558,
          556,
          552,
          552,
          551,
          550,
          550,
          548,
          547,
          547,
          546,
          542,
          538,
          537,
          536,
          532,
          532,
          532,
          529,
          524,
          522,
          521,
          519,
          519,
          515,
          511,
          509,
          505,
          504,
          502,
          500,
          482,
          447
         ],
         "xaxis": "x2",
         "yaxis": "y2"
        }
       ],
       "layout": {
        "barmode": "relative",
        "legend": {
         "tracegroupgap": 0
        },
        "template": {
         "data": {
          "bar": [
           {
            "error_x": {
             "color": "#2a3f5f"
            },
            "error_y": {
             "color": "#2a3f5f"
            },
            "marker": {
             "line": {
              "color": "#E5ECF6",
              "width": 0.5
             },
             "pattern": {
              "fillmode": "overlay",
              "size": 10,
              "solidity": 0.2
             }
            },
            "type": "bar"
           }
          ],
          "barpolar": [
           {
            "marker": {
             "line": {
              "color": "#E5ECF6",
              "width": 0.5
             },
             "pattern": {
              "fillmode": "overlay",
              "size": 10,
              "solidity": 0.2
             }
            },
            "type": "barpolar"
           }
          ],
          "carpet": [
           {
            "aaxis": {
             "endlinecolor": "#2a3f5f",
             "gridcolor": "white",
             "linecolor": "white",
             "minorgridcolor": "white",
             "startlinecolor": "#2a3f5f"
            },
            "baxis": {
             "endlinecolor": "#2a3f5f",
             "gridcolor": "white",
             "linecolor": "white",
             "minorgridcolor": "white",
             "startlinecolor": "#2a3f5f"
            },
            "type": "carpet"
           }
          ],
          "choropleth": [
           {
            "colorbar": {
             "outlinewidth": 0,
             "ticks": ""
            },
            "type": "choropleth"
           }
          ],
          "contour": [
           {
            "colorbar": {
             "outlinewidth": 0,
             "ticks": ""
            },
            "colorscale": [
             [
              0,
              "#0d0887"
             ],
             [
              0.1111111111111111,
              "#46039f"
             ],
             [
              0.2222222222222222,
              "#7201a8"
             ],
             [
              0.3333333333333333,
              "#9c179e"
             ],
             [
              0.4444444444444444,
              "#bd3786"
             ],
             [
              0.5555555555555556,
              "#d8576b"
             ],
             [
              0.6666666666666666,
              "#ed7953"
             ],
             [
              0.7777777777777778,
              "#fb9f3a"
             ],
             [
              0.8888888888888888,
              "#fdca26"
             ],
             [
              1,
              "#f0f921"
             ]
            ],
            "type": "contour"
           }
          ],
          "contourcarpet": [
           {
            "colorbar": {
             "outlinewidth": 0,
             "ticks": ""
            },
            "type": "contourcarpet"
           }
          ],
          "heatmap": [
           {
            "colorbar": {
             "outlinewidth": 0,
             "ticks": ""
            },
            "colorscale": [
             [
              0,
              "#0d0887"
             ],
             [
              0.1111111111111111,
              "#46039f"
             ],
             [
              0.2222222222222222,
              "#7201a8"
             ],
             [
              0.3333333333333333,
              "#9c179e"
             ],
             [
              0.4444444444444444,
              "#bd3786"
             ],
             [
              0.5555555555555556,
              "#d8576b"
             ],
             [
              0.6666666666666666,
              "#ed7953"
             ],
             [
              0.7777777777777778,
              "#fb9f3a"
             ],
             [
              0.8888888888888888,
              "#fdca26"
             ],
             [
              1,
              "#f0f921"
             ]
            ],
            "type": "heatmap"
           }
          ],
          "heatmapgl": [
           {
            "colorbar": {
             "outlinewidth": 0,
             "ticks": ""
            },
            "colorscale": [
             [
              0,
              "#0d0887"
             ],
             [
              0.1111111111111111,
              "#46039f"
             ],
             [
              0.2222222222222222,
              "#7201a8"
             ],
             [
              0.3333333333333333,
              "#9c179e"
             ],
             [
              0.4444444444444444,
              "#bd3786"
             ],
             [
              0.5555555555555556,
              "#d8576b"
             ],
             [
              0.6666666666666666,
              "#ed7953"
             ],
             [
              0.7777777777777778,
              "#fb9f3a"
             ],
             [
              0.8888888888888888,
              "#fdca26"
             ],
             [
              1,
              "#f0f921"
             ]
            ],
            "type": "heatmapgl"
           }
          ],
          "histogram": [
           {
            "marker": {
             "pattern": {
              "fillmode": "overlay",
              "size": 10,
              "solidity": 0.2
             }
            },
            "type": "histogram"
           }
          ],
          "histogram2d": [
           {
            "colorbar": {
             "outlinewidth": 0,
             "ticks": ""
            },
            "colorscale": [
             [
              0,
              "#0d0887"
             ],
             [
              0.1111111111111111,
              "#46039f"
             ],
             [
              0.2222222222222222,
              "#7201a8"
             ],
             [
              0.3333333333333333,
              "#9c179e"
             ],
             [
              0.4444444444444444,
              "#bd3786"
             ],
             [
              0.5555555555555556,
              "#d8576b"
             ],
             [
              0.6666666666666666,
              "#ed7953"
             ],
             [
              0.7777777777777778,
              "#fb9f3a"
             ],
             [
              0.8888888888888888,
              "#fdca26"
             ],
             [
              1,
              "#f0f921"
             ]
            ],
            "type": "histogram2d"
           }
          ],
          "histogram2dcontour": [
           {
            "colorbar": {
             "outlinewidth": 0,
             "ticks": ""
            },
            "colorscale": [
             [
              0,
              "#0d0887"
             ],
             [
              0.1111111111111111,
              "#46039f"
             ],
             [
              0.2222222222222222,
              "#7201a8"
             ],
             [
              0.3333333333333333,
              "#9c179e"
             ],
             [
              0.4444444444444444,
              "#bd3786"
             ],
             [
              0.5555555555555556,
              "#d8576b"
             ],
             [
              0.6666666666666666,
              "#ed7953"
             ],
             [
              0.7777777777777778,
              "#fb9f3a"
             ],
             [
              0.8888888888888888,
              "#fdca26"
             ],
             [
              1,
              "#f0f921"
             ]
            ],
            "type": "histogram2dcontour"
           }
          ],
          "mesh3d": [
           {
            "colorbar": {
             "outlinewidth": 0,
             "ticks": ""
            },
            "type": "mesh3d"
           }
          ],
          "parcoords": [
           {
            "line": {
             "colorbar": {
              "outlinewidth": 0,
              "ticks": ""
             }
            },
            "type": "parcoords"
           }
          ],
          "pie": [
           {
            "automargin": true,
            "type": "pie"
           }
          ],
          "scatter": [
           {
            "fillpattern": {
             "fillmode": "overlay",
             "size": 10,
             "solidity": 0.2
            },
            "type": "scatter"
           }
          ],
          "scatter3d": [
           {
            "line": {
             "colorbar": {
              "outlinewidth": 0,
              "ticks": ""
             }
            },
            "marker": {
             "colorbar": {
              "outlinewidth": 0,
              "ticks": ""
             }
            },
            "type": "scatter3d"
           }
          ],
          "scattercarpet": [
           {
            "marker": {
             "colorbar": {
              "outlinewidth": 0,
              "ticks": ""
             }
            },
            "type": "scattercarpet"
           }
          ],
          "scattergeo": [
           {
            "marker": {
             "colorbar": {
              "outlinewidth": 0,
              "ticks": ""
             }
            },
            "type": "scattergeo"
           }
          ],
          "scattergl": [
           {
            "marker": {
             "colorbar": {
              "outlinewidth": 0,
              "ticks": ""
             }
            },
            "type": "scattergl"
           }
          ],
          "scattermapbox": [
           {
            "marker": {
             "colorbar": {
              "outlinewidth": 0,
              "ticks": ""
             }
            },
            "type": "scattermapbox"
           }
          ],
          "scatterpolar": [
           {
            "marker": {
             "colorbar": {
              "outlinewidth": 0,
              "ticks": ""
             }
            },
            "type": "scatterpolar"
           }
          ],
          "scatterpolargl": [
           {
            "marker": {
             "colorbar": {
              "outlinewidth": 0,
              "ticks": ""
             }
            },
            "type": "scatterpolargl"
           }
          ],
          "scatterternary": [
           {
            "marker": {
             "colorbar": {
              "outlinewidth": 0,
              "ticks": ""
             }
            },
            "type": "scatterternary"
           }
          ],
          "surface": [
           {
            "colorbar": {
             "outlinewidth": 0,
             "ticks": ""
            },
            "colorscale": [
             [
              0,
              "#0d0887"
             ],
             [
              0.1111111111111111,
              "#46039f"
             ],
             [
              0.2222222222222222,
              "#7201a8"
             ],
             [
              0.3333333333333333,
              "#9c179e"
             ],
             [
              0.4444444444444444,
              "#bd3786"
             ],
             [
              0.5555555555555556,
              "#d8576b"
             ],
             [
              0.6666666666666666,
              "#ed7953"
             ],
             [
              0.7777777777777778,
              "#fb9f3a"
             ],
             [
              0.8888888888888888,
              "#fdca26"
             ],
             [
              1,
              "#f0f921"
             ]
            ],
            "type": "surface"
           }
          ],
          "table": [
           {
            "cells": {
             "fill": {
              "color": "#EBF0F8"
             },
             "line": {
              "color": "white"
             }
            },
            "header": {
             "fill": {
              "color": "#C8D4E3"
             },
             "line": {
              "color": "white"
             }
            },
            "type": "table"
           }
          ]
         },
         "layout": {
          "annotationdefaults": {
           "arrowcolor": "#2a3f5f",
           "arrowhead": 0,
           "arrowwidth": 1
          },
          "autotypenumbers": "strict",
          "coloraxis": {
           "colorbar": {
            "outlinewidth": 0,
            "ticks": ""
           }
          },
          "colorscale": {
           "diverging": [
            [
             0,
             "#8e0152"
            ],
            [
             0.1,
             "#c51b7d"
            ],
            [
             0.2,
             "#de77ae"
            ],
            [
             0.3,
             "#f1b6da"
            ],
            [
             0.4,
             "#fde0ef"
            ],
            [
             0.5,
             "#f7f7f7"
            ],
            [
             0.6,
             "#e6f5d0"
            ],
            [
             0.7,
             "#b8e186"
            ],
            [
             0.8,
             "#7fbc41"
            ],
            [
             0.9,
             "#4d9221"
            ],
            [
             1,
             "#276419"
            ]
           ],
           "sequential": [
            [
             0,
             "#0d0887"
            ],
            [
             0.1111111111111111,
             "#46039f"
            ],
            [
             0.2222222222222222,
             "#7201a8"
            ],
            [
             0.3333333333333333,
             "#9c179e"
            ],
            [
             0.4444444444444444,
             "#bd3786"
            ],
            [
             0.5555555555555556,
             "#d8576b"
            ],
            [
             0.6666666666666666,
             "#ed7953"
            ],
            [
             0.7777777777777778,
             "#fb9f3a"
            ],
            [
             0.8888888888888888,
             "#fdca26"
            ],
            [
             1,
             "#f0f921"
            ]
           ],
           "sequentialminus": [
            [
             0,
             "#0d0887"
            ],
            [
             0.1111111111111111,
             "#46039f"
            ],
            [
             0.2222222222222222,
             "#7201a8"
            ],
            [
             0.3333333333333333,
             "#9c179e"
            ],
            [
             0.4444444444444444,
             "#bd3786"
            ],
            [
             0.5555555555555556,
             "#d8576b"
            ],
            [
             0.6666666666666666,
             "#ed7953"
            ],
            [
             0.7777777777777778,
             "#fb9f3a"
            ],
            [
             0.8888888888888888,
             "#fdca26"
            ],
            [
             1,
             "#f0f921"
            ]
           ]
          },
          "colorway": [
           "#636efa",
           "#EF553B",
           "#00cc96",
           "#ab63fa",
           "#FFA15A",
           "#19d3f3",
           "#FF6692",
           "#B6E880",
           "#FF97FF",
           "#FECB52"
          ],
          "font": {
           "color": "#2a3f5f"
          },
          "geo": {
           "bgcolor": "white",
           "lakecolor": "white",
           "landcolor": "#E5ECF6",
           "showlakes": true,
           "showland": true,
           "subunitcolor": "white"
          },
          "hoverlabel": {
           "align": "left"
          },
          "hovermode": "closest",
          "mapbox": {
           "style": "light"
          },
          "paper_bgcolor": "white",
          "plot_bgcolor": "#E5ECF6",
          "polar": {
           "angularaxis": {
            "gridcolor": "white",
            "linecolor": "white",
            "ticks": ""
           },
           "bgcolor": "#E5ECF6",
           "radialaxis": {
            "gridcolor": "white",
            "linecolor": "white",
            "ticks": ""
           }
          },
          "scene": {
           "xaxis": {
            "backgroundcolor": "#E5ECF6",
            "gridcolor": "white",
            "gridwidth": 2,
            "linecolor": "white",
            "showbackground": true,
            "ticks": "",
            "zerolinecolor": "white"
           },
           "yaxis": {
            "backgroundcolor": "#E5ECF6",
            "gridcolor": "white",
            "gridwidth": 2,
            "linecolor": "white",
            "showbackground": true,
            "ticks": "",
            "zerolinecolor": "white"
           },
           "zaxis": {
            "backgroundcolor": "#E5ECF6",
            "gridcolor": "white",
            "gridwidth": 2,
            "linecolor": "white",
            "showbackground": true,
            "ticks": "",
            "zerolinecolor": "white"
           }
          },
          "shapedefaults": {
           "line": {
            "color": "#2a3f5f"
           }
          },
          "ternary": {
           "aaxis": {
            "gridcolor": "white",
            "linecolor": "white",
            "ticks": ""
           },
           "baxis": {
            "gridcolor": "white",
            "linecolor": "white",
            "ticks": ""
           },
           "bgcolor": "#E5ECF6",
           "caxis": {
            "gridcolor": "white",
            "linecolor": "white",
            "ticks": ""
           }
          },
          "title": {
           "x": 0.05
          },
          "xaxis": {
           "automargin": true,
           "gridcolor": "white",
           "linecolor": "white",
           "ticks": "",
           "title": {
            "standoff": 15
           },
           "zerolinecolor": "white",
           "zerolinewidth": 2
          },
          "yaxis": {
           "automargin": true,
           "gridcolor": "white",
           "linecolor": "white",
           "ticks": "",
           "title": {
            "standoff": 15
           },
           "zerolinecolor": "white",
           "zerolinewidth": 2
          }
         }
        },
        "title": {
         "text": "Distribution of Total Tackles by School"
        },
        "xaxis": {
         "anchor": "y",
         "domain": [
          0,
          1
         ],
         "range": [
          447,
          823
         ],
         "title": {
          "text": "Total Tackles"
         }
        },
        "xaxis2": {
         "anchor": "y2",
         "domain": [
          0,
          1
         ],
         "matches": "x",
         "showgrid": true,
         "showticklabels": false
        },
        "yaxis": {
         "anchor": "x",
         "domain": [
          0,
          0.8316
         ],
         "title": {
          "text": "Number of Schools"
         }
        },
        "yaxis2": {
         "anchor": "x2",
         "domain": [
          0.8416,
          1
         ],
         "matches": "y2",
         "showgrid": false,
         "showline": false,
         "showticklabels": false,
         "ticks": ""
        }
       }
      },
      "text/html": [
       "<div>                            <div id=\"91efcbca-e8a4-4864-822f-6758d9be66f0\" class=\"plotly-graph-div\" style=\"height:525px; width:100%;\"></div>            <script type=\"text/javascript\">                require([\"plotly\"], function(Plotly) {                    window.PLOTLYENV=window.PLOTLYENV || {};                                    if (document.getElementById(\"91efcbca-e8a4-4864-822f-6758d9be66f0\")) {                    Plotly.newPlot(                        \"91efcbca-e8a4-4864-822f-6758d9be66f0\",                        [{\"alignmentgroup\":\"True\",\"bingroup\":\"x\",\"hovertemplate\":\"Total Tackles=%{x}\\u003cbr\\u003ecount=%{y}\\u003cextra\\u003e\\u003c\\u002fextra\\u003e\",\"legendgroup\":\"\",\"marker\":{\"color\":\"blue\",\"opacity\":0.7,\"pattern\":{\"shape\":\"\"}},\"name\":\"\",\"nbinsx\":20,\"offsetgroup\":\"\",\"orientation\":\"v\",\"showlegend\":false,\"x\":[823,781,735,724,717,706,692,684,683,682,677,677,672,672,670,663,657,656,653,645,644,640,635,634,633,631,631,630,630,630,629,626,623,622,622,620,619,619,615,614,613,612,612,609,605,605,605,605,605,605,600,599,596,595,595,595,594,594,593,592,592,588,588,588,587,587,587,587,585,584,583,583,583,583,582,582,580,578,577,577,577,576,574,574,573,573,573,571,570,569,568,568,563,562,561,560,560,559,559,558,558,556,552,552,551,550,550,548,547,547,546,542,538,537,536,532,532,532,529,524,522,521,519,519,515,511,509,505,504,502,500,482,447],\"xaxis\":\"x\",\"yaxis\":\"y\",\"type\":\"histogram\"},{\"alignmentgroup\":\"True\",\"hovertemplate\":\"Total Tackles=%{x}\\u003cextra\\u003e\\u003c\\u002fextra\\u003e\",\"legendgroup\":\"\",\"marker\":{\"color\":\"blue\"},\"name\":\"\",\"notched\":true,\"offsetgroup\":\"\",\"showlegend\":false,\"x\":[823,781,735,724,717,706,692,684,683,682,677,677,672,672,670,663,657,656,653,645,644,640,635,634,633,631,631,630,630,630,629,626,623,622,622,620,619,619,615,614,613,612,612,609,605,605,605,605,605,605,600,599,596,595,595,595,594,594,593,592,592,588,588,588,587,587,587,587,585,584,583,583,583,583,582,582,580,578,577,577,577,576,574,574,573,573,573,571,570,569,568,568,563,562,561,560,560,559,559,558,558,556,552,552,551,550,550,548,547,547,546,542,538,537,536,532,532,532,529,524,522,521,519,519,515,511,509,505,504,502,500,482,447],\"xaxis\":\"x2\",\"yaxis\":\"y2\",\"type\":\"box\"}],                        {\"template\":{\"data\":{\"histogram2dcontour\":[{\"type\":\"histogram2dcontour\",\"colorbar\":{\"outlinewidth\":0,\"ticks\":\"\"},\"colorscale\":[[0.0,\"#0d0887\"],[0.1111111111111111,\"#46039f\"],[0.2222222222222222,\"#7201a8\"],[0.3333333333333333,\"#9c179e\"],[0.4444444444444444,\"#bd3786\"],[0.5555555555555556,\"#d8576b\"],[0.6666666666666666,\"#ed7953\"],[0.7777777777777778,\"#fb9f3a\"],[0.8888888888888888,\"#fdca26\"],[1.0,\"#f0f921\"]]}],\"choropleth\":[{\"type\":\"choropleth\",\"colorbar\":{\"outlinewidth\":0,\"ticks\":\"\"}}],\"histogram2d\":[{\"type\":\"histogram2d\",\"colorbar\":{\"outlinewidth\":0,\"ticks\":\"\"},\"colorscale\":[[0.0,\"#0d0887\"],[0.1111111111111111,\"#46039f\"],[0.2222222222222222,\"#7201a8\"],[0.3333333333333333,\"#9c179e\"],[0.4444444444444444,\"#bd3786\"],[0.5555555555555556,\"#d8576b\"],[0.6666666666666666,\"#ed7953\"],[0.7777777777777778,\"#fb9f3a\"],[0.8888888888888888,\"#fdca26\"],[1.0,\"#f0f921\"]]}],\"heatmap\":[{\"type\":\"heatmap\",\"colorbar\":{\"outlinewidth\":0,\"ticks\":\"\"},\"colorscale\":[[0.0,\"#0d0887\"],[0.1111111111111111,\"#46039f\"],[0.2222222222222222,\"#7201a8\"],[0.3333333333333333,\"#9c179e\"],[0.4444444444444444,\"#bd3786\"],[0.5555555555555556,\"#d8576b\"],[0.6666666666666666,\"#ed7953\"],[0.7777777777777778,\"#fb9f3a\"],[0.8888888888888888,\"#fdca26\"],[1.0,\"#f0f921\"]]}],\"heatmapgl\":[{\"type\":\"heatmapgl\",\"colorbar\":{\"outlinewidth\":0,\"ticks\":\"\"},\"colorscale\":[[0.0,\"#0d0887\"],[0.1111111111111111,\"#46039f\"],[0.2222222222222222,\"#7201a8\"],[0.3333333333333333,\"#9c179e\"],[0.4444444444444444,\"#bd3786\"],[0.5555555555555556,\"#d8576b\"],[0.6666666666666666,\"#ed7953\"],[0.7777777777777778,\"#fb9f3a\"],[0.8888888888888888,\"#fdca26\"],[1.0,\"#f0f921\"]]}],\"contourcarpet\":[{\"type\":\"contourcarpet\",\"colorbar\":{\"outlinewidth\":0,\"ticks\":\"\"}}],\"contour\":[{\"type\":\"contour\",\"colorbar\":{\"outlinewidth\":0,\"ticks\":\"\"},\"colorscale\":[[0.0,\"#0d0887\"],[0.1111111111111111,\"#46039f\"],[0.2222222222222222,\"#7201a8\"],[0.3333333333333333,\"#9c179e\"],[0.4444444444444444,\"#bd3786\"],[0.5555555555555556,\"#d8576b\"],[0.6666666666666666,\"#ed7953\"],[0.7777777777777778,\"#fb9f3a\"],[0.8888888888888888,\"#fdca26\"],[1.0,\"#f0f921\"]]}],\"surface\":[{\"type\":\"surface\",\"colorbar\":{\"outlinewidth\":0,\"ticks\":\"\"},\"colorscale\":[[0.0,\"#0d0887\"],[0.1111111111111111,\"#46039f\"],[0.2222222222222222,\"#7201a8\"],[0.3333333333333333,\"#9c179e\"],[0.4444444444444444,\"#bd3786\"],[0.5555555555555556,\"#d8576b\"],[0.6666666666666666,\"#ed7953\"],[0.7777777777777778,\"#fb9f3a\"],[0.8888888888888888,\"#fdca26\"],[1.0,\"#f0f921\"]]}],\"mesh3d\":[{\"type\":\"mesh3d\",\"colorbar\":{\"outlinewidth\":0,\"ticks\":\"\"}}],\"scatter\":[{\"fillpattern\":{\"fillmode\":\"overlay\",\"size\":10,\"solidity\":0.2},\"type\":\"scatter\"}],\"parcoords\":[{\"type\":\"parcoords\",\"line\":{\"colorbar\":{\"outlinewidth\":0,\"ticks\":\"\"}}}],\"scatterpolargl\":[{\"type\":\"scatterpolargl\",\"marker\":{\"colorbar\":{\"outlinewidth\":0,\"ticks\":\"\"}}}],\"bar\":[{\"error_x\":{\"color\":\"#2a3f5f\"},\"error_y\":{\"color\":\"#2a3f5f\"},\"marker\":{\"line\":{\"color\":\"#E5ECF6\",\"width\":0.5},\"pattern\":{\"fillmode\":\"overlay\",\"size\":10,\"solidity\":0.2}},\"type\":\"bar\"}],\"scattergeo\":[{\"type\":\"scattergeo\",\"marker\":{\"colorbar\":{\"outlinewidth\":0,\"ticks\":\"\"}}}],\"scatterpolar\":[{\"type\":\"scatterpolar\",\"marker\":{\"colorbar\":{\"outlinewidth\":0,\"ticks\":\"\"}}}],\"histogram\":[{\"marker\":{\"pattern\":{\"fillmode\":\"overlay\",\"size\":10,\"solidity\":0.2}},\"type\":\"histogram\"}],\"scattergl\":[{\"type\":\"scattergl\",\"marker\":{\"colorbar\":{\"outlinewidth\":0,\"ticks\":\"\"}}}],\"scatter3d\":[{\"type\":\"scatter3d\",\"line\":{\"colorbar\":{\"outlinewidth\":0,\"ticks\":\"\"}},\"marker\":{\"colorbar\":{\"outlinewidth\":0,\"ticks\":\"\"}}}],\"scattermapbox\":[{\"type\":\"scattermapbox\",\"marker\":{\"colorbar\":{\"outlinewidth\":0,\"ticks\":\"\"}}}],\"scatterternary\":[{\"type\":\"scatterternary\",\"marker\":{\"colorbar\":{\"outlinewidth\":0,\"ticks\":\"\"}}}],\"scattercarpet\":[{\"type\":\"scattercarpet\",\"marker\":{\"colorbar\":{\"outlinewidth\":0,\"ticks\":\"\"}}}],\"carpet\":[{\"aaxis\":{\"endlinecolor\":\"#2a3f5f\",\"gridcolor\":\"white\",\"linecolor\":\"white\",\"minorgridcolor\":\"white\",\"startlinecolor\":\"#2a3f5f\"},\"baxis\":{\"endlinecolor\":\"#2a3f5f\",\"gridcolor\":\"white\",\"linecolor\":\"white\",\"minorgridcolor\":\"white\",\"startlinecolor\":\"#2a3f5f\"},\"type\":\"carpet\"}],\"table\":[{\"cells\":{\"fill\":{\"color\":\"#EBF0F8\"},\"line\":{\"color\":\"white\"}},\"header\":{\"fill\":{\"color\":\"#C8D4E3\"},\"line\":{\"color\":\"white\"}},\"type\":\"table\"}],\"barpolar\":[{\"marker\":{\"line\":{\"color\":\"#E5ECF6\",\"width\":0.5},\"pattern\":{\"fillmode\":\"overlay\",\"size\":10,\"solidity\":0.2}},\"type\":\"barpolar\"}],\"pie\":[{\"automargin\":true,\"type\":\"pie\"}]},\"layout\":{\"autotypenumbers\":\"strict\",\"colorway\":[\"#636efa\",\"#EF553B\",\"#00cc96\",\"#ab63fa\",\"#FFA15A\",\"#19d3f3\",\"#FF6692\",\"#B6E880\",\"#FF97FF\",\"#FECB52\"],\"font\":{\"color\":\"#2a3f5f\"},\"hovermode\":\"closest\",\"hoverlabel\":{\"align\":\"left\"},\"paper_bgcolor\":\"white\",\"plot_bgcolor\":\"#E5ECF6\",\"polar\":{\"bgcolor\":\"#E5ECF6\",\"angularaxis\":{\"gridcolor\":\"white\",\"linecolor\":\"white\",\"ticks\":\"\"},\"radialaxis\":{\"gridcolor\":\"white\",\"linecolor\":\"white\",\"ticks\":\"\"}},\"ternary\":{\"bgcolor\":\"#E5ECF6\",\"aaxis\":{\"gridcolor\":\"white\",\"linecolor\":\"white\",\"ticks\":\"\"},\"baxis\":{\"gridcolor\":\"white\",\"linecolor\":\"white\",\"ticks\":\"\"},\"caxis\":{\"gridcolor\":\"white\",\"linecolor\":\"white\",\"ticks\":\"\"}},\"coloraxis\":{\"colorbar\":{\"outlinewidth\":0,\"ticks\":\"\"}},\"colorscale\":{\"sequential\":[[0.0,\"#0d0887\"],[0.1111111111111111,\"#46039f\"],[0.2222222222222222,\"#7201a8\"],[0.3333333333333333,\"#9c179e\"],[0.4444444444444444,\"#bd3786\"],[0.5555555555555556,\"#d8576b\"],[0.6666666666666666,\"#ed7953\"],[0.7777777777777778,\"#fb9f3a\"],[0.8888888888888888,\"#fdca26\"],[1.0,\"#f0f921\"]],\"sequentialminus\":[[0.0,\"#0d0887\"],[0.1111111111111111,\"#46039f\"],[0.2222222222222222,\"#7201a8\"],[0.3333333333333333,\"#9c179e\"],[0.4444444444444444,\"#bd3786\"],[0.5555555555555556,\"#d8576b\"],[0.6666666666666666,\"#ed7953\"],[0.7777777777777778,\"#fb9f3a\"],[0.8888888888888888,\"#fdca26\"],[1.0,\"#f0f921\"]],\"diverging\":[[0,\"#8e0152\"],[0.1,\"#c51b7d\"],[0.2,\"#de77ae\"],[0.3,\"#f1b6da\"],[0.4,\"#fde0ef\"],[0.5,\"#f7f7f7\"],[0.6,\"#e6f5d0\"],[0.7,\"#b8e186\"],[0.8,\"#7fbc41\"],[0.9,\"#4d9221\"],[1,\"#276419\"]]},\"xaxis\":{\"gridcolor\":\"white\",\"linecolor\":\"white\",\"ticks\":\"\",\"title\":{\"standoff\":15},\"zerolinecolor\":\"white\",\"automargin\":true,\"zerolinewidth\":2},\"yaxis\":{\"gridcolor\":\"white\",\"linecolor\":\"white\",\"ticks\":\"\",\"title\":{\"standoff\":15},\"zerolinecolor\":\"white\",\"automargin\":true,\"zerolinewidth\":2},\"scene\":{\"xaxis\":{\"backgroundcolor\":\"#E5ECF6\",\"gridcolor\":\"white\",\"linecolor\":\"white\",\"showbackground\":true,\"ticks\":\"\",\"zerolinecolor\":\"white\",\"gridwidth\":2},\"yaxis\":{\"backgroundcolor\":\"#E5ECF6\",\"gridcolor\":\"white\",\"linecolor\":\"white\",\"showbackground\":true,\"ticks\":\"\",\"zerolinecolor\":\"white\",\"gridwidth\":2},\"zaxis\":{\"backgroundcolor\":\"#E5ECF6\",\"gridcolor\":\"white\",\"linecolor\":\"white\",\"showbackground\":true,\"ticks\":\"\",\"zerolinecolor\":\"white\",\"gridwidth\":2}},\"shapedefaults\":{\"line\":{\"color\":\"#2a3f5f\"}},\"annotationdefaults\":{\"arrowcolor\":\"#2a3f5f\",\"arrowhead\":0,\"arrowwidth\":1},\"geo\":{\"bgcolor\":\"white\",\"landcolor\":\"#E5ECF6\",\"subunitcolor\":\"white\",\"showland\":true,\"showlakes\":true,\"lakecolor\":\"white\"},\"title\":{\"x\":0.05},\"mapbox\":{\"style\":\"light\"}}},\"xaxis\":{\"anchor\":\"y\",\"domain\":[0.0,1.0],\"title\":{\"text\":\"Total Tackles\"},\"range\":[447,823]},\"yaxis\":{\"anchor\":\"x\",\"domain\":[0.0,0.8316],\"title\":{\"text\":\"Number of Schools\"}},\"xaxis2\":{\"anchor\":\"y2\",\"domain\":[0.0,1.0],\"matches\":\"x\",\"showticklabels\":false,\"showgrid\":true},\"yaxis2\":{\"anchor\":\"x2\",\"domain\":[0.8416,1.0],\"matches\":\"y2\",\"showticklabels\":false,\"showline\":false,\"ticks\":\"\",\"showgrid\":false},\"legend\":{\"tracegroupgap\":0},\"title\":{\"text\":\"Distribution of Total Tackles by School\"},\"barmode\":\"relative\"},                        {\"responsive\": true}                    ).then(function(){\n",
       "                            \n",
       "var gd = document.getElementById('91efcbca-e8a4-4864-822f-6758d9be66f0');\n",
       "var x = new MutationObserver(function (mutations, observer) {{\n",
       "        var display = window.getComputedStyle(gd).display;\n",
       "        if (!display || display === 'none') {{\n",
       "            console.log([gd, 'removed!']);\n",
       "            Plotly.purge(gd);\n",
       "            observer.disconnect();\n",
       "        }}\n",
       "}});\n",
       "\n",
       "// Listen for the removal of the full notebook cells\n",
       "var notebookContainer = gd.closest('#notebook-container');\n",
       "if (notebookContainer) {{\n",
       "    x.observe(notebookContainer, {childList: true});\n",
       "}}\n",
       "\n",
       "// Listen for the clearing of the current output cell\n",
       "var outputEl = gd.closest('.output');\n",
       "if (outputEl) {{\n",
       "    x.observe(outputEl, {childList: true});\n",
       "}}\n",
       "\n",
       "                        })                };                });            </script>        </div>"
      ]
     },
     "metadata": {},
     "output_type": "display_data"
    }
   ],
   "source": [
    "Score_Diff('CLEM','GT')\n",
    "RushLeader_Score_Diff('CLEM','GT')\n",
    "PassLeader_Score_Diff('CLEM','GT')\n",
    "\n",
    "TotHist()\n"
   ]
  },
  {
   "cell_type": "code",
   "execution_count": null,
   "metadata": {},
   "outputs": [
    {
     "data": {
      "text/html": [
       "<div>\n",
       "<style scoped>\n",
       "    .dataframe tbody tr th:only-of-type {\n",
       "        vertical-align: middle;\n",
       "    }\n",
       "\n",
       "    .dataframe tbody tr th {\n",
       "        vertical-align: top;\n",
       "    }\n",
       "\n",
       "    .dataframe thead th {\n",
       "        text-align: right;\n",
       "    }\n",
       "</style>\n",
       "<table border=\"1\" class=\"dataframe\">\n",
       "  <thead>\n",
       "    <tr style=\"text-align: right;\">\n",
       "      <th></th>\n",
       "      <th>SOLO</th>\n",
       "      <th>AST</th>\n",
       "      <th>TOT</th>\n",
       "      <th>SACK</th>\n",
       "      <th>YDS</th>\n",
       "      <th>PD</th>\n",
       "      <th>INT</th>\n",
       "      <th>LNG</th>\n",
       "      <th>TD</th>\n",
       "      <th>FF</th>\n",
       "    </tr>\n",
       "  </thead>\n",
       "  <tbody>\n",
       "    <tr>\n",
       "      <th>count</th>\n",
       "      <td>5537.000000</td>\n",
       "      <td>5537.000000</td>\n",
       "      <td>5537.000000</td>\n",
       "      <td>5537.000000</td>\n",
       "      <td>5537.000000</td>\n",
       "      <td>5537.000000</td>\n",
       "      <td>5537.000000</td>\n",
       "      <td>5537.000000</td>\n",
       "      <td>5537.000000</td>\n",
       "      <td>5537.000000</td>\n",
       "    </tr>\n",
       "    <tr>\n",
       "      <th>mean</th>\n",
       "      <td>7.828066</td>\n",
       "      <td>6.419541</td>\n",
       "      <td>14.247607</td>\n",
       "      <td>0.487538</td>\n",
       "      <td>5.300524</td>\n",
       "      <td>0.723858</td>\n",
       "      <td>0.185299</td>\n",
       "      <td>2.030883</td>\n",
       "      <td>0.019686</td>\n",
       "      <td>0.161459</td>\n",
       "    </tr>\n",
       "    <tr>\n",
       "      <th>std</th>\n",
       "      <td>9.449557</td>\n",
       "      <td>8.260857</td>\n",
       "      <td>16.678659</td>\n",
       "      <td>1.126095</td>\n",
       "      <td>12.791386</td>\n",
       "      <td>1.475889</td>\n",
       "      <td>0.570513</td>\n",
       "      <td>8.975296</td>\n",
       "      <td>0.145286</td>\n",
       "      <td>0.461615</td>\n",
       "    </tr>\n",
       "    <tr>\n",
       "      <th>min</th>\n",
       "      <td>0.000000</td>\n",
       "      <td>0.000000</td>\n",
       "      <td>0.000000</td>\n",
       "      <td>0.000000</td>\n",
       "      <td>-10.000000</td>\n",
       "      <td>0.000000</td>\n",
       "      <td>0.000000</td>\n",
       "      <td>-10.000000</td>\n",
       "      <td>0.000000</td>\n",
       "      <td>0.000000</td>\n",
       "    </tr>\n",
       "    <tr>\n",
       "      <th>25%</th>\n",
       "      <td>1.000000</td>\n",
       "      <td>1.000000</td>\n",
       "      <td>2.000000</td>\n",
       "      <td>0.000000</td>\n",
       "      <td>0.000000</td>\n",
       "      <td>0.000000</td>\n",
       "      <td>0.000000</td>\n",
       "      <td>0.000000</td>\n",
       "      <td>0.000000</td>\n",
       "      <td>0.000000</td>\n",
       "    </tr>\n",
       "    <tr>\n",
       "      <th>50%</th>\n",
       "      <td>4.000000</td>\n",
       "      <td>3.000000</td>\n",
       "      <td>7.000000</td>\n",
       "      <td>0.000000</td>\n",
       "      <td>0.000000</td>\n",
       "      <td>0.000000</td>\n",
       "      <td>0.000000</td>\n",
       "      <td>0.000000</td>\n",
       "      <td>0.000000</td>\n",
       "      <td>0.000000</td>\n",
       "    </tr>\n",
       "    <tr>\n",
       "      <th>75%</th>\n",
       "      <td>12.000000</td>\n",
       "      <td>10.000000</td>\n",
       "      <td>21.000000</td>\n",
       "      <td>0.500000</td>\n",
       "      <td>5.000000</td>\n",
       "      <td>1.000000</td>\n",
       "      <td>0.000000</td>\n",
       "      <td>0.000000</td>\n",
       "      <td>0.000000</td>\n",
       "      <td>0.000000</td>\n",
       "    </tr>\n",
       "    <tr>\n",
       "      <th>max</th>\n",
       "      <td>71.000000</td>\n",
       "      <td>98.000000</td>\n",
       "      <td>139.000000</td>\n",
       "      <td>15.500000</td>\n",
       "      <td>167.000000</td>\n",
       "      <td>17.000000</td>\n",
       "      <td>7.000000</td>\n",
       "      <td>100.000000</td>\n",
       "      <td>2.000000</td>\n",
       "      <td>5.000000</td>\n",
       "    </tr>\n",
       "  </tbody>\n",
       "</table>\n",
       "</div>"
      ],
      "text/plain": [
       "              SOLO          AST          TOT         SACK          YDS  \\\n",
       "count  5537.000000  5537.000000  5537.000000  5537.000000  5537.000000   \n",
       "mean      7.828066     6.419541    14.247607     0.487538     5.300524   \n",
       "std       9.449557     8.260857    16.678659     1.126095    12.791386   \n",
       "min       0.000000     0.000000     0.000000     0.000000   -10.000000   \n",
       "25%       1.000000     1.000000     2.000000     0.000000     0.000000   \n",
       "50%       4.000000     3.000000     7.000000     0.000000     0.000000   \n",
       "75%      12.000000    10.000000    21.000000     0.500000     5.000000   \n",
       "max      71.000000    98.000000   139.000000    15.500000   167.000000   \n",
       "\n",
       "                PD          INT          LNG           TD           FF  \n",
       "count  5537.000000  5537.000000  5537.000000  5537.000000  5537.000000  \n",
       "mean      0.723858     0.185299     2.030883     0.019686     0.161459  \n",
       "std       1.475889     0.570513     8.975296     0.145286     0.461615  \n",
       "min       0.000000     0.000000   -10.000000     0.000000     0.000000  \n",
       "25%       0.000000     0.000000     0.000000     0.000000     0.000000  \n",
       "50%       0.000000     0.000000     0.000000     0.000000     0.000000  \n",
       "75%       1.000000     0.000000     0.000000     0.000000     0.000000  \n",
       "max      17.000000     7.000000   100.000000     2.000000     5.000000  "
      ]
     },
     "execution_count": 17,
     "metadata": {},
     "output_type": "execute_result"
    }
   ],
   "source": [
    "#overall stats about data\n",
    "NCAA_df.describe()"
   ]
  }
 ],
 "metadata": {
  "kernelspec": {
   "display_name": "Python 3 (ipykernel)",
   "language": "python",
   "name": "python3"
  },
  "language_info": {
   "codemirror_mode": {
    "name": "ipython",
    "version": 3
   },
   "file_extension": ".py",
   "mimetype": "text/x-python",
   "name": "python",
   "nbconvert_exporter": "python",
   "pygments_lexer": "ipython3",
   "version": "3.10.8"
  }
 },
 "nbformat": 4,
 "nbformat_minor": 2
}
